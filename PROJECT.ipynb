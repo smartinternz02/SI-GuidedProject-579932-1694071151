{
  "cells": [
    {
      "cell_type": "code",
      "execution_count": null,
      "metadata": {
        "id": "CmKdKsH5caFq"
      },
      "outputs": [],
      "source": [
        "import numpy as np"
      ]
    },
    {
      "cell_type": "code",
      "execution_count": null,
      "metadata": {
        "id": "Nbenrd5vctUH"
      },
      "outputs": [],
      "source": [
        "import pandas as pd\n"
      ]
    },
    {
      "cell_type": "code",
      "execution_count": null,
      "metadata": {
        "id": "nNIO4OwzctXl"
      },
      "outputs": [],
      "source": [
        "import matplotlib.pyplot as plt\n",
        "import seaborn as sns\n",
        "import pickle"
      ]
    },
    {
      "cell_type": "code",
      "execution_count": null,
      "metadata": {
        "id": "m27Ytwjjctba"
      },
      "outputs": [],
      "source": [
        "from sklearn.model_selection import train_test_split\n",
        "from sklearn.metrics import accuracy_score, confusion_matrix, f1_score\n",
        "from sklearn.neighbors import KNeighborsClassifier"
      ]
    },
    {
      "cell_type": "code",
      "execution_count": null,
      "metadata": {
        "id": "w7mdxKj1dL-R"
      },
      "outputs": [],
      "source": [
        "\n",
        "from sklearn.svm import SVC\n",
        "from sklearn.naive_bayes import GaussianNB\n"
      ]
    },
    {
      "cell_type": "code",
      "execution_count": null,
      "metadata": {
        "id": "RzVXpcwCdQCq"
      },
      "outputs": [],
      "source": [
        "from sklearn.tree import DecisionTreeClassifier\n",
        "from sklearn.linear_model import LogisticRegression\n",
        "from sklearn.ensemble import GradientBoostingClassifier, RandomForestClassifier"
      ]
    },
    {
      "cell_type": "code",
      "execution_count": null,
      "metadata": {
        "id": "sJS7MT5vdQFg"
      },
      "outputs": [],
      "source": [
        "train = pd.read_csv(\"/content/train__dataset.csv\")"
      ]
    },
    {
      "cell_type": "code",
      "execution_count": null,
      "metadata": {
        "colab": {
          "base_uri": "https://localhost:8080/",
          "height": 226
        },
        "id": "CuIr4FpDdQIl",
        "outputId": "c8605e06-ceef-49c2-9fdf-baf7df009342"
      },
      "outputs": [
        {
          "data": {
            "text/html": [
              "\n",
              "  <div id=\"df-70b7c8e4-900f-4132-a522-fb200ef29bd1\" class=\"colab-df-container\">\n",
              "    <div>\n",
              "<style scoped>\n",
              "    .dataframe tbody tr th:only-of-type {\n",
              "        vertical-align: middle;\n",
              "    }\n",
              "\n",
              "    .dataframe tbody tr th {\n",
              "        vertical-align: top;\n",
              "    }\n",
              "\n",
              "    .dataframe thead th {\n",
              "        text-align: right;\n",
              "    }\n",
              "</style>\n",
              "<table border=\"1\" class=\"dataframe\">\n",
              "  <thead>\n",
              "    <tr style=\"text-align: right;\">\n",
              "      <th></th>\n",
              "      <th>no_of_adults</th>\n",
              "      <th>no_of_children</th>\n",
              "      <th>no_of_weekend_nights</th>\n",
              "      <th>no_of_week_nights</th>\n",
              "      <th>type_of_meal_plan</th>\n",
              "      <th>required_car_parking_space</th>\n",
              "      <th>room_type_reserved</th>\n",
              "      <th>lead_time</th>\n",
              "      <th>arrival_year</th>\n",
              "      <th>arrival_month</th>\n",
              "      <th>arrival_date</th>\n",
              "      <th>market_segment_type</th>\n",
              "      <th>repeated_guest</th>\n",
              "      <th>no_of_previous_cancellations</th>\n",
              "      <th>no_of_previous_bookings_not_canceled</th>\n",
              "      <th>avg_price_per_room</th>\n",
              "      <th>no_of_special_requests</th>\n",
              "      <th>booking_status</th>\n",
              "    </tr>\n",
              "  </thead>\n",
              "  <tbody>\n",
              "    <tr>\n",
              "      <th>0</th>\n",
              "      <td>2</td>\n",
              "      <td>0</td>\n",
              "      <td>1</td>\n",
              "      <td>4</td>\n",
              "      <td>0</td>\n",
              "      <td>0</td>\n",
              "      <td>0</td>\n",
              "      <td>118</td>\n",
              "      <td>2017</td>\n",
              "      <td>12</td>\n",
              "      <td>28</td>\n",
              "      <td>1</td>\n",
              "      <td>0</td>\n",
              "      <td>0</td>\n",
              "      <td>0</td>\n",
              "      <td>110.80</td>\n",
              "      <td>2</td>\n",
              "      <td>0</td>\n",
              "    </tr>\n",
              "    <tr>\n",
              "      <th>1</th>\n",
              "      <td>2</td>\n",
              "      <td>1</td>\n",
              "      <td>0</td>\n",
              "      <td>2</td>\n",
              "      <td>0</td>\n",
              "      <td>0</td>\n",
              "      <td>0</td>\n",
              "      <td>17</td>\n",
              "      <td>2018</td>\n",
              "      <td>4</td>\n",
              "      <td>14</td>\n",
              "      <td>1</td>\n",
              "      <td>0</td>\n",
              "      <td>0</td>\n",
              "      <td>0</td>\n",
              "      <td>145.00</td>\n",
              "      <td>0</td>\n",
              "      <td>1</td>\n",
              "    </tr>\n",
              "    <tr>\n",
              "      <th>2</th>\n",
              "      <td>1</td>\n",
              "      <td>0</td>\n",
              "      <td>1</td>\n",
              "      <td>5</td>\n",
              "      <td>0</td>\n",
              "      <td>0</td>\n",
              "      <td>0</td>\n",
              "      <td>349</td>\n",
              "      <td>2018</td>\n",
              "      <td>10</td>\n",
              "      <td>4</td>\n",
              "      <td>0</td>\n",
              "      <td>0</td>\n",
              "      <td>0</td>\n",
              "      <td>0</td>\n",
              "      <td>96.67</td>\n",
              "      <td>0</td>\n",
              "      <td>1</td>\n",
              "    </tr>\n",
              "    <tr>\n",
              "      <th>3</th>\n",
              "      <td>1</td>\n",
              "      <td>0</td>\n",
              "      <td>2</td>\n",
              "      <td>4</td>\n",
              "      <td>0</td>\n",
              "      <td>0</td>\n",
              "      <td>0</td>\n",
              "      <td>69</td>\n",
              "      <td>2018</td>\n",
              "      <td>6</td>\n",
              "      <td>12</td>\n",
              "      <td>0</td>\n",
              "      <td>0</td>\n",
              "      <td>0</td>\n",
              "      <td>0</td>\n",
              "      <td>120.00</td>\n",
              "      <td>0</td>\n",
              "      <td>1</td>\n",
              "    </tr>\n",
              "    <tr>\n",
              "      <th>4</th>\n",
              "      <td>2</td>\n",
              "      <td>0</td>\n",
              "      <td>0</td>\n",
              "      <td>4</td>\n",
              "      <td>1</td>\n",
              "      <td>0</td>\n",
              "      <td>0</td>\n",
              "      <td>11</td>\n",
              "      <td>2018</td>\n",
              "      <td>1</td>\n",
              "      <td>20</td>\n",
              "      <td>1</td>\n",
              "      <td>0</td>\n",
              "      <td>0</td>\n",
              "      <td>0</td>\n",
              "      <td>69.50</td>\n",
              "      <td>1</td>\n",
              "      <td>0</td>\n",
              "    </tr>\n",
              "  </tbody>\n",
              "</table>\n",
              "</div>\n",
              "    <div class=\"colab-df-buttons\">\n",
              "\n",
              "  <div class=\"colab-df-container\">\n",
              "    <button class=\"colab-df-convert\" onclick=\"convertToInteractive('df-70b7c8e4-900f-4132-a522-fb200ef29bd1')\"\n",
              "            title=\"Convert this dataframe to an interactive table.\"\n",
              "            style=\"display:none;\">\n",
              "\n",
              "  <svg xmlns=\"http://www.w3.org/2000/svg\" height=\"24px\" viewBox=\"0 -960 960 960\">\n",
              "    <path d=\"M120-120v-720h720v720H120Zm60-500h600v-160H180v160Zm220 220h160v-160H400v160Zm0 220h160v-160H400v160ZM180-400h160v-160H180v160Zm440 0h160v-160H620v160ZM180-180h160v-160H180v160Zm440 0h160v-160H620v160Z\"/>\n",
              "  </svg>\n",
              "    </button>\n",
              "\n",
              "  <style>\n",
              "    .colab-df-container {\n",
              "      display:flex;\n",
              "      gap: 12px;\n",
              "    }\n",
              "\n",
              "    .colab-df-convert {\n",
              "      background-color: #E8F0FE;\n",
              "      border: none;\n",
              "      border-radius: 50%;\n",
              "      cursor: pointer;\n",
              "      display: none;\n",
              "      fill: #1967D2;\n",
              "      height: 32px;\n",
              "      padding: 0 0 0 0;\n",
              "      width: 32px;\n",
              "    }\n",
              "\n",
              "    .colab-df-convert:hover {\n",
              "      background-color: #E2EBFA;\n",
              "      box-shadow: 0px 1px 2px rgba(60, 64, 67, 0.3), 0px 1px 3px 1px rgba(60, 64, 67, 0.15);\n",
              "      fill: #174EA6;\n",
              "    }\n",
              "\n",
              "    .colab-df-buttons div {\n",
              "      margin-bottom: 4px;\n",
              "    }\n",
              "\n",
              "    [theme=dark] .colab-df-convert {\n",
              "      background-color: #3B4455;\n",
              "      fill: #D2E3FC;\n",
              "    }\n",
              "\n",
              "    [theme=dark] .colab-df-convert:hover {\n",
              "      background-color: #434B5C;\n",
              "      box-shadow: 0px 1px 3px 1px rgba(0, 0, 0, 0.15);\n",
              "      filter: drop-shadow(0px 1px 2px rgba(0, 0, 0, 0.3));\n",
              "      fill: #FFFFFF;\n",
              "    }\n",
              "  </style>\n",
              "\n",
              "    <script>\n",
              "      const buttonEl =\n",
              "        document.querySelector('#df-70b7c8e4-900f-4132-a522-fb200ef29bd1 button.colab-df-convert');\n",
              "      buttonEl.style.display =\n",
              "        google.colab.kernel.accessAllowed ? 'block' : 'none';\n",
              "\n",
              "      async function convertToInteractive(key) {\n",
              "        const element = document.querySelector('#df-70b7c8e4-900f-4132-a522-fb200ef29bd1');\n",
              "        const dataTable =\n",
              "          await google.colab.kernel.invokeFunction('convertToInteractive',\n",
              "                                                    [key], {});\n",
              "        if (!dataTable) return;\n",
              "\n",
              "        const docLinkHtml = 'Like what you see? Visit the ' +\n",
              "          '<a target=\"_blank\" href=https://colab.research.google.com/notebooks/data_table.ipynb>data table notebook</a>'\n",
              "          + ' to learn more about interactive tables.';\n",
              "        element.innerHTML = '';\n",
              "        dataTable['output_type'] = 'display_data';\n",
              "        await google.colab.output.renderOutput(dataTable, element);\n",
              "        const docLink = document.createElement('div');\n",
              "        docLink.innerHTML = docLinkHtml;\n",
              "        element.appendChild(docLink);\n",
              "      }\n",
              "    </script>\n",
              "  </div>\n",
              "\n",
              "\n",
              "<div id=\"df-67708b17-5481-4305-9f51-593f3e415206\">\n",
              "  <button class=\"colab-df-quickchart\" onclick=\"quickchart('df-67708b17-5481-4305-9f51-593f3e415206')\"\n",
              "            title=\"Suggest charts.\"\n",
              "            style=\"display:none;\">\n",
              "\n",
              "<svg xmlns=\"http://www.w3.org/2000/svg\" height=\"24px\"viewBox=\"0 0 24 24\"\n",
              "     width=\"24px\">\n",
              "    <g>\n",
              "        <path d=\"M19 3H5c-1.1 0-2 .9-2 2v14c0 1.1.9 2 2 2h14c1.1 0 2-.9 2-2V5c0-1.1-.9-2-2-2zM9 17H7v-7h2v7zm4 0h-2V7h2v10zm4 0h-2v-4h2v4z\"/>\n",
              "    </g>\n",
              "</svg>\n",
              "  </button>\n",
              "\n",
              "<style>\n",
              "  .colab-df-quickchart {\n",
              "      --bg-color: #E8F0FE;\n",
              "      --fill-color: #1967D2;\n",
              "      --hover-bg-color: #E2EBFA;\n",
              "      --hover-fill-color: #174EA6;\n",
              "      --disabled-fill-color: #AAA;\n",
              "      --disabled-bg-color: #DDD;\n",
              "  }\n",
              "\n",
              "  [theme=dark] .colab-df-quickchart {\n",
              "      --bg-color: #3B4455;\n",
              "      --fill-color: #D2E3FC;\n",
              "      --hover-bg-color: #434B5C;\n",
              "      --hover-fill-color: #FFFFFF;\n",
              "      --disabled-bg-color: #3B4455;\n",
              "      --disabled-fill-color: #666;\n",
              "  }\n",
              "\n",
              "  .colab-df-quickchart {\n",
              "    background-color: var(--bg-color);\n",
              "    border: none;\n",
              "    border-radius: 50%;\n",
              "    cursor: pointer;\n",
              "    display: none;\n",
              "    fill: var(--fill-color);\n",
              "    height: 32px;\n",
              "    padding: 0;\n",
              "    width: 32px;\n",
              "  }\n",
              "\n",
              "  .colab-df-quickchart:hover {\n",
              "    background-color: var(--hover-bg-color);\n",
              "    box-shadow: 0 1px 2px rgba(60, 64, 67, 0.3), 0 1px 3px 1px rgba(60, 64, 67, 0.15);\n",
              "    fill: var(--button-hover-fill-color);\n",
              "  }\n",
              "\n",
              "  .colab-df-quickchart-complete:disabled,\n",
              "  .colab-df-quickchart-complete:disabled:hover {\n",
              "    background-color: var(--disabled-bg-color);\n",
              "    fill: var(--disabled-fill-color);\n",
              "    box-shadow: none;\n",
              "  }\n",
              "\n",
              "  .colab-df-spinner {\n",
              "    border: 2px solid var(--fill-color);\n",
              "    border-color: transparent;\n",
              "    border-bottom-color: var(--fill-color);\n",
              "    animation:\n",
              "      spin 1s steps(1) infinite;\n",
              "  }\n",
              "\n",
              "  @keyframes spin {\n",
              "    0% {\n",
              "      border-color: transparent;\n",
              "      border-bottom-color: var(--fill-color);\n",
              "      border-left-color: var(--fill-color);\n",
              "    }\n",
              "    20% {\n",
              "      border-color: transparent;\n",
              "      border-left-color: var(--fill-color);\n",
              "      border-top-color: var(--fill-color);\n",
              "    }\n",
              "    30% {\n",
              "      border-color: transparent;\n",
              "      border-left-color: var(--fill-color);\n",
              "      border-top-color: var(--fill-color);\n",
              "      border-right-color: var(--fill-color);\n",
              "    }\n",
              "    40% {\n",
              "      border-color: transparent;\n",
              "      border-right-color: var(--fill-color);\n",
              "      border-top-color: var(--fill-color);\n",
              "    }\n",
              "    60% {\n",
              "      border-color: transparent;\n",
              "      border-right-color: var(--fill-color);\n",
              "    }\n",
              "    80% {\n",
              "      border-color: transparent;\n",
              "      border-right-color: var(--fill-color);\n",
              "      border-bottom-color: var(--fill-color);\n",
              "    }\n",
              "    90% {\n",
              "      border-color: transparent;\n",
              "      border-bottom-color: var(--fill-color);\n",
              "    }\n",
              "  }\n",
              "</style>\n",
              "\n",
              "  <script>\n",
              "    async function quickchart(key) {\n",
              "      const quickchartButtonEl =\n",
              "        document.querySelector('#' + key + ' button');\n",
              "      quickchartButtonEl.disabled = true;  // To prevent multiple clicks.\n",
              "      quickchartButtonEl.classList.add('colab-df-spinner');\n",
              "      try {\n",
              "        const charts = await google.colab.kernel.invokeFunction(\n",
              "            'suggestCharts', [key], {});\n",
              "      } catch (error) {\n",
              "        console.error('Error during call to suggestCharts:', error);\n",
              "      }\n",
              "      quickchartButtonEl.classList.remove('colab-df-spinner');\n",
              "      quickchartButtonEl.classList.add('colab-df-quickchart-complete');\n",
              "    }\n",
              "    (() => {\n",
              "      let quickchartButtonEl =\n",
              "        document.querySelector('#df-67708b17-5481-4305-9f51-593f3e415206 button');\n",
              "      quickchartButtonEl.style.display =\n",
              "        google.colab.kernel.accessAllowed ? 'block' : 'none';\n",
              "    })();\n",
              "  </script>\n",
              "</div>\n",
              "    </div>\n",
              "  </div>\n"
            ],
            "text/plain": [
              "   no_of_adults  no_of_children  no_of_weekend_nights  no_of_week_nights  \\\n",
              "0             2               0                     1                  4   \n",
              "1             2               1                     0                  2   \n",
              "2             1               0                     1                  5   \n",
              "3             1               0                     2                  4   \n",
              "4             2               0                     0                  4   \n",
              "\n",
              "   type_of_meal_plan  required_car_parking_space  room_type_reserved  \\\n",
              "0                  0                           0                   0   \n",
              "1                  0                           0                   0   \n",
              "2                  0                           0                   0   \n",
              "3                  0                           0                   0   \n",
              "4                  1                           0                   0   \n",
              "\n",
              "   lead_time  arrival_year  arrival_month  arrival_date  market_segment_type  \\\n",
              "0        118          2017             12            28                    1   \n",
              "1         17          2018              4            14                    1   \n",
              "2        349          2018             10             4                    0   \n",
              "3         69          2018              6            12                    0   \n",
              "4         11          2018              1            20                    1   \n",
              "\n",
              "   repeated_guest  no_of_previous_cancellations  \\\n",
              "0               0                             0   \n",
              "1               0                             0   \n",
              "2               0                             0   \n",
              "3               0                             0   \n",
              "4               0                             0   \n",
              "\n",
              "   no_of_previous_bookings_not_canceled  avg_price_per_room  \\\n",
              "0                                     0              110.80   \n",
              "1                                     0              145.00   \n",
              "2                                     0               96.67   \n",
              "3                                     0              120.00   \n",
              "4                                     0               69.50   \n",
              "\n",
              "   no_of_special_requests  booking_status  \n",
              "0                       2               0  \n",
              "1                       0               1  \n",
              "2                       0               1  \n",
              "3                       0               1  \n",
              "4                       1               0  "
            ]
          },
          "execution_count": 8,
          "metadata": {},
          "output_type": "execute_result"
        }
      ],
      "source": [
        "train.head()"
      ]
    },
    {
      "cell_type": "code",
      "execution_count": null,
      "metadata": {
        "colab": {
          "base_uri": "https://localhost:8080/"
        },
        "id": "Oi4-4qAKlA7P",
        "outputId": "f7289b04-6f11-42cb-9929-9501ee94e450"
      },
      "outputs": [
        {
          "data": {
            "text/plain": [
              "(18137, 18)"
            ]
          },
          "execution_count": 9,
          "metadata": {},
          "output_type": "execute_result"
        }
      ],
      "source": [
        "train.shape"
      ]
    },
    {
      "cell_type": "code",
      "execution_count": null,
      "metadata": {
        "id": "Xn7WZ00MehRX"
      },
      "outputs": [],
      "source": [
        "test = pd.read_csv(\"/content/test___dataset.csv\")"
      ]
    },
    {
      "cell_type": "code",
      "execution_count": null,
      "metadata": {
        "colab": {
          "base_uri": "https://localhost:8080/",
          "height": 226
        },
        "id": "YMUw0RBjehTt",
        "outputId": "8ef965fe-2a42-4f5b-b870-e4a1941da3e6"
      },
      "outputs": [
        {
          "data": {
            "text/html": [
              "\n",
              "  <div id=\"df-abe846aa-5341-4430-a43f-1f527d135be7\" class=\"colab-df-container\">\n",
              "    <div>\n",
              "<style scoped>\n",
              "    .dataframe tbody tr th:only-of-type {\n",
              "        vertical-align: middle;\n",
              "    }\n",
              "\n",
              "    .dataframe tbody tr th {\n",
              "        vertical-align: top;\n",
              "    }\n",
              "\n",
              "    .dataframe thead th {\n",
              "        text-align: right;\n",
              "    }\n",
              "</style>\n",
              "<table border=\"1\" class=\"dataframe\">\n",
              "  <thead>\n",
              "    <tr style=\"text-align: right;\">\n",
              "      <th></th>\n",
              "      <th>no_of_adults</th>\n",
              "      <th>no_of_children</th>\n",
              "      <th>no_of_weekend_nights</th>\n",
              "      <th>no_of_week_nights</th>\n",
              "      <th>type_of_meal_plan</th>\n",
              "      <th>required_car_parking_space</th>\n",
              "      <th>room_type_reserved</th>\n",
              "      <th>lead_time</th>\n",
              "      <th>arrival_year</th>\n",
              "      <th>arrival_month</th>\n",
              "      <th>arrival_date</th>\n",
              "      <th>market_segment_type</th>\n",
              "      <th>repeated_guest</th>\n",
              "      <th>no_of_previous_cancellations</th>\n",
              "      <th>no_of_previous_bookings_not_canceled</th>\n",
              "      <th>avg_price_per_room</th>\n",
              "      <th>no_of_special_requests</th>\n",
              "    </tr>\n",
              "  </thead>\n",
              "  <tbody>\n",
              "    <tr>\n",
              "      <th>0</th>\n",
              "      <td>2</td>\n",
              "      <td>0</td>\n",
              "      <td>1</td>\n",
              "      <td>2</td>\n",
              "      <td>0</td>\n",
              "      <td>1</td>\n",
              "      <td>0</td>\n",
              "      <td>65</td>\n",
              "      <td>2018</td>\n",
              "      <td>3</td>\n",
              "      <td>28</td>\n",
              "      <td>1</td>\n",
              "      <td>0</td>\n",
              "      <td>0</td>\n",
              "      <td>0</td>\n",
              "      <td>96.3</td>\n",
              "      <td>0</td>\n",
              "    </tr>\n",
              "    <tr>\n",
              "      <th>1</th>\n",
              "      <td>2</td>\n",
              "      <td>0</td>\n",
              "      <td>0</td>\n",
              "      <td>2</td>\n",
              "      <td>0</td>\n",
              "      <td>0</td>\n",
              "      <td>0</td>\n",
              "      <td>322</td>\n",
              "      <td>2018</td>\n",
              "      <td>12</td>\n",
              "      <td>9</td>\n",
              "      <td>0</td>\n",
              "      <td>0</td>\n",
              "      <td>0</td>\n",
              "      <td>0</td>\n",
              "      <td>52.0</td>\n",
              "      <td>0</td>\n",
              "    </tr>\n",
              "    <tr>\n",
              "      <th>2</th>\n",
              "      <td>1</td>\n",
              "      <td>0</td>\n",
              "      <td>2</td>\n",
              "      <td>3</td>\n",
              "      <td>0</td>\n",
              "      <td>0</td>\n",
              "      <td>0</td>\n",
              "      <td>115</td>\n",
              "      <td>2018</td>\n",
              "      <td>2</td>\n",
              "      <td>27</td>\n",
              "      <td>0</td>\n",
              "      <td>0</td>\n",
              "      <td>0</td>\n",
              "      <td>0</td>\n",
              "      <td>75.0</td>\n",
              "      <td>0</td>\n",
              "    </tr>\n",
              "    <tr>\n",
              "      <th>3</th>\n",
              "      <td>2</td>\n",
              "      <td>0</td>\n",
              "      <td>2</td>\n",
              "      <td>0</td>\n",
              "      <td>2</td>\n",
              "      <td>0</td>\n",
              "      <td>0</td>\n",
              "      <td>386</td>\n",
              "      <td>2018</td>\n",
              "      <td>10</td>\n",
              "      <td>23</td>\n",
              "      <td>1</td>\n",
              "      <td>0</td>\n",
              "      <td>0</td>\n",
              "      <td>0</td>\n",
              "      <td>115.0</td>\n",
              "      <td>1</td>\n",
              "    </tr>\n",
              "    <tr>\n",
              "      <th>4</th>\n",
              "      <td>2</td>\n",
              "      <td>0</td>\n",
              "      <td>1</td>\n",
              "      <td>4</td>\n",
              "      <td>0</td>\n",
              "      <td>0</td>\n",
              "      <td>1</td>\n",
              "      <td>51</td>\n",
              "      <td>2018</td>\n",
              "      <td>8</td>\n",
              "      <td>31</td>\n",
              "      <td>1</td>\n",
              "      <td>0</td>\n",
              "      <td>0</td>\n",
              "      <td>0</td>\n",
              "      <td>123.3</td>\n",
              "      <td>0</td>\n",
              "    </tr>\n",
              "  </tbody>\n",
              "</table>\n",
              "</div>\n",
              "    <div class=\"colab-df-buttons\">\n",
              "\n",
              "  <div class=\"colab-df-container\">\n",
              "    <button class=\"colab-df-convert\" onclick=\"convertToInteractive('df-abe846aa-5341-4430-a43f-1f527d135be7')\"\n",
              "            title=\"Convert this dataframe to an interactive table.\"\n",
              "            style=\"display:none;\">\n",
              "\n",
              "  <svg xmlns=\"http://www.w3.org/2000/svg\" height=\"24px\" viewBox=\"0 -960 960 960\">\n",
              "    <path d=\"M120-120v-720h720v720H120Zm60-500h600v-160H180v160Zm220 220h160v-160H400v160Zm0 220h160v-160H400v160ZM180-400h160v-160H180v160Zm440 0h160v-160H620v160ZM180-180h160v-160H180v160Zm440 0h160v-160H620v160Z\"/>\n",
              "  </svg>\n",
              "    </button>\n",
              "\n",
              "  <style>\n",
              "    .colab-df-container {\n",
              "      display:flex;\n",
              "      gap: 12px;\n",
              "    }\n",
              "\n",
              "    .colab-df-convert {\n",
              "      background-color: #E8F0FE;\n",
              "      border: none;\n",
              "      border-radius: 50%;\n",
              "      cursor: pointer;\n",
              "      display: none;\n",
              "      fill: #1967D2;\n",
              "      height: 32px;\n",
              "      padding: 0 0 0 0;\n",
              "      width: 32px;\n",
              "    }\n",
              "\n",
              "    .colab-df-convert:hover {\n",
              "      background-color: #E2EBFA;\n",
              "      box-shadow: 0px 1px 2px rgba(60, 64, 67, 0.3), 0px 1px 3px 1px rgba(60, 64, 67, 0.15);\n",
              "      fill: #174EA6;\n",
              "    }\n",
              "\n",
              "    .colab-df-buttons div {\n",
              "      margin-bottom: 4px;\n",
              "    }\n",
              "\n",
              "    [theme=dark] .colab-df-convert {\n",
              "      background-color: #3B4455;\n",
              "      fill: #D2E3FC;\n",
              "    }\n",
              "\n",
              "    [theme=dark] .colab-df-convert:hover {\n",
              "      background-color: #434B5C;\n",
              "      box-shadow: 0px 1px 3px 1px rgba(0, 0, 0, 0.15);\n",
              "      filter: drop-shadow(0px 1px 2px rgba(0, 0, 0, 0.3));\n",
              "      fill: #FFFFFF;\n",
              "    }\n",
              "  </style>\n",
              "\n",
              "    <script>\n",
              "      const buttonEl =\n",
              "        document.querySelector('#df-abe846aa-5341-4430-a43f-1f527d135be7 button.colab-df-convert');\n",
              "      buttonEl.style.display =\n",
              "        google.colab.kernel.accessAllowed ? 'block' : 'none';\n",
              "\n",
              "      async function convertToInteractive(key) {\n",
              "        const element = document.querySelector('#df-abe846aa-5341-4430-a43f-1f527d135be7');\n",
              "        const dataTable =\n",
              "          await google.colab.kernel.invokeFunction('convertToInteractive',\n",
              "                                                    [key], {});\n",
              "        if (!dataTable) return;\n",
              "\n",
              "        const docLinkHtml = 'Like what you see? Visit the ' +\n",
              "          '<a target=\"_blank\" href=https://colab.research.google.com/notebooks/data_table.ipynb>data table notebook</a>'\n",
              "          + ' to learn more about interactive tables.';\n",
              "        element.innerHTML = '';\n",
              "        dataTable['output_type'] = 'display_data';\n",
              "        await google.colab.output.renderOutput(dataTable, element);\n",
              "        const docLink = document.createElement('div');\n",
              "        docLink.innerHTML = docLinkHtml;\n",
              "        element.appendChild(docLink);\n",
              "      }\n",
              "    </script>\n",
              "  </div>\n",
              "\n",
              "\n",
              "<div id=\"df-93f3695b-3fe7-4ce0-b08a-86858f84d58d\">\n",
              "  <button class=\"colab-df-quickchart\" onclick=\"quickchart('df-93f3695b-3fe7-4ce0-b08a-86858f84d58d')\"\n",
              "            title=\"Suggest charts.\"\n",
              "            style=\"display:none;\">\n",
              "\n",
              "<svg xmlns=\"http://www.w3.org/2000/svg\" height=\"24px\"viewBox=\"0 0 24 24\"\n",
              "     width=\"24px\">\n",
              "    <g>\n",
              "        <path d=\"M19 3H5c-1.1 0-2 .9-2 2v14c0 1.1.9 2 2 2h14c1.1 0 2-.9 2-2V5c0-1.1-.9-2-2-2zM9 17H7v-7h2v7zm4 0h-2V7h2v10zm4 0h-2v-4h2v4z\"/>\n",
              "    </g>\n",
              "</svg>\n",
              "  </button>\n",
              "\n",
              "<style>\n",
              "  .colab-df-quickchart {\n",
              "      --bg-color: #E8F0FE;\n",
              "      --fill-color: #1967D2;\n",
              "      --hover-bg-color: #E2EBFA;\n",
              "      --hover-fill-color: #174EA6;\n",
              "      --disabled-fill-color: #AAA;\n",
              "      --disabled-bg-color: #DDD;\n",
              "  }\n",
              "\n",
              "  [theme=dark] .colab-df-quickchart {\n",
              "      --bg-color: #3B4455;\n",
              "      --fill-color: #D2E3FC;\n",
              "      --hover-bg-color: #434B5C;\n",
              "      --hover-fill-color: #FFFFFF;\n",
              "      --disabled-bg-color: #3B4455;\n",
              "      --disabled-fill-color: #666;\n",
              "  }\n",
              "\n",
              "  .colab-df-quickchart {\n",
              "    background-color: var(--bg-color);\n",
              "    border: none;\n",
              "    border-radius: 50%;\n",
              "    cursor: pointer;\n",
              "    display: none;\n",
              "    fill: var(--fill-color);\n",
              "    height: 32px;\n",
              "    padding: 0;\n",
              "    width: 32px;\n",
              "  }\n",
              "\n",
              "  .colab-df-quickchart:hover {\n",
              "    background-color: var(--hover-bg-color);\n",
              "    box-shadow: 0 1px 2px rgba(60, 64, 67, 0.3), 0 1px 3px 1px rgba(60, 64, 67, 0.15);\n",
              "    fill: var(--button-hover-fill-color);\n",
              "  }\n",
              "\n",
              "  .colab-df-quickchart-complete:disabled,\n",
              "  .colab-df-quickchart-complete:disabled:hover {\n",
              "    background-color: var(--disabled-bg-color);\n",
              "    fill: var(--disabled-fill-color);\n",
              "    box-shadow: none;\n",
              "  }\n",
              "\n",
              "  .colab-df-spinner {\n",
              "    border: 2px solid var(--fill-color);\n",
              "    border-color: transparent;\n",
              "    border-bottom-color: var(--fill-color);\n",
              "    animation:\n",
              "      spin 1s steps(1) infinite;\n",
              "  }\n",
              "\n",
              "  @keyframes spin {\n",
              "    0% {\n",
              "      border-color: transparent;\n",
              "      border-bottom-color: var(--fill-color);\n",
              "      border-left-color: var(--fill-color);\n",
              "    }\n",
              "    20% {\n",
              "      border-color: transparent;\n",
              "      border-left-color: var(--fill-color);\n",
              "      border-top-color: var(--fill-color);\n",
              "    }\n",
              "    30% {\n",
              "      border-color: transparent;\n",
              "      border-left-color: var(--fill-color);\n",
              "      border-top-color: var(--fill-color);\n",
              "      border-right-color: var(--fill-color);\n",
              "    }\n",
              "    40% {\n",
              "      border-color: transparent;\n",
              "      border-right-color: var(--fill-color);\n",
              "      border-top-color: var(--fill-color);\n",
              "    }\n",
              "    60% {\n",
              "      border-color: transparent;\n",
              "      border-right-color: var(--fill-color);\n",
              "    }\n",
              "    80% {\n",
              "      border-color: transparent;\n",
              "      border-right-color: var(--fill-color);\n",
              "      border-bottom-color: var(--fill-color);\n",
              "    }\n",
              "    90% {\n",
              "      border-color: transparent;\n",
              "      border-bottom-color: var(--fill-color);\n",
              "    }\n",
              "  }\n",
              "</style>\n",
              "\n",
              "  <script>\n",
              "    async function quickchart(key) {\n",
              "      const quickchartButtonEl =\n",
              "        document.querySelector('#' + key + ' button');\n",
              "      quickchartButtonEl.disabled = true;  // To prevent multiple clicks.\n",
              "      quickchartButtonEl.classList.add('colab-df-spinner');\n",
              "      try {\n",
              "        const charts = await google.colab.kernel.invokeFunction(\n",
              "            'suggestCharts', [key], {});\n",
              "      } catch (error) {\n",
              "        console.error('Error during call to suggestCharts:', error);\n",
              "      }\n",
              "      quickchartButtonEl.classList.remove('colab-df-spinner');\n",
              "      quickchartButtonEl.classList.add('colab-df-quickchart-complete');\n",
              "    }\n",
              "    (() => {\n",
              "      let quickchartButtonEl =\n",
              "        document.querySelector('#df-93f3695b-3fe7-4ce0-b08a-86858f84d58d button');\n",
              "      quickchartButtonEl.style.display =\n",
              "        google.colab.kernel.accessAllowed ? 'block' : 'none';\n",
              "    })();\n",
              "  </script>\n",
              "</div>\n",
              "    </div>\n",
              "  </div>\n"
            ],
            "text/plain": [
              "   no_of_adults  no_of_children  no_of_weekend_nights  no_of_week_nights  \\\n",
              "0             2               0                     1                  2   \n",
              "1             2               0                     0                  2   \n",
              "2             1               0                     2                  3   \n",
              "3             2               0                     2                  0   \n",
              "4             2               0                     1                  4   \n",
              "\n",
              "   type_of_meal_plan  required_car_parking_space  room_type_reserved  \\\n",
              "0                  0                           1                   0   \n",
              "1                  0                           0                   0   \n",
              "2                  0                           0                   0   \n",
              "3                  2                           0                   0   \n",
              "4                  0                           0                   1   \n",
              "\n",
              "   lead_time  arrival_year  arrival_month  arrival_date  market_segment_type  \\\n",
              "0         65          2018              3            28                    1   \n",
              "1        322          2018             12             9                    0   \n",
              "2        115          2018              2            27                    0   \n",
              "3        386          2018             10            23                    1   \n",
              "4         51          2018              8            31                    1   \n",
              "\n",
              "   repeated_guest  no_of_previous_cancellations  \\\n",
              "0               0                             0   \n",
              "1               0                             0   \n",
              "2               0                             0   \n",
              "3               0                             0   \n",
              "4               0                             0   \n",
              "\n",
              "   no_of_previous_bookings_not_canceled  avg_price_per_room  \\\n",
              "0                                     0                96.3   \n",
              "1                                     0                52.0   \n",
              "2                                     0                75.0   \n",
              "3                                     0               115.0   \n",
              "4                                     0               123.3   \n",
              "\n",
              "   no_of_special_requests  \n",
              "0                       0  \n",
              "1                       0  \n",
              "2                       0  \n",
              "3                       1  \n",
              "4                       0  "
            ]
          },
          "execution_count": 11,
          "metadata": {},
          "output_type": "execute_result"
        }
      ],
      "source": [
        "test.head()"
      ]
    },
    {
      "cell_type": "code",
      "execution_count": null,
      "metadata": {
        "colab": {
          "base_uri": "https://localhost:8080/"
        },
        "id": "tnepKV05lOTP",
        "outputId": "d987bc04-07b3-4fce-9df9-c6fbc41d3220"
      },
      "outputs": [
        {
          "data": {
            "text/plain": [
              "(18138, 17)"
            ]
          },
          "execution_count": 12,
          "metadata": {},
          "output_type": "execute_result"
        }
      ],
      "source": [
        "test.shape"
      ]
    },
    {
      "cell_type": "code",
      "execution_count": null,
      "metadata": {
        "colab": {
          "base_uri": "https://localhost:8080/"
        },
        "id": "boNEjDucer0Y",
        "outputId": "ed949a23-a28b-4d76-a643-35412a9b90ba"
      },
      "outputs": [
        {
          "data": {
            "text/plain": [
              "no_of_adults                            False\n",
              "no_of_children                          False\n",
              "no_of_weekend_nights                    False\n",
              "no_of_week_nights                       False\n",
              "type_of_meal_plan                       False\n",
              "required_car_parking_space              False\n",
              "room_type_reserved                      False\n",
              "lead_time                               False\n",
              "arrival_year                            False\n",
              "arrival_month                           False\n",
              "arrival_date                            False\n",
              "market_segment_type                     False\n",
              "repeated_guest                          False\n",
              "no_of_previous_cancellations            False\n",
              "no_of_previous_bookings_not_canceled    False\n",
              "avg_price_per_room                      False\n",
              "no_of_special_requests                  False\n",
              "booking_status                          False\n",
              "dtype: bool"
            ]
          },
          "execution_count": 13,
          "metadata": {},
          "output_type": "execute_result"
        }
      ],
      "source": [
        "train.isnull().any()"
      ]
    },
    {
      "cell_type": "code",
      "execution_count": null,
      "metadata": {
        "colab": {
          "base_uri": "https://localhost:8080/",
          "height": 320
        },
        "id": "STzmINjLer2l",
        "outputId": "7f56b8fd-6bc5-4f2b-b835-a54c1b7bf1bb"
      },
      "outputs": [
        {
          "data": {
            "text/html": [
              "\n",
              "  <div id=\"df-3b827410-655b-47cb-a0fd-4eee6f0909bf\" class=\"colab-df-container\">\n",
              "    <div>\n",
              "<style scoped>\n",
              "    .dataframe tbody tr th:only-of-type {\n",
              "        vertical-align: middle;\n",
              "    }\n",
              "\n",
              "    .dataframe tbody tr th {\n",
              "        vertical-align: top;\n",
              "    }\n",
              "\n",
              "    .dataframe thead th {\n",
              "        text-align: right;\n",
              "    }\n",
              "</style>\n",
              "<table border=\"1\" class=\"dataframe\">\n",
              "  <thead>\n",
              "    <tr style=\"text-align: right;\">\n",
              "      <th></th>\n",
              "      <th>no_of_adults</th>\n",
              "      <th>no_of_children</th>\n",
              "      <th>no_of_weekend_nights</th>\n",
              "      <th>no_of_week_nights</th>\n",
              "      <th>type_of_meal_plan</th>\n",
              "      <th>required_car_parking_space</th>\n",
              "      <th>room_type_reserved</th>\n",
              "      <th>lead_time</th>\n",
              "      <th>arrival_year</th>\n",
              "      <th>arrival_month</th>\n",
              "      <th>arrival_date</th>\n",
              "      <th>market_segment_type</th>\n",
              "      <th>repeated_guest</th>\n",
              "      <th>no_of_previous_cancellations</th>\n",
              "      <th>no_of_previous_bookings_not_canceled</th>\n",
              "      <th>avg_price_per_room</th>\n",
              "      <th>no_of_special_requests</th>\n",
              "      <th>booking_status</th>\n",
              "    </tr>\n",
              "  </thead>\n",
              "  <tbody>\n",
              "    <tr>\n",
              "      <th>count</th>\n",
              "      <td>18137.000000</td>\n",
              "      <td>18137.000000</td>\n",
              "      <td>18137.000000</td>\n",
              "      <td>18137.000000</td>\n",
              "      <td>18137.000000</td>\n",
              "      <td>18137.000000</td>\n",
              "      <td>18137.000000</td>\n",
              "      <td>18137.000000</td>\n",
              "      <td>18137.000000</td>\n",
              "      <td>18137.000000</td>\n",
              "      <td>18137.000000</td>\n",
              "      <td>18137.000000</td>\n",
              "      <td>18137.000000</td>\n",
              "      <td>18137.000000</td>\n",
              "      <td>18137.000000</td>\n",
              "      <td>18137.000000</td>\n",
              "      <td>18137.000000</td>\n",
              "      <td>18137.000000</td>\n",
              "    </tr>\n",
              "    <tr>\n",
              "      <th>mean</th>\n",
              "      <td>1.846777</td>\n",
              "      <td>0.107515</td>\n",
              "      <td>0.811104</td>\n",
              "      <td>2.208965</td>\n",
              "      <td>0.318465</td>\n",
              "      <td>0.031648</td>\n",
              "      <td>0.336770</td>\n",
              "      <td>85.377405</td>\n",
              "      <td>2017.820698</td>\n",
              "      <td>7.432762</td>\n",
              "      <td>15.660804</td>\n",
              "      <td>0.806197</td>\n",
              "      <td>0.025087</td>\n",
              "      <td>0.022440</td>\n",
              "      <td>0.151403</td>\n",
              "      <td>103.478868</td>\n",
              "      <td>0.617522</td>\n",
              "      <td>0.327618</td>\n",
              "    </tr>\n",
              "    <tr>\n",
              "      <th>std</th>\n",
              "      <td>0.516020</td>\n",
              "      <td>0.408901</td>\n",
              "      <td>0.873470</td>\n",
              "      <td>1.426365</td>\n",
              "      <td>0.629140</td>\n",
              "      <td>0.175066</td>\n",
              "      <td>0.772865</td>\n",
              "      <td>86.611736</td>\n",
              "      <td>0.383616</td>\n",
              "      <td>3.076999</td>\n",
              "      <td>8.772788</td>\n",
              "      <td>0.645972</td>\n",
              "      <td>0.156393</td>\n",
              "      <td>0.370078</td>\n",
              "      <td>1.714135</td>\n",
              "      <td>35.474103</td>\n",
              "      <td>0.787941</td>\n",
              "      <td>0.469357</td>\n",
              "    </tr>\n",
              "    <tr>\n",
              "      <th>min</th>\n",
              "      <td>0.000000</td>\n",
              "      <td>0.000000</td>\n",
              "      <td>0.000000</td>\n",
              "      <td>0.000000</td>\n",
              "      <td>0.000000</td>\n",
              "      <td>0.000000</td>\n",
              "      <td>0.000000</td>\n",
              "      <td>0.000000</td>\n",
              "      <td>2017.000000</td>\n",
              "      <td>1.000000</td>\n",
              "      <td>1.000000</td>\n",
              "      <td>0.000000</td>\n",
              "      <td>0.000000</td>\n",
              "      <td>0.000000</td>\n",
              "      <td>0.000000</td>\n",
              "      <td>0.000000</td>\n",
              "      <td>0.000000</td>\n",
              "      <td>0.000000</td>\n",
              "    </tr>\n",
              "    <tr>\n",
              "      <th>25%</th>\n",
              "      <td>2.000000</td>\n",
              "      <td>0.000000</td>\n",
              "      <td>0.000000</td>\n",
              "      <td>1.000000</td>\n",
              "      <td>0.000000</td>\n",
              "      <td>0.000000</td>\n",
              "      <td>0.000000</td>\n",
              "      <td>17.000000</td>\n",
              "      <td>2018.000000</td>\n",
              "      <td>5.000000</td>\n",
              "      <td>8.000000</td>\n",
              "      <td>0.000000</td>\n",
              "      <td>0.000000</td>\n",
              "      <td>0.000000</td>\n",
              "      <td>0.000000</td>\n",
              "      <td>80.300000</td>\n",
              "      <td>0.000000</td>\n",
              "      <td>0.000000</td>\n",
              "    </tr>\n",
              "    <tr>\n",
              "      <th>50%</th>\n",
              "      <td>2.000000</td>\n",
              "      <td>0.000000</td>\n",
              "      <td>1.000000</td>\n",
              "      <td>2.000000</td>\n",
              "      <td>0.000000</td>\n",
              "      <td>0.000000</td>\n",
              "      <td>0.000000</td>\n",
              "      <td>57.000000</td>\n",
              "      <td>2018.000000</td>\n",
              "      <td>8.000000</td>\n",
              "      <td>16.000000</td>\n",
              "      <td>1.000000</td>\n",
              "      <td>0.000000</td>\n",
              "      <td>0.000000</td>\n",
              "      <td>0.000000</td>\n",
              "      <td>99.450000</td>\n",
              "      <td>0.000000</td>\n",
              "      <td>0.000000</td>\n",
              "    </tr>\n",
              "    <tr>\n",
              "      <th>75%</th>\n",
              "      <td>2.000000</td>\n",
              "      <td>0.000000</td>\n",
              "      <td>2.000000</td>\n",
              "      <td>3.000000</td>\n",
              "      <td>0.000000</td>\n",
              "      <td>0.000000</td>\n",
              "      <td>0.000000</td>\n",
              "      <td>127.000000</td>\n",
              "      <td>2018.000000</td>\n",
              "      <td>10.000000</td>\n",
              "      <td>23.000000</td>\n",
              "      <td>1.000000</td>\n",
              "      <td>0.000000</td>\n",
              "      <td>0.000000</td>\n",
              "      <td>0.000000</td>\n",
              "      <td>120.270000</td>\n",
              "      <td>1.000000</td>\n",
              "      <td>1.000000</td>\n",
              "    </tr>\n",
              "    <tr>\n",
              "      <th>max</th>\n",
              "      <td>4.000000</td>\n",
              "      <td>9.000000</td>\n",
              "      <td>7.000000</td>\n",
              "      <td>17.000000</td>\n",
              "      <td>3.000000</td>\n",
              "      <td>1.000000</td>\n",
              "      <td>6.000000</td>\n",
              "      <td>443.000000</td>\n",
              "      <td>2018.000000</td>\n",
              "      <td>12.000000</td>\n",
              "      <td>31.000000</td>\n",
              "      <td>4.000000</td>\n",
              "      <td>1.000000</td>\n",
              "      <td>13.000000</td>\n",
              "      <td>58.000000</td>\n",
              "      <td>540.000000</td>\n",
              "      <td>5.000000</td>\n",
              "      <td>1.000000</td>\n",
              "    </tr>\n",
              "  </tbody>\n",
              "</table>\n",
              "</div>\n",
              "    <div class=\"colab-df-buttons\">\n",
              "\n",
              "  <div class=\"colab-df-container\">\n",
              "    <button class=\"colab-df-convert\" onclick=\"convertToInteractive('df-3b827410-655b-47cb-a0fd-4eee6f0909bf')\"\n",
              "            title=\"Convert this dataframe to an interactive table.\"\n",
              "            style=\"display:none;\">\n",
              "\n",
              "  <svg xmlns=\"http://www.w3.org/2000/svg\" height=\"24px\" viewBox=\"0 -960 960 960\">\n",
              "    <path d=\"M120-120v-720h720v720H120Zm60-500h600v-160H180v160Zm220 220h160v-160H400v160Zm0 220h160v-160H400v160ZM180-400h160v-160H180v160Zm440 0h160v-160H620v160ZM180-180h160v-160H180v160Zm440 0h160v-160H620v160Z\"/>\n",
              "  </svg>\n",
              "    </button>\n",
              "\n",
              "  <style>\n",
              "    .colab-df-container {\n",
              "      display:flex;\n",
              "      gap: 12px;\n",
              "    }\n",
              "\n",
              "    .colab-df-convert {\n",
              "      background-color: #E8F0FE;\n",
              "      border: none;\n",
              "      border-radius: 50%;\n",
              "      cursor: pointer;\n",
              "      display: none;\n",
              "      fill: #1967D2;\n",
              "      height: 32px;\n",
              "      padding: 0 0 0 0;\n",
              "      width: 32px;\n",
              "    }\n",
              "\n",
              "    .colab-df-convert:hover {\n",
              "      background-color: #E2EBFA;\n",
              "      box-shadow: 0px 1px 2px rgba(60, 64, 67, 0.3), 0px 1px 3px 1px rgba(60, 64, 67, 0.15);\n",
              "      fill: #174EA6;\n",
              "    }\n",
              "\n",
              "    .colab-df-buttons div {\n",
              "      margin-bottom: 4px;\n",
              "    }\n",
              "\n",
              "    [theme=dark] .colab-df-convert {\n",
              "      background-color: #3B4455;\n",
              "      fill: #D2E3FC;\n",
              "    }\n",
              "\n",
              "    [theme=dark] .colab-df-convert:hover {\n",
              "      background-color: #434B5C;\n",
              "      box-shadow: 0px 1px 3px 1px rgba(0, 0, 0, 0.15);\n",
              "      filter: drop-shadow(0px 1px 2px rgba(0, 0, 0, 0.3));\n",
              "      fill: #FFFFFF;\n",
              "    }\n",
              "  </style>\n",
              "\n",
              "    <script>\n",
              "      const buttonEl =\n",
              "        document.querySelector('#df-3b827410-655b-47cb-a0fd-4eee6f0909bf button.colab-df-convert');\n",
              "      buttonEl.style.display =\n",
              "        google.colab.kernel.accessAllowed ? 'block' : 'none';\n",
              "\n",
              "      async function convertToInteractive(key) {\n",
              "        const element = document.querySelector('#df-3b827410-655b-47cb-a0fd-4eee6f0909bf');\n",
              "        const dataTable =\n",
              "          await google.colab.kernel.invokeFunction('convertToInteractive',\n",
              "                                                    [key], {});\n",
              "        if (!dataTable) return;\n",
              "\n",
              "        const docLinkHtml = 'Like what you see? Visit the ' +\n",
              "          '<a target=\"_blank\" href=https://colab.research.google.com/notebooks/data_table.ipynb>data table notebook</a>'\n",
              "          + ' to learn more about interactive tables.';\n",
              "        element.innerHTML = '';\n",
              "        dataTable['output_type'] = 'display_data';\n",
              "        await google.colab.output.renderOutput(dataTable, element);\n",
              "        const docLink = document.createElement('div');\n",
              "        docLink.innerHTML = docLinkHtml;\n",
              "        element.appendChild(docLink);\n",
              "      }\n",
              "    </script>\n",
              "  </div>\n",
              "\n",
              "\n",
              "<div id=\"df-e1361ae4-cb07-4ec9-a44b-a0996a0b6ec9\">\n",
              "  <button class=\"colab-df-quickchart\" onclick=\"quickchart('df-e1361ae4-cb07-4ec9-a44b-a0996a0b6ec9')\"\n",
              "            title=\"Suggest charts.\"\n",
              "            style=\"display:none;\">\n",
              "\n",
              "<svg xmlns=\"http://www.w3.org/2000/svg\" height=\"24px\"viewBox=\"0 0 24 24\"\n",
              "     width=\"24px\">\n",
              "    <g>\n",
              "        <path d=\"M19 3H5c-1.1 0-2 .9-2 2v14c0 1.1.9 2 2 2h14c1.1 0 2-.9 2-2V5c0-1.1-.9-2-2-2zM9 17H7v-7h2v7zm4 0h-2V7h2v10zm4 0h-2v-4h2v4z\"/>\n",
              "    </g>\n",
              "</svg>\n",
              "  </button>\n",
              "\n",
              "<style>\n",
              "  .colab-df-quickchart {\n",
              "      --bg-color: #E8F0FE;\n",
              "      --fill-color: #1967D2;\n",
              "      --hover-bg-color: #E2EBFA;\n",
              "      --hover-fill-color: #174EA6;\n",
              "      --disabled-fill-color: #AAA;\n",
              "      --disabled-bg-color: #DDD;\n",
              "  }\n",
              "\n",
              "  [theme=dark] .colab-df-quickchart {\n",
              "      --bg-color: #3B4455;\n",
              "      --fill-color: #D2E3FC;\n",
              "      --hover-bg-color: #434B5C;\n",
              "      --hover-fill-color: #FFFFFF;\n",
              "      --disabled-bg-color: #3B4455;\n",
              "      --disabled-fill-color: #666;\n",
              "  }\n",
              "\n",
              "  .colab-df-quickchart {\n",
              "    background-color: var(--bg-color);\n",
              "    border: none;\n",
              "    border-radius: 50%;\n",
              "    cursor: pointer;\n",
              "    display: none;\n",
              "    fill: var(--fill-color);\n",
              "    height: 32px;\n",
              "    padding: 0;\n",
              "    width: 32px;\n",
              "  }\n",
              "\n",
              "  .colab-df-quickchart:hover {\n",
              "    background-color: var(--hover-bg-color);\n",
              "    box-shadow: 0 1px 2px rgba(60, 64, 67, 0.3), 0 1px 3px 1px rgba(60, 64, 67, 0.15);\n",
              "    fill: var(--button-hover-fill-color);\n",
              "  }\n",
              "\n",
              "  .colab-df-quickchart-complete:disabled,\n",
              "  .colab-df-quickchart-complete:disabled:hover {\n",
              "    background-color: var(--disabled-bg-color);\n",
              "    fill: var(--disabled-fill-color);\n",
              "    box-shadow: none;\n",
              "  }\n",
              "\n",
              "  .colab-df-spinner {\n",
              "    border: 2px solid var(--fill-color);\n",
              "    border-color: transparent;\n",
              "    border-bottom-color: var(--fill-color);\n",
              "    animation:\n",
              "      spin 1s steps(1) infinite;\n",
              "  }\n",
              "\n",
              "  @keyframes spin {\n",
              "    0% {\n",
              "      border-color: transparent;\n",
              "      border-bottom-color: var(--fill-color);\n",
              "      border-left-color: var(--fill-color);\n",
              "    }\n",
              "    20% {\n",
              "      border-color: transparent;\n",
              "      border-left-color: var(--fill-color);\n",
              "      border-top-color: var(--fill-color);\n",
              "    }\n",
              "    30% {\n",
              "      border-color: transparent;\n",
              "      border-left-color: var(--fill-color);\n",
              "      border-top-color: var(--fill-color);\n",
              "      border-right-color: var(--fill-color);\n",
              "    }\n",
              "    40% {\n",
              "      border-color: transparent;\n",
              "      border-right-color: var(--fill-color);\n",
              "      border-top-color: var(--fill-color);\n",
              "    }\n",
              "    60% {\n",
              "      border-color: transparent;\n",
              "      border-right-color: var(--fill-color);\n",
              "    }\n",
              "    80% {\n",
              "      border-color: transparent;\n",
              "      border-right-color: var(--fill-color);\n",
              "      border-bottom-color: var(--fill-color);\n",
              "    }\n",
              "    90% {\n",
              "      border-color: transparent;\n",
              "      border-bottom-color: var(--fill-color);\n",
              "    }\n",
              "  }\n",
              "</style>\n",
              "\n",
              "  <script>\n",
              "    async function quickchart(key) {\n",
              "      const quickchartButtonEl =\n",
              "        document.querySelector('#' + key + ' button');\n",
              "      quickchartButtonEl.disabled = true;  // To prevent multiple clicks.\n",
              "      quickchartButtonEl.classList.add('colab-df-spinner');\n",
              "      try {\n",
              "        const charts = await google.colab.kernel.invokeFunction(\n",
              "            'suggestCharts', [key], {});\n",
              "      } catch (error) {\n",
              "        console.error('Error during call to suggestCharts:', error);\n",
              "      }\n",
              "      quickchartButtonEl.classList.remove('colab-df-spinner');\n",
              "      quickchartButtonEl.classList.add('colab-df-quickchart-complete');\n",
              "    }\n",
              "    (() => {\n",
              "      let quickchartButtonEl =\n",
              "        document.querySelector('#df-e1361ae4-cb07-4ec9-a44b-a0996a0b6ec9 button');\n",
              "      quickchartButtonEl.style.display =\n",
              "        google.colab.kernel.accessAllowed ? 'block' : 'none';\n",
              "    })();\n",
              "  </script>\n",
              "</div>\n",
              "    </div>\n",
              "  </div>\n"
            ],
            "text/plain": [
              "       no_of_adults  no_of_children  no_of_weekend_nights  no_of_week_nights  \\\n",
              "count  18137.000000    18137.000000          18137.000000       18137.000000   \n",
              "mean       1.846777        0.107515              0.811104           2.208965   \n",
              "std        0.516020        0.408901              0.873470           1.426365   \n",
              "min        0.000000        0.000000              0.000000           0.000000   \n",
              "25%        2.000000        0.000000              0.000000           1.000000   \n",
              "50%        2.000000        0.000000              1.000000           2.000000   \n",
              "75%        2.000000        0.000000              2.000000           3.000000   \n",
              "max        4.000000        9.000000              7.000000          17.000000   \n",
              "\n",
              "       type_of_meal_plan  required_car_parking_space  room_type_reserved  \\\n",
              "count       18137.000000                18137.000000        18137.000000   \n",
              "mean            0.318465                    0.031648            0.336770   \n",
              "std             0.629140                    0.175066            0.772865   \n",
              "min             0.000000                    0.000000            0.000000   \n",
              "25%             0.000000                    0.000000            0.000000   \n",
              "50%             0.000000                    0.000000            0.000000   \n",
              "75%             0.000000                    0.000000            0.000000   \n",
              "max             3.000000                    1.000000            6.000000   \n",
              "\n",
              "          lead_time  arrival_year  arrival_month  arrival_date  \\\n",
              "count  18137.000000  18137.000000   18137.000000  18137.000000   \n",
              "mean      85.377405   2017.820698       7.432762     15.660804   \n",
              "std       86.611736      0.383616       3.076999      8.772788   \n",
              "min        0.000000   2017.000000       1.000000      1.000000   \n",
              "25%       17.000000   2018.000000       5.000000      8.000000   \n",
              "50%       57.000000   2018.000000       8.000000     16.000000   \n",
              "75%      127.000000   2018.000000      10.000000     23.000000   \n",
              "max      443.000000   2018.000000      12.000000     31.000000   \n",
              "\n",
              "       market_segment_type  repeated_guest  no_of_previous_cancellations  \\\n",
              "count         18137.000000    18137.000000                  18137.000000   \n",
              "mean              0.806197        0.025087                      0.022440   \n",
              "std               0.645972        0.156393                      0.370078   \n",
              "min               0.000000        0.000000                      0.000000   \n",
              "25%               0.000000        0.000000                      0.000000   \n",
              "50%               1.000000        0.000000                      0.000000   \n",
              "75%               1.000000        0.000000                      0.000000   \n",
              "max               4.000000        1.000000                     13.000000   \n",
              "\n",
              "       no_of_previous_bookings_not_canceled  avg_price_per_room  \\\n",
              "count                          18137.000000        18137.000000   \n",
              "mean                               0.151403          103.478868   \n",
              "std                                1.714135           35.474103   \n",
              "min                                0.000000            0.000000   \n",
              "25%                                0.000000           80.300000   \n",
              "50%                                0.000000           99.450000   \n",
              "75%                                0.000000          120.270000   \n",
              "max                               58.000000          540.000000   \n",
              "\n",
              "       no_of_special_requests  booking_status  \n",
              "count            18137.000000    18137.000000  \n",
              "mean                 0.617522        0.327618  \n",
              "std                  0.787941        0.469357  \n",
              "min                  0.000000        0.000000  \n",
              "25%                  0.000000        0.000000  \n",
              "50%                  0.000000        0.000000  \n",
              "75%                  1.000000        1.000000  \n",
              "max                  5.000000        1.000000  "
            ]
          },
          "execution_count": 14,
          "metadata": {},
          "output_type": "execute_result"
        }
      ],
      "source": [
        "train.describe()"
      ]
    },
    {
      "cell_type": "code",
      "execution_count": null,
      "metadata": {
        "colab": {
          "base_uri": "https://localhost:8080/",
          "height": 52
        },
        "id": "svP0Jsmker42",
        "outputId": "6fc4e8e7-96e4-4e22-bde4-6da6d8063144"
      },
      "outputs": [
        {
          "data": {
            "text/plain": [
              "<Figure size 500x500 with 0 Axes>"
            ]
          },
          "execution_count": 15,
          "metadata": {},
          "output_type": "execute_result"
        },
        {
          "data": {
            "text/plain": [
              "<Figure size 500x500 with 0 Axes>"
            ]
          },
          "metadata": {},
          "output_type": "display_data"
        }
      ],
      "source": [
        "plt.figure(figsize = (5,5))\n"
      ]
    },
    {
      "cell_type": "code",
      "execution_count": null,
      "metadata": {
        "id": "zzZ3F8LsfeKH"
      },
      "outputs": [],
      "source": [
        "a = train['booking_status'].value_counts()"
      ]
    },
    {
      "cell_type": "code",
      "execution_count": null,
      "metadata": {
        "colab": {
          "base_uri": "https://localhost:8080/",
          "height": 445
        },
        "id": "WCMFRKOMer6-",
        "outputId": "6b752818-418e-439b-c676-ad7d762e7e3c"
      },
      "outputs": [
        {
          "data": {
            "text/plain": [
              "Text(0.5, 1.0, 'Pie chart showing the distribution of Booking Status into number of Cancellation/Non Cancellation ')"
            ]
          },
          "execution_count": 17,
          "metadata": {},
          "output_type": "execute_result"
        },
        {
          "data": {
            "image/png": "[encoded data removed]",
            "text/plain": [
              "<Figure size 640x480 with 1 Axes>"
            ]
          },
          "metadata": {},
          "output_type": "display_data"
        }
      ],
      "source": [
        "plt.pie(x = a, data = train, labels= ['Non Cancellation', 'Cancellation'], autopct='%.0f%%', colors = 'gr')\n",
        "plt.title(\"Pie chart showing the distribution of Booking Status into number of Cancellation/Non Cancellation \")"
      ]
    },
    {
      "cell_type": "code",
      "execution_count": null,
      "metadata": {
        "colab": {
          "base_uri": "https://localhost:8080/",
          "height": 1000
        },
        "id": "65XqSrG2er84",
        "outputId": "55c07b54-329b-49fd-c027-a1d9212af206"
      },
      "outputs": [
        {
          "data": {
            "text/plain": [
              "array([[<Axes: title={'center': 'no_of_adults'}>,\n",
              "        <Axes: title={'center': 'no_of_children'}>,\n",
              "        <Axes: title={'center': 'no_of_weekend_nights'}>,\n",
              "        <Axes: title={'center': 'no_of_week_nights'}>],\n",
              "       [<Axes: title={'center': 'type_of_meal_plan'}>,\n",
              "        <Axes: title={'center': 'required_car_parking_space'}>,\n",
              "        <Axes: title={'center': 'room_type_reserved'}>,\n",
              "        <Axes: title={'center': 'lead_time'}>],\n",
              "       [<Axes: title={'center': 'arrival_year'}>,\n",
              "        <Axes: title={'center': 'arrival_month'}>,\n",
              "        <Axes: title={'center': 'arrival_date'}>,\n",
              "        <Axes: title={'center': 'market_segment_type'}>],\n",
              "       [<Axes: title={'center': 'repeated_guest'}>,\n",
              "        <Axes: title={'center': 'no_of_previous_cancellations'}>,\n",
              "        <Axes: title={'center': 'no_of_previous_bookings_not_canceled'}>,\n",
              "        <Axes: title={'center': 'avg_price_per_room'}>],\n",
              "       [<Axes: title={'center': 'no_of_special_requests'}>,\n",
              "        <Axes: title={'center': 'booking_status'}>, <Axes: >, <Axes: >]],\n",
              "      dtype=object)"
            ]
          },
          "execution_count": 18,
          "metadata": {},
          "output_type": "execute_result"
        },
        {
          "data": {
            "image/png": "[encoded data removed]",
            "text/plain": [
              "<Figure size 1800x1800 with 20 Axes>"
            ]
          },
          "metadata": {},
          "output_type": "display_data"
        }
      ],
      "source": [
        "train.hist(bins=5,figsize=(18,18))"
      ]
    },
    {
      "cell_type": "code",
      "execution_count": null,
      "metadata": {
        "id": "mzDZK427er_Q"
      },
      "outputs": [],
      "source": [
        "def countplot_of_2(x, hue,title=None, figsize=(6,5)):\n",
        "  plt.figure(figsize=figsize)\n",
        "  sns.countplot(data=train [[x, hue]],x=x, hue=hue)\n",
        "  plt.title(title)\n",
        "  plt.show()"
      ]
    },
    {
      "cell_type": "code",
      "execution_count": null,
      "metadata": {
        "colab": {
          "base_uri": "https://localhost:8080/",
          "height": 487
        },
        "id": "8gWVlVLuesB1",
        "outputId": "9393b722-fccf-4cdd-f569-6bbbbb1f9747"
      },
      "outputs": [
        {
          "data": {
            "image/png": "[encoded data removed]",
            "text/plain": [
              "<Figure size 600x500 with 1 Axes>"
            ]
          },
          "metadata": {},
          "output_type": "display_data"
        }
      ],
      "source": [
        "countplot_of_2('booking_status', 'no_of_adults', 'Countplot for No. of adults vs booking status')"
      ]
    },
    {
      "cell_type": "code",
      "execution_count": null,
      "metadata": {
        "colab": {
          "base_uri": "https://localhost:8080/",
          "height": 450
        },
        "id": "dk1FzxUeesDn",
        "outputId": "d7f466a6-7e18-494d-fc13-a9e465d04b4e"
      },
      "outputs": [
        {
          "data": {
            "image/png": "[encoded data removed]",
            "text/plain": [
              "<Figure size 640x480 with 1 Axes>"
            ]
          },
          "metadata": {},
          "output_type": "display_data"
        }
      ],
      "source": [
        "sns.scatterplot(data = train, x = \"type_of_meal_plan\", y = \"booking_status\")\n",
        "plt.show()"
      ]
    },
    {
      "cell_type": "code",
      "execution_count": null,
      "metadata": {
        "colab": {
          "base_uri": "https://localhost:8080/",
          "height": 633
        },
        "id": "tPlSVNVtesFc",
        "outputId": "f9290def-dac5-41de-8de2-d7bc698e5d3a"
      },
      "outputs": [
        {
          "data": {
            "text/html": [
              "<style type=\"text/css\">\n",
              "#T_50a7c_row0_col0, #T_50a7c_row1_col1, #T_50a7c_row2_col2, #T_50a7c_row3_col3, #T_50a7c_row4_col4, #T_50a7c_row5_col5, #T_50a7c_row6_col6, #T_50a7c_row7_col7, #T_50a7c_row8_col8, #T_50a7c_row9_col9, #T_50a7c_row10_col10, #T_50a7c_row11_col11, #T_50a7c_row12_col12, #T_50a7c_row13_col13, #T_50a7c_row14_col14, #T_50a7c_row15_col15, #T_50a7c_row16_col16, #T_50a7c_row17_col17 {\n",
              "  background-color: #b40426;\n",
              "  color: #f1f1f1;\n",
              "}\n",
              "#T_50a7c_row0_col1, #T_50a7c_row7_col10, #T_50a7c_row9_col2, #T_50a7c_row10_col13, #T_50a7c_row11_col2, #T_50a7c_row17_col10 {\n",
              "  background-color: #485fd1;\n",
              "  color: #f1f1f1;\n",
              "}\n",
              "#T_50a7c_row0_col2, #T_50a7c_row6_col3, #T_50a7c_row17_col6 {\n",
              "  background-color: #688aef;\n",
              "  color: #f1f1f1;\n",
              "}\n",
              "#T_50a7c_row0_col3, #T_50a7c_row4_col15, #T_50a7c_row9_col0, #T_50a7c_row16_col1 {\n",
              "  background-color: #7597f6;\n",
              "  color: #f1f1f1;\n",
              "}\n",
              "#T_50a7c_row0_col4, #T_50a7c_row6_col12, #T_50a7c_row10_col12, #T_50a7c_row16_col7 {\n",
              "  background-color: #6c8ff1;\n",
              "  color: #f1f1f1;\n",
              "}\n",
              "#T_50a7c_row0_col5, #T_50a7c_row6_col2, #T_50a7c_row13_col15, #T_50a7c_row17_col1 {\n",
              "  background-color: #5875e1;\n",
              "  color: #f1f1f1;\n",
              "}\n",
              "#T_50a7c_row0_col6, #T_50a7c_row4_col9, #T_50a7c_row11_col6, #T_50a7c_row17_col15 {\n",
              "  background-color: #94b6ff;\n",
              "  color: #000000;\n",
              "}\n",
              "#T_50a7c_row0_col7, #T_50a7c_row0_col8, #T_50a7c_row15_col17, #T_50a7c_row16_col0 {\n",
              "  background-color: #a3c2fe;\n",
              "  color: #000000;\n",
              "}\n",
              "#T_50a7c_row0_col9, #T_50a7c_row5_col16 {\n",
              "  background-color: #93b5fe;\n",
              "  color: #000000;\n",
              "}\n",
              "#T_50a7c_row0_col10 {\n",
              "  background-color: #4c66d6;\n",
              "  color: #f1f1f1;\n",
              "}\n",
              "#T_50a7c_row0_col11, #T_50a7c_row5_col14, #T_50a7c_row9_col12, #T_50a7c_row11_col17, #T_50a7c_row16_col5 {\n",
              "  background-color: #6e90f2;\n",
              "  color: #f1f1f1;\n",
              "}\n",
              "#T_50a7c_row0_col12, #T_50a7c_row0_col14, #T_50a7c_row4_col1, #T_50a7c_row4_col6, #T_50a7c_row7_col11, #T_50a7c_row8_col9, #T_50a7c_row9_col8, #T_50a7c_row9_col10, #T_50a7c_row11_col4, #T_50a7c_row11_col7, #T_50a7c_row12_col0, #T_50a7c_row12_col2, #T_50a7c_row12_col3, #T_50a7c_row12_col15, #T_50a7c_row15_col13, #T_50a7c_row16_col17, #T_50a7c_row17_col5, #T_50a7c_row17_col16 {\n",
              "  background-color: #3b4cc0;\n",
              "  color: #f1f1f1;\n",
              "}\n",
              "#T_50a7c_row0_col13, #T_50a7c_row4_col3, #T_50a7c_row7_col13, #T_50a7c_row9_col13 {\n",
              "  background-color: #3f53c6;\n",
              "  color: #f1f1f1;\n",
              "}\n",
              "#T_50a7c_row0_col15 {\n",
              "  background-color: #bfd3f6;\n",
              "  color: #000000;\n",
              "}\n",
              "#T_50a7c_row0_col16, #T_50a7c_row4_col7 {\n",
              "  background-color: #adc9fd;\n",
              "  color: #000000;\n",
              "}\n",
              "#T_50a7c_row0_col17, #T_50a7c_row2_col7, #T_50a7c_row3_col17, #T_50a7c_row14_col8 {\n",
              "  background-color: #96b7ff;\n",
              "  color: #000000;\n",
              "}\n",
              "#T_50a7c_row1_col0, #T_50a7c_row8_col12, #T_50a7c_row9_col4, #T_50a7c_row10_col4, #T_50a7c_row14_col17, #T_50a7c_row16_col12 {\n",
              "  background-color: #6a8bef;\n",
              "  color: #f1f1f1;\n",
              "}\n",
              "#T_50a7c_row1_col2, #T_50a7c_row3_col1, #T_50a7c_row10_col1, #T_50a7c_row10_col3 {\n",
              "  background-color: #536edd;\n",
              "  color: #f1f1f1;\n",
              "}\n",
              "#T_50a7c_row1_col3, #T_50a7c_row8_col1, #T_50a7c_row10_col14 {\n",
              "  background-color: #5a78e4;\n",
              "  color: #f1f1f1;\n",
              "}\n",
              "#T_50a7c_row1_col4, #T_50a7c_row10_col2, #T_50a7c_row10_col5, #T_50a7c_row12_col4, #T_50a7c_row17_col12 {\n",
              "  background-color: #516ddb;\n",
              "  color: #f1f1f1;\n",
              "}\n",
              "#T_50a7c_row1_col5, #T_50a7c_row4_col12, #T_50a7c_row6_col14, #T_50a7c_row8_col2 {\n",
              "  background-color: #5b7ae5;\n",
              "  color: #f1f1f1;\n",
              "}\n",
              "#T_50a7c_row1_col6 {\n",
              "  background-color: #e9d5cb;\n",
              "  color: #000000;\n",
              "}\n",
              "#T_50a7c_row1_col7 {\n",
              "  background-color: #7a9df8;\n",
              "  color: #f1f1f1;\n",
              "}\n",
              "#T_50a7c_row1_col8, #T_50a7c_row3_col9, #T_50a7c_row11_col14 {\n",
              "  background-color: #9abbff;\n",
              "  color: #000000;\n",
              "}\n",
              "#T_50a7c_row1_col9, #T_50a7c_row5_col12, #T_50a7c_row10_col8 {\n",
              "  background-color: #92b4fe;\n",
              "  color: #000000;\n",
              "}\n",
              "#T_50a7c_row1_col10, #T_50a7c_row4_col10, #T_50a7c_row7_col6, #T_50a7c_row7_col12, #T_50a7c_row17_col14 {\n",
              "  background-color: #4a63d3;\n",
              "  color: #f1f1f1;\n",
              "}\n",
              "#T_50a7c_row1_col11 {\n",
              "  background-color: #9ebeff;\n",
              "  color: #000000;\n",
              "}\n",
              "#T_50a7c_row1_col12, #T_50a7c_row11_col1, #T_50a7c_row12_col7 {\n",
              "  background-color: #6485ec;\n",
              "  color: #f1f1f1;\n",
              "}\n",
              "#T_50a7c_row1_col13, #T_50a7c_row2_col13, #T_50a7c_row8_col10, #T_50a7c_row11_col10, #T_50a7c_row13_col2, #T_50a7c_row14_col1, #T_50a7c_row15_col10 {\n",
              "  background-color: #465ecf;\n",
              "  color: #f1f1f1;\n",
              "}\n",
              "#T_50a7c_row1_col14, #T_50a7c_row2_col1, #T_50a7c_row3_col12, #T_50a7c_row5_col1, #T_50a7c_row7_col15, #T_50a7c_row16_col4 {\n",
              "  background-color: #5572df;\n",
              "  color: #f1f1f1;\n",
              "}\n",
              "#T_50a7c_row1_col15 {\n",
              "  background-color: #ccd9ed;\n",
              "  color: #000000;\n",
              "}\n",
              "#T_50a7c_row1_col16, #T_50a7c_row6_col0, #T_50a7c_row8_col11 {\n",
              "  background-color: #9fbfff;\n",
              "  color: #000000;\n",
              "}\n",
              "#T_50a7c_row1_col17, #T_50a7c_row2_col11, #T_50a7c_row3_col16, #T_50a7c_row10_col9, #T_50a7c_row11_col9 {\n",
              "  background-color: #85a8fc;\n",
              "  color: #f1f1f1;\n",
              "}\n",
              "#T_50a7c_row2_col0, #T_50a7c_row2_col9, #T_50a7c_row2_col17, #T_50a7c_row7_col0, #T_50a7c_row10_col7, #T_50a7c_row17_col9 {\n",
              "  background-color: #8caffe;\n",
              "  color: #000000;\n",
              "}\n",
              "#T_50a7c_row2_col3, #T_50a7c_row4_col17, #T_50a7c_row5_col8, #T_50a7c_row6_col9, #T_50a7c_row13_col8 {\n",
              "  background-color: #90b2fe;\n",
              "  color: #000000;\n",
              "}\n",
              "#T_50a7c_row2_col4, #T_50a7c_row2_col14, #T_50a7c_row8_col5, #T_50a7c_row9_col14 {\n",
              "  background-color: #5673e0;\n",
              "  color: #f1f1f1;\n",
              "}\n",
              "#T_50a7c_row2_col5, #T_50a7c_row2_col10, #T_50a7c_row6_col13, #T_50a7c_row16_col10 {\n",
              "  background-color: #4b64d5;\n",
              "  color: #f1f1f1;\n",
              "}\n",
              "#T_50a7c_row2_col6 {\n",
              "  background-color: #6f92f3;\n",
              "  color: #f1f1f1;\n",
              "}\n",
              "#T_50a7c_row2_col8, #T_50a7c_row6_col16, #T_50a7c_row15_col9 {\n",
              "  background-color: #9dbdff;\n",
              "  color: #000000;\n",
              "}\n",
              "#T_50a7c_row2_col12, #T_50a7c_row5_col4, #T_50a7c_row6_col5, #T_50a7c_row7_col16, #T_50a7c_row12_col17, #T_50a7c_row15_col3 {\n",
              "  background-color: #5e7de7;\n",
              "  color: #f1f1f1;\n",
              "}\n",
              "#T_50a7c_row2_col15, #T_50a7c_row14_col5, #T_50a7c_row15_col5 {\n",
              "  background-color: #6788ee;\n",
              "  color: #f1f1f1;\n",
              "}\n",
              "#T_50a7c_row2_col16, #T_50a7c_row5_col9, #T_50a7c_row10_col11, #T_50a7c_row14_col9, #T_50a7c_row17_col0 {\n",
              "  background-color: #8badfd;\n",
              "  color: #000000;\n",
              "}\n",
              "#T_50a7c_row3_col0, #T_50a7c_row7_col4, #T_50a7c_row12_col9 {\n",
              "  background-color: #8db0fe;\n",
              "  color: #000000;\n",
              "}\n",
              "#T_50a7c_row3_col2, #T_50a7c_row8_col0, #T_50a7c_row16_col6 {\n",
              "  background-color: #86a9fc;\n",
              "  color: #f1f1f1;\n",
              "}\n",
              "#T_50a7c_row3_col4, #T_50a7c_row3_col14, #T_50a7c_row4_col14, #T_50a7c_row9_col1, #T_50a7c_row9_col5 {\n",
              "  background-color: #4f69d9;\n",
              "  color: #f1f1f1;\n",
              "}\n",
              "#T_50a7c_row3_col5, #T_50a7c_row4_col13, #T_50a7c_row5_col3, #T_50a7c_row7_col14, #T_50a7c_row14_col2 {\n",
              "  background-color: #455cce;\n",
              "  color: #f1f1f1;\n",
              "}\n",
              "#T_50a7c_row3_col6, #T_50a7c_row4_col0, #T_50a7c_row11_col5, #T_50a7c_row12_col16, #T_50a7c_row15_col7 {\n",
              "  background-color: #7699f6;\n",
              "  color: #f1f1f1;\n",
              "}\n",
              "#T_50a7c_row3_col7, #T_50a7c_row8_col7 {\n",
              "  background-color: #afcafc;\n",
              "  color: #000000;\n",
              "}\n",
              "#T_50a7c_row3_col8, #T_50a7c_row9_col16 {\n",
              "  background-color: #98b9ff;\n",
              "  color: #000000;\n",
              "}\n",
              "#T_50a7c_row3_col10, #T_50a7c_row5_col10, #T_50a7c_row12_col1, #T_50a7c_row17_col13 {\n",
              "  background-color: #4257c9;\n",
              "  color: #f1f1f1;\n",
              "}\n",
              "#T_50a7c_row3_col11, #T_50a7c_row4_col8, #T_50a7c_row8_col6, #T_50a7c_row9_col15, #T_50a7c_row13_col16 {\n",
              "  background-color: #799cf8;\n",
              "  color: #f1f1f1;\n",
              "}\n",
              "#T_50a7c_row3_col13, #T_50a7c_row11_col3 {\n",
              "  background-color: #445acc;\n",
              "  color: #f1f1f1;\n",
              "}\n",
              "#T_50a7c_row3_col15, #T_50a7c_row5_col0, #T_50a7c_row13_col17, #T_50a7c_row17_col3 {\n",
              "  background-color: #7295f4;\n",
              "  color: #f1f1f1;\n",
              "}\n",
              "#T_50a7c_row4_col2, #T_50a7c_row6_col4 {\n",
              "  background-color: #3d50c3;\n",
              "  color: #f1f1f1;\n",
              "}\n",
              "#T_50a7c_row4_col5, #T_50a7c_row6_col10, #T_50a7c_row8_col4, #T_50a7c_row8_col13, #T_50a7c_row13_col3, #T_50a7c_row14_col0 {\n",
              "  background-color: #4e68d8;\n",
              "  color: #f1f1f1;\n",
              "}\n",
              "#T_50a7c_row4_col11, #T_50a7c_row8_col3, #T_50a7c_row13_col4, #T_50a7c_row16_col3, #T_50a7c_row16_col14 {\n",
              "  background-color: #5f7fe8;\n",
              "  color: #f1f1f1;\n",
              "}\n",
              "#T_50a7c_row4_col16, #T_50a7c_row5_col6, #T_50a7c_row10_col6, #T_50a7c_row10_col15 {\n",
              "  background-color: #6b8df0;\n",
              "  color: #f1f1f1;\n",
              "}\n",
              "#T_50a7c_row5_col2, #T_50a7c_row14_col10 {\n",
              "  background-color: #4358cb;\n",
              "  color: #f1f1f1;\n",
              "}\n",
              "#T_50a7c_row5_col7, #T_50a7c_row14_col7 {\n",
              "  background-color: #7396f5;\n",
              "  color: #f1f1f1;\n",
              "}\n",
              "#T_50a7c_row5_col11 {\n",
              "  background-color: #a6c4fe;\n",
              "  color: #000000;\n",
              "}\n",
              "#T_50a7c_row5_col13, #T_50a7c_row11_col0 {\n",
              "  background-color: #5470de;\n",
              "  color: #f1f1f1;\n",
              "}\n",
              "#T_50a7c_row5_col15, #T_50a7c_row17_col4, #T_50a7c_row17_col11 {\n",
              "  background-color: #7b9ff9;\n",
              "  color: #f1f1f1;\n",
              "}\n",
              "#T_50a7c_row5_col17, #T_50a7c_row11_col13, #T_50a7c_row12_col6 {\n",
              "  background-color: #6180e9;\n",
              "  color: #f1f1f1;\n",
              "}\n",
              "#T_50a7c_row6_col1, #T_50a7c_row13_col14 {\n",
              "  background-color: #e1dad6;\n",
              "  color: #000000;\n",
              "}\n",
              "#T_50a7c_row6_col7, #T_50a7c_row15_col4 {\n",
              "  background-color: #7093f3;\n",
              "  color: #f1f1f1;\n",
              "}\n",
              "#T_50a7c_row6_col8 {\n",
              "  background-color: #a2c1ff;\n",
              "  color: #000000;\n",
              "}\n",
              "#T_50a7c_row6_col11, #T_50a7c_row7_col8 {\n",
              "  background-color: #b5cdfa;\n",
              "  color: #000000;\n",
              "}\n",
              "#T_50a7c_row6_col15 {\n",
              "  background-color: #dcdddd;\n",
              "  color: #000000;\n",
              "}\n",
              "#T_50a7c_row6_col17 {\n",
              "  background-color: #81a4fb;\n",
              "  color: #f1f1f1;\n",
              "}\n",
              "#T_50a7c_row7_col1, #T_50a7c_row7_col5 {\n",
              "  background-color: #3e51c5;\n",
              "  color: #f1f1f1;\n",
              "}\n",
              "#T_50a7c_row7_col2, #T_50a7c_row14_col4 {\n",
              "  background-color: #5977e3;\n",
              "  color: #f1f1f1;\n",
              "}\n",
              "#T_50a7c_row7_col3, #T_50a7c_row10_col16 {\n",
              "  background-color: #82a6fb;\n",
              "  color: #f1f1f1;\n",
              "}\n",
              "#T_50a7c_row7_col9, #T_50a7c_row11_col16 {\n",
              "  background-color: #b3cdfb;\n",
              "  color: #000000;\n",
              "}\n",
              "#T_50a7c_row7_col17 {\n",
              "  background-color: #e8d6cc;\n",
              "  color: #000000;\n",
              "}\n",
              "#T_50a7c_row8_col14, #T_50a7c_row9_col6, #T_50a7c_row13_col0 {\n",
              "  background-color: #6384eb;\n",
              "  color: #f1f1f1;\n",
              "}\n",
              "#T_50a7c_row8_col15, #T_50a7c_row16_col15 {\n",
              "  background-color: #a1c0ff;\n",
              "  color: #000000;\n",
              "}\n",
              "#T_50a7c_row8_col16 {\n",
              "  background-color: #88abfd;\n",
              "  color: #000000;\n",
              "}\n",
              "#T_50a7c_row8_col17, #T_50a7c_row9_col7, #T_50a7c_row15_col16 {\n",
              "  background-color: #aec9fc;\n",
              "  color: #000000;\n",
              "}\n",
              "#T_50a7c_row9_col3, #T_50a7c_row13_col6, #T_50a7c_row14_col6 {\n",
              "  background-color: #6282ea;\n",
              "  color: #f1f1f1;\n",
              "}\n",
              "#T_50a7c_row9_col11, #T_50a7c_row10_col17, #T_50a7c_row14_col16 {\n",
              "  background-color: #7ea1fa;\n",
              "  color: #f1f1f1;\n",
              "}\n",
              "#T_50a7c_row9_col17, #T_50a7c_row10_col0, #T_50a7c_row12_col5 {\n",
              "  background-color: #779af7;\n",
              "  color: #f1f1f1;\n",
              "}\n",
              "#T_50a7c_row11_col8 {\n",
              "  background-color: #a5c3fe;\n",
              "  color: #000000;\n",
              "}\n",
              "#T_50a7c_row11_col12 {\n",
              "  background-color: #c6d6f1;\n",
              "  color: #000000;\n",
              "}\n",
              "#T_50a7c_row11_col15, #T_50a7c_row13_col5, #T_50a7c_row16_col2, #T_50a7c_row17_col2 {\n",
              "  background-color: #5d7ce6;\n",
              "  color: #f1f1f1;\n",
              "}\n",
              "#T_50a7c_row12_col8 {\n",
              "  background-color: #89acfd;\n",
              "  color: #000000;\n",
              "}\n",
              "#T_50a7c_row12_col10, #T_50a7c_row13_col10, #T_50a7c_row15_col12 {\n",
              "  background-color: #4055c8;\n",
              "  color: #f1f1f1;\n",
              "}\n",
              "#T_50a7c_row12_col11 {\n",
              "  background-color: #d5dbe5;\n",
              "  color: #000000;\n",
              "}\n",
              "#T_50a7c_row12_col13 {\n",
              "  background-color: #c4d5f3;\n",
              "  color: #000000;\n",
              "}\n",
              "#T_50a7c_row12_col14 {\n",
              "  background-color: #f2cbb7;\n",
              "  color: #000000;\n",
              "}\n",
              "#T_50a7c_row13_col1, #T_50a7c_row14_col3, #T_50a7c_row14_col15, #T_50a7c_row15_col2, #T_50a7c_row16_col13 {\n",
              "  background-color: #4961d2;\n",
              "  color: #f1f1f1;\n",
              "}\n",
              "#T_50a7c_row13_col7, #T_50a7c_row15_col11 {\n",
              "  background-color: #7da0f9;\n",
              "  color: #f1f1f1;\n",
              "}\n",
              "#T_50a7c_row13_col9 {\n",
              "  background-color: #84a7fc;\n",
              "  color: #f1f1f1;\n",
              "}\n",
              "#T_50a7c_row13_col11, #T_50a7c_row16_col8 {\n",
              "  background-color: #9bbcff;\n",
              "  color: #000000;\n",
              "}\n",
              "#T_50a7c_row13_col12 {\n",
              "  background-color: #d8dce2;\n",
              "  color: #000000;\n",
              "}\n",
              "#T_50a7c_row14_col11, #T_50a7c_row15_col8, #T_50a7c_row16_col11, #T_50a7c_row17_col8 {\n",
              "  background-color: #bed2f6;\n",
              "  color: #000000;\n",
              "}\n",
              "#T_50a7c_row14_col12 {\n",
              "  background-color: #f5c4ac;\n",
              "  color: #000000;\n",
              "}\n",
              "#T_50a7c_row14_col13 {\n",
              "  background-color: #dadce0;\n",
              "  color: #000000;\n",
              "}\n",
              "#T_50a7c_row15_col0 {\n",
              "  background-color: #c3d5f4;\n",
              "  color: #000000;\n",
              "}\n",
              "#T_50a7c_row15_col1 {\n",
              "  background-color: #bbd1f8;\n",
              "  color: #000000;\n",
              "}\n",
              "#T_50a7c_row15_col6 {\n",
              "  background-color: #d9dce1;\n",
              "  color: #000000;\n",
              "}\n",
              "#T_50a7c_row15_col14 {\n",
              "  background-color: #3c4ec2;\n",
              "  color: #f1f1f1;\n",
              "}\n",
              "#T_50a7c_row16_col9 {\n",
              "  background-color: #aac7fd;\n",
              "  color: #000000;\n",
              "}\n",
              "#T_50a7c_row17_col7 {\n",
              "  background-color: #edd2c3;\n",
              "  color: #000000;\n",
              "}\n",
              "</style>\n",
              "<table id=\"T_50a7c\" class=\"dataframe\">\n",
              "  <thead>\n",
              "    <tr>\n",
              "      <th class=\"blank level0\" >&nbsp;</th>\n",
              "      <th id=\"T_50a7c_level0_col0\" class=\"col_heading level0 col0\" >no_of_adults</th>\n",
              "      <th id=\"T_50a7c_level0_col1\" class=\"col_heading level0 col1\" >no_of_children</th>\n",
              "      <th id=\"T_50a7c_level0_col2\" class=\"col_heading level0 col2\" >no_of_weekend_nights</th>\n",
              "      <th id=\"T_50a7c_level0_col3\" class=\"col_heading level0 col3\" >no_of_week_nights</th>\n",
              "      <th id=\"T_50a7c_level0_col4\" class=\"col_heading level0 col4\" >type_of_meal_plan</th>\n",
              "      <th id=\"T_50a7c_level0_col5\" class=\"col_heading level0 col5\" >required_car_parking_space</th>\n",
              "      <th id=\"T_50a7c_level0_col6\" class=\"col_heading level0 col6\" >room_type_reserved</th>\n",
              "      <th id=\"T_50a7c_level0_col7\" class=\"col_heading level0 col7\" >lead_time</th>\n",
              "      <th id=\"T_50a7c_level0_col8\" class=\"col_heading level0 col8\" >arrival_year</th>\n",
              "      <th id=\"T_50a7c_level0_col9\" class=\"col_heading level0 col9\" >arrival_month</th>\n",
              "      <th id=\"T_50a7c_level0_col10\" class=\"col_heading level0 col10\" >arrival_date</th>\n",
              "      <th id=\"T_50a7c_level0_col11\" class=\"col_heading level0 col11\" >market_segment_type</th>\n",
              "      <th id=\"T_50a7c_level0_col12\" class=\"col_heading level0 col12\" >repeated_guest</th>\n",
              "      <th id=\"T_50a7c_level0_col13\" class=\"col_heading level0 col13\" >no_of_previous_cancellations</th>\n",
              "      <th id=\"T_50a7c_level0_col14\" class=\"col_heading level0 col14\" >no_of_previous_bookings_not_canceled</th>\n",
              "      <th id=\"T_50a7c_level0_col15\" class=\"col_heading level0 col15\" >avg_price_per_room</th>\n",
              "      <th id=\"T_50a7c_level0_col16\" class=\"col_heading level0 col16\" >no_of_special_requests</th>\n",
              "      <th id=\"T_50a7c_level0_col17\" class=\"col_heading level0 col17\" >booking_status</th>\n",
              "    </tr>\n",
              "  </thead>\n",
              "  <tbody>\n",
              "    <tr>\n",
              "      <th id=\"T_50a7c_level0_row0\" class=\"row_heading level0 row0\" >no_of_adults</th>\n",
              "      <td id=\"T_50a7c_row0_col0\" class=\"data row0 col0\" >1.000000</td>\n",
              "      <td id=\"T_50a7c_row0_col1\" class=\"data row0 col1\" >-0.017565</td>\n",
              "      <td id=\"T_50a7c_row0_col2\" class=\"data row0 col2\" >0.098241</td>\n",
              "      <td id=\"T_50a7c_row0_col3\" class=\"data row0 col3\" >0.103135</td>\n",
              "      <td id=\"T_50a7c_row0_col4\" class=\"data row0 col4\" >0.025139</td>\n",
              "      <td id=\"T_50a7c_row0_col5\" class=\"data row0 col5\" >0.010956</td>\n",
              "      <td id=\"T_50a7c_row0_col6\" class=\"data row0 col6\" >0.163542</td>\n",
              "      <td id=\"T_50a7c_row0_col7\" class=\"data row0 col7\" >0.098254</td>\n",
              "      <td id=\"T_50a7c_row0_col8\" class=\"data row0 col8\" >0.077915</td>\n",
              "      <td id=\"T_50a7c_row0_col9\" class=\"data row0 col9\" >0.018254</td>\n",
              "      <td id=\"T_50a7c_row0_col10\" class=\"data row0 col10\" >0.028433</td>\n",
              "      <td id=\"T_50a7c_row0_col11\" class=\"data row0 col11\" >-0.098518</td>\n",
              "      <td id=\"T_50a7c_row0_col12\" class=\"data row0 col12\" >-0.198334</td>\n",
              "      <td id=\"T_50a7c_row0_col13\" class=\"data row0 col13\" >-0.043494</td>\n",
              "      <td id=\"T_50a7c_row0_col14\" class=\"data row0 col14\" >-0.119703</td>\n",
              "      <td id=\"T_50a7c_row0_col15\" class=\"data row0 col15\" >0.292910</td>\n",
              "      <td id=\"T_50a7c_row0_col16\" class=\"data row0 col16\" >0.179970</td>\n",
              "      <td id=\"T_50a7c_row0_col17\" class=\"data row0 col17\" >0.094354</td>\n",
              "    </tr>\n",
              "    <tr>\n",
              "      <th id=\"T_50a7c_level0_row1\" class=\"row_heading level0 row1\" >no_of_children</th>\n",
              "      <td id=\"T_50a7c_row1_col0\" class=\"data row1 col0\" >-0.017565</td>\n",
              "      <td id=\"T_50a7c_row1_col1\" class=\"data row1 col1\" >1.000000</td>\n",
              "      <td id=\"T_50a7c_row1_col2\" class=\"data row1 col2\" >0.026761</td>\n",
              "      <td id=\"T_50a7c_row1_col3\" class=\"data row1 col3\" >0.018957</td>\n",
              "      <td id=\"T_50a7c_row1_col4\" class=\"data row1 col4\" >-0.066445</td>\n",
              "      <td id=\"T_50a7c_row1_col5\" class=\"data row1 col5\" >0.026409</td>\n",
              "      <td id=\"T_50a7c_row1_col6\" class=\"data row1 col6\" >0.484223</td>\n",
              "      <td id=\"T_50a7c_row1_col7\" class=\"data row1 col7\" >-0.051646</td>\n",
              "      <td id=\"T_50a7c_row1_col8\" class=\"data row1 col8\" >0.044164</td>\n",
              "      <td id=\"T_50a7c_row1_col9\" class=\"data row1 col9\" >0.008244</td>\n",
              "      <td id=\"T_50a7c_row1_col10\" class=\"data row1 col10\" >0.020804</td>\n",
              "      <td id=\"T_50a7c_row1_col11\" class=\"data row1 col11\" >0.078264</td>\n",
              "      <td id=\"T_50a7c_row1_col12\" class=\"data row1 col12\" >-0.037868</td>\n",
              "      <td id=\"T_50a7c_row1_col13\" class=\"data row1 col13\" >-0.015580</td>\n",
              "      <td id=\"T_50a7c_row1_col14\" class=\"data row1 col14\" >-0.021495</td>\n",
              "      <td id=\"T_50a7c_row1_col15\" class=\"data row1 col15\" >0.342425</td>\n",
              "      <td id=\"T_50a7c_row1_col16\" class=\"data row1 col16\" >0.128325</td>\n",
              "      <td id=\"T_50a7c_row1_col17\" class=\"data row1 col17\" >0.035093</td>\n",
              "    </tr>\n",
              "    <tr>\n",
              "      <th id=\"T_50a7c_level0_row2\" class=\"row_heading level0 row2\" >no_of_weekend_nights</th>\n",
              "      <td id=\"T_50a7c_row2_col0\" class=\"data row2 col0\" >0.098241</td>\n",
              "      <td id=\"T_50a7c_row2_col1\" class=\"data row2 col1\" >0.026761</td>\n",
              "      <td id=\"T_50a7c_row2_col2\" class=\"data row2 col2\" >1.000000</td>\n",
              "      <td id=\"T_50a7c_row2_col3\" class=\"data row2 col3\" >0.188796</td>\n",
              "      <td id=\"T_50a7c_row2_col4\" class=\"data row2 col4\" >-0.048357</td>\n",
              "      <td id=\"T_50a7c_row2_col5\" class=\"data row2 col5\" >-0.029054</td>\n",
              "      <td id=\"T_50a7c_row2_col6\" class=\"data row2 col6\" >0.044741</td>\n",
              "      <td id=\"T_50a7c_row2_col7\" class=\"data row2 col7\" >0.047559</td>\n",
              "      <td id=\"T_50a7c_row2_col8\" class=\"data row2 col8\" >0.054914</td>\n",
              "      <td id=\"T_50a7c_row2_col9\" class=\"data row2 col9\" >-0.010060</td>\n",
              "      <td id=\"T_50a7c_row2_col10\" class=\"data row2 col10\" >0.024026</td>\n",
              "      <td id=\"T_50a7c_row2_col11\" class=\"data row2 col11\" >-0.011626</td>\n",
              "      <td id=\"T_50a7c_row2_col12\" class=\"data row2 col12\" >-0.058549</td>\n",
              "      <td id=\"T_50a7c_row2_col13\" class=\"data row2 col13\" >-0.015543</td>\n",
              "      <td id=\"T_50a7c_row2_col14\" class=\"data row2 col14\" >-0.018829</td>\n",
              "      <td id=\"T_50a7c_row2_col15\" class=\"data row2 col15\" >-0.005837</td>\n",
              "      <td id=\"T_50a7c_row2_col16\" class=\"data row2 col16\" >0.057814</td>\n",
              "      <td id=\"T_50a7c_row2_col17\" class=\"data row2 col17\" >0.061117</td>\n",
              "    </tr>\n",
              "    <tr>\n",
              "      <th id=\"T_50a7c_level0_row3\" class=\"row_heading level0 row3\" >no_of_week_nights</th>\n",
              "      <td id=\"T_50a7c_row3_col0\" class=\"data row3 col0\" >0.103135</td>\n",
              "      <td id=\"T_50a7c_row3_col1\" class=\"data row3 col1\" >0.018957</td>\n",
              "      <td id=\"T_50a7c_row3_col2\" class=\"data row3 col2\" >0.188796</td>\n",
              "      <td id=\"T_50a7c_row3_col3\" class=\"data row3 col3\" >1.000000</td>\n",
              "      <td id=\"T_50a7c_row3_col4\" class=\"data row3 col4\" >-0.076067</td>\n",
              "      <td id=\"T_50a7c_row3_col5\" class=\"data row3 col5\" >-0.054087</td>\n",
              "      <td id=\"T_50a7c_row3_col6\" class=\"data row3 col6\" >0.066756</td>\n",
              "      <td id=\"T_50a7c_row3_col7\" class=\"data row3 col7\" >0.148348</td>\n",
              "      <td id=\"T_50a7c_row3_col8\" class=\"data row3 col8\" >0.037240</td>\n",
              "      <td id=\"T_50a7c_row3_col9\" class=\"data row3 col9\" >0.044170</td>\n",
              "      <td id=\"T_50a7c_row3_col10\" class=\"data row3 col10\" >-0.007471</td>\n",
              "      <td id=\"T_50a7c_row3_col11\" class=\"data row3 col11\" >-0.060650</td>\n",
              "      <td id=\"T_50a7c_row3_col12\" class=\"data row3 col12\" >-0.094936</td>\n",
              "      <td id=\"T_50a7c_row3_col13\" class=\"data row3 col13\" >-0.024761</td>\n",
              "      <td id=\"T_50a7c_row3_col14\" class=\"data row3 col14\" >-0.041108</td>\n",
              "      <td id=\"T_50a7c_row3_col15\" class=\"data row3 col15\" >0.029326</td>\n",
              "      <td id=\"T_50a7c_row3_col16\" class=\"data row3 col16\" >0.037413</td>\n",
              "      <td id=\"T_50a7c_row3_col17\" class=\"data row3 col17\" >0.096472</td>\n",
              "    </tr>\n",
              "    <tr>\n",
              "      <th id=\"T_50a7c_level0_row4\" class=\"row_heading level0 row4\" >type_of_meal_plan</th>\n",
              "      <td id=\"T_50a7c_row4_col0\" class=\"data row4 col0\" >0.025139</td>\n",
              "      <td id=\"T_50a7c_row4_col1\" class=\"data row4 col1\" >-0.066445</td>\n",
              "      <td id=\"T_50a7c_row4_col2\" class=\"data row4 col2\" >-0.048357</td>\n",
              "      <td id=\"T_50a7c_row4_col3\" class=\"data row4 col3\" >-0.076067</td>\n",
              "      <td id=\"T_50a7c_row4_col4\" class=\"data row4 col4\" >1.000000</td>\n",
              "      <td id=\"T_50a7c_row4_col5\" class=\"data row4 col5\" >-0.021426</td>\n",
              "      <td id=\"T_50a7c_row4_col6\" class=\"data row4 col6\" >-0.146645</td>\n",
              "      <td id=\"T_50a7c_row4_col7\" class=\"data row4 col7\" >0.134350</td>\n",
              "      <td id=\"T_50a7c_row4_col8\" class=\"data row4 col8\" >-0.083469</td>\n",
              "      <td id=\"T_50a7c_row4_col9\" class=\"data row4 col9\" >0.019607</td>\n",
              "      <td id=\"T_50a7c_row4_col10\" class=\"data row4 col10\" >0.019243</td>\n",
              "      <td id=\"T_50a7c_row4_col11\" class=\"data row4 col11\" >-0.156242</td>\n",
              "      <td id=\"T_50a7c_row4_col12\" class=\"data row4 col12\" >-0.068313</td>\n",
              "      <td id=\"T_50a7c_row4_col13\" class=\"data row4 col13\" >-0.018854</td>\n",
              "      <td id=\"T_50a7c_row4_col14\" class=\"data row4 col14\" >-0.042258</td>\n",
              "      <td id=\"T_50a7c_row4_col15\" class=\"data row4 col15\" >0.039359</td>\n",
              "      <td id=\"T_50a7c_row4_col16\" class=\"data row4 col16\" >-0.054258</td>\n",
              "      <td id=\"T_50a7c_row4_col17\" class=\"data row4 col17\" >0.076685</td>\n",
              "    </tr>\n",
              "    <tr>\n",
              "      <th id=\"T_50a7c_level0_row5\" class=\"row_heading level0 row5\" >required_car_parking_space</th>\n",
              "      <td id=\"T_50a7c_row5_col0\" class=\"data row5 col0\" >0.010956</td>\n",
              "      <td id=\"T_50a7c_row5_col1\" class=\"data row5 col1\" >0.026409</td>\n",
              "      <td id=\"T_50a7c_row5_col2\" class=\"data row5 col2\" >-0.029054</td>\n",
              "      <td id=\"T_50a7c_row5_col3\" class=\"data row5 col3\" >-0.054087</td>\n",
              "      <td id=\"T_50a7c_row5_col4\" class=\"data row5 col4\" >-0.021426</td>\n",
              "      <td id=\"T_50a7c_row5_col5\" class=\"data row5 col5\" >1.000000</td>\n",
              "      <td id=\"T_50a7c_row5_col6\" class=\"data row5 col6\" >0.031255</td>\n",
              "      <td id=\"T_50a7c_row5_col7\" class=\"data row5 col7\" >-0.076608</td>\n",
              "      <td id=\"T_50a7c_row5_col8\" class=\"data row5 col8\" >0.006502</td>\n",
              "      <td id=\"T_50a7c_row5_col9\" class=\"data row5 col9\" >-0.018159</td>\n",
              "      <td id=\"T_50a7c_row5_col10\" class=\"data row5 col10\" >-0.008735</td>\n",
              "      <td id=\"T_50a7c_row5_col11\" class=\"data row5 col11\" >0.109336</td>\n",
              "      <td id=\"T_50a7c_row5_col12\" class=\"data row5 col12\" >0.116001</td>\n",
              "      <td id=\"T_50a7c_row5_col13\" class=\"data row5 col13\" >0.027336</td>\n",
              "      <td id=\"T_50a7c_row5_col14\" class=\"data row5 col14\" >0.062674</td>\n",
              "      <td id=\"T_50a7c_row5_col15\" class=\"data row5 col15\" >0.062199</td>\n",
              "      <td id=\"T_50a7c_row5_col16\" class=\"data row5 col16\" >0.083360</td>\n",
              "      <td id=\"T_50a7c_row5_col17\" class=\"data row5 col17\" >-0.092640</td>\n",
              "    </tr>\n",
              "    <tr>\n",
              "      <th id=\"T_50a7c_level0_row6\" class=\"row_heading level0 row6\" >room_type_reserved</th>\n",
              "      <td id=\"T_50a7c_row6_col0\" class=\"data row6 col0\" >0.163542</td>\n",
              "      <td id=\"T_50a7c_row6_col1\" class=\"data row6 col1\" >0.484223</td>\n",
              "      <td id=\"T_50a7c_row6_col2\" class=\"data row6 col2\" >0.044741</td>\n",
              "      <td id=\"T_50a7c_row6_col3\" class=\"data row6 col3\" >0.066756</td>\n",
              "      <td id=\"T_50a7c_row6_col4\" class=\"data row6 col4\" >-0.146645</td>\n",
              "      <td id=\"T_50a7c_row6_col5\" class=\"data row6 col5\" >0.031255</td>\n",
              "      <td id=\"T_50a7c_row6_col6\" class=\"data row6 col6\" >1.000000</td>\n",
              "      <td id=\"T_50a7c_row6_col7\" class=\"data row6 col7\" >-0.088265</td>\n",
              "      <td id=\"T_50a7c_row6_col8\" class=\"data row6 col8\" >0.073680</td>\n",
              "      <td id=\"T_50a7c_row6_col9\" class=\"data row6 col9\" >0.003517</td>\n",
              "      <td id=\"T_50a7c_row6_col10\" class=\"data row6 col10\" >0.030617</td>\n",
              "      <td id=\"T_50a7c_row6_col11\" class=\"data row6 col11\" >0.165417</td>\n",
              "      <td id=\"T_50a7c_row6_col12\" class=\"data row6 col12\" >-0.006948</td>\n",
              "      <td id=\"T_50a7c_row6_col13\" class=\"data row6 col13\" >-0.001362</td>\n",
              "      <td id=\"T_50a7c_row6_col14\" class=\"data row6 col14\" >-0.001447</td>\n",
              "      <td id=\"T_50a7c_row6_col15\" class=\"data row6 col15\" >0.411577</td>\n",
              "      <td id=\"T_50a7c_row6_col16\" class=\"data row6 col16\" >0.121888</td>\n",
              "      <td id=\"T_50a7c_row6_col17\" class=\"data row6 col17\" >0.021723</td>\n",
              "    </tr>\n",
              "    <tr>\n",
              "      <th id=\"T_50a7c_level0_row7\" class=\"row_heading level0 row7\" >lead_time</th>\n",
              "      <td id=\"T_50a7c_row7_col0\" class=\"data row7 col0\" >0.098254</td>\n",
              "      <td id=\"T_50a7c_row7_col1\" class=\"data row7 col1\" >-0.051646</td>\n",
              "      <td id=\"T_50a7c_row7_col2\" class=\"data row7 col2\" >0.047559</td>\n",
              "      <td id=\"T_50a7c_row7_col3\" class=\"data row7 col3\" >0.148348</td>\n",
              "      <td id=\"T_50a7c_row7_col4\" class=\"data row7 col4\" >0.134350</td>\n",
              "      <td id=\"T_50a7c_row7_col5\" class=\"data row7 col5\" >-0.076608</td>\n",
              "      <td id=\"T_50a7c_row7_col6\" class=\"data row7 col6\" >-0.088265</td>\n",
              "      <td id=\"T_50a7c_row7_col7\" class=\"data row7 col7\" >1.000000</td>\n",
              "      <td id=\"T_50a7c_row7_col8\" class=\"data row7 col8\" >0.148482</td>\n",
              "      <td id=\"T_50a7c_row7_col9\" class=\"data row7 col9\" >0.140062</td>\n",
              "      <td id=\"T_50a7c_row7_col10\" class=\"data row7 col10\" >0.012856</td>\n",
              "      <td id=\"T_50a7c_row7_col11\" class=\"data row7 col11\" >-0.312090</td>\n",
              "      <td id=\"T_50a7c_row7_col12\" class=\"data row7 col12\" >-0.135079</td>\n",
              "      <td id=\"T_50a7c_row7_col13\" class=\"data row7 col13\" >-0.042747</td>\n",
              "      <td id=\"T_50a7c_row7_col14\" class=\"data row7 col14\" >-0.078664</td>\n",
              "      <td id=\"T_50a7c_row7_col15\" class=\"data row7 col15\" >-0.069985</td>\n",
              "      <td id=\"T_50a7c_row7_col16\" class=\"data row7 col16\" >-0.103707</td>\n",
              "      <td id=\"T_50a7c_row7_col17\" class=\"data row7 col17\" >0.434314</td>\n",
              "    </tr>\n",
              "    <tr>\n",
              "      <th id=\"T_50a7c_level0_row8\" class=\"row_heading level0 row8\" >arrival_year</th>\n",
              "      <td id=\"T_50a7c_row8_col0\" class=\"data row8 col0\" >0.077915</td>\n",
              "      <td id=\"T_50a7c_row8_col1\" class=\"data row8 col1\" >0.044164</td>\n",
              "      <td id=\"T_50a7c_row8_col2\" class=\"data row8 col2\" >0.054914</td>\n",
              "      <td id=\"T_50a7c_row8_col3\" class=\"data row8 col3\" >0.037240</td>\n",
              "      <td id=\"T_50a7c_row8_col4\" class=\"data row8 col4\" >-0.083469</td>\n",
              "      <td id=\"T_50a7c_row8_col5\" class=\"data row8 col5\" >0.006502</td>\n",
              "      <td id=\"T_50a7c_row8_col6\" class=\"data row8 col6\" >0.073680</td>\n",
              "      <td id=\"T_50a7c_row8_col7\" class=\"data row8 col7\" >0.148482</td>\n",
              "      <td id=\"T_50a7c_row8_col8\" class=\"data row8 col8\" >1.000000</td>\n",
              "      <td id=\"T_50a7c_row8_col9\" class=\"data row8 col9\" >-0.343696</td>\n",
              "      <td id=\"T_50a7c_row8_col10\" class=\"data row8 col10\" >0.008437</td>\n",
              "      <td id=\"T_50a7c_row8_col11\" class=\"data row8 col11\" >0.083831</td>\n",
              "      <td id=\"T_50a7c_row8_col12\" class=\"data row8 col12\" >-0.018765</td>\n",
              "      <td id=\"T_50a7c_row8_col13\" class=\"data row8 col13\" >0.006593</td>\n",
              "      <td id=\"T_50a7c_row8_col14\" class=\"data row8 col14\" >0.025689</td>\n",
              "      <td id=\"T_50a7c_row8_col15\" class=\"data row8 col15\" >0.184786</td>\n",
              "      <td id=\"T_50a7c_row8_col16\" class=\"data row8 col16\" >0.048557</td>\n",
              "      <td id=\"T_50a7c_row8_col17\" class=\"data row8 col17\" >0.183256</td>\n",
              "    </tr>\n",
              "    <tr>\n",
              "      <th id=\"T_50a7c_level0_row9\" class=\"row_heading level0 row9\" >arrival_month</th>\n",
              "      <td id=\"T_50a7c_row9_col0\" class=\"data row9 col0\" >0.018254</td>\n",
              "      <td id=\"T_50a7c_row9_col1\" class=\"data row9 col1\" >0.008244</td>\n",
              "      <td id=\"T_50a7c_row9_col2\" class=\"data row9 col2\" >-0.010060</td>\n",
              "      <td id=\"T_50a7c_row9_col3\" class=\"data row9 col3\" >0.044170</td>\n",
              "      <td id=\"T_50a7c_row9_col4\" class=\"data row9 col4\" >0.019607</td>\n",
              "      <td id=\"T_50a7c_row9_col5\" class=\"data row9 col5\" >-0.018159</td>\n",
              "      <td id=\"T_50a7c_row9_col6\" class=\"data row9 col6\" >0.003517</td>\n",
              "      <td id=\"T_50a7c_row9_col7\" class=\"data row9 col7\" >0.140062</td>\n",
              "      <td id=\"T_50a7c_row9_col8\" class=\"data row9 col8\" >-0.343696</td>\n",
              "      <td id=\"T_50a7c_row9_col9\" class=\"data row9 col9\" >1.000000</td>\n",
              "      <td id=\"T_50a7c_row9_col10\" class=\"data row9 col10\" >-0.034861</td>\n",
              "      <td id=\"T_50a7c_row9_col11\" class=\"data row9 col11\" >-0.038777</td>\n",
              "      <td id=\"T_50a7c_row9_col12\" class=\"data row9 col12\" >-0.004458</td>\n",
              "      <td id=\"T_50a7c_row9_col13\" class=\"data row9 col13\" >-0.040632</td>\n",
              "      <td id=\"T_50a7c_row9_col14\" class=\"data row9 col14\" >-0.015225</td>\n",
              "      <td id=\"T_50a7c_row9_col15\" class=\"data row9 col15\" >0.053381</td>\n",
              "      <td id=\"T_50a7c_row9_col16\" class=\"data row9 col16\" >0.103389</td>\n",
              "      <td id=\"T_50a7c_row9_col17\" class=\"data row9 col17\" >-0.011472</td>\n",
              "    </tr>\n",
              "    <tr>\n",
              "      <th id=\"T_50a7c_level0_row10\" class=\"row_heading level0 row10\" >arrival_date</th>\n",
              "      <td id=\"T_50a7c_row10_col0\" class=\"data row10 col0\" >0.028433</td>\n",
              "      <td id=\"T_50a7c_row10_col1\" class=\"data row10 col1\" >0.020804</td>\n",
              "      <td id=\"T_50a7c_row10_col2\" class=\"data row10 col2\" >0.024026</td>\n",
              "      <td id=\"T_50a7c_row10_col3\" class=\"data row10 col3\" >-0.007471</td>\n",
              "      <td id=\"T_50a7c_row10_col4\" class=\"data row10 col4\" >0.019243</td>\n",
              "      <td id=\"T_50a7c_row10_col5\" class=\"data row10 col5\" >-0.008735</td>\n",
              "      <td id=\"T_50a7c_row10_col6\" class=\"data row10 col6\" >0.030617</td>\n",
              "      <td id=\"T_50a7c_row10_col7\" class=\"data row10 col7\" >0.012856</td>\n",
              "      <td id=\"T_50a7c_row10_col8\" class=\"data row10 col8\" >0.008437</td>\n",
              "      <td id=\"T_50a7c_row10_col9\" class=\"data row10 col9\" >-0.034861</td>\n",
              "      <td id=\"T_50a7c_row10_col10\" class=\"data row10 col10\" >1.000000</td>\n",
              "      <td id=\"T_50a7c_row10_col11\" class=\"data row10 col11\" >0.006799</td>\n",
              "      <td id=\"T_50a7c_row10_col12\" class=\"data row10 col12\" >-0.010958</td>\n",
              "      <td id=\"T_50a7c_row10_col13\" class=\"data row10 col13\" >-0.011854</td>\n",
              "      <td id=\"T_50a7c_row10_col14\" class=\"data row10 col14\" >-0.005799</td>\n",
              "      <td id=\"T_50a7c_row10_col15\" class=\"data row10 col15\" >0.009419</td>\n",
              "      <td id=\"T_50a7c_row10_col16\" class=\"data row10 col16\" >0.025031</td>\n",
              "      <td id=\"T_50a7c_row10_col17\" class=\"data row10 col17\" >0.011389</td>\n",
              "    </tr>\n",
              "    <tr>\n",
              "      <th id=\"T_50a7c_level0_row11\" class=\"row_heading level0 row11\" >market_segment_type</th>\n",
              "      <td id=\"T_50a7c_row11_col0\" class=\"data row11 col0\" >-0.098518</td>\n",
              "      <td id=\"T_50a7c_row11_col1\" class=\"data row11 col1\" >0.078264</td>\n",
              "      <td id=\"T_50a7c_row11_col2\" class=\"data row11 col2\" >-0.011626</td>\n",
              "      <td id=\"T_50a7c_row11_col3\" class=\"data row11 col3\" >-0.060650</td>\n",
              "      <td id=\"T_50a7c_row11_col4\" class=\"data row11 col4\" >-0.156242</td>\n",
              "      <td id=\"T_50a7c_row11_col5\" class=\"data row11 col5\" >0.109336</td>\n",
              "      <td id=\"T_50a7c_row11_col6\" class=\"data row11 col6\" >0.165417</td>\n",
              "      <td id=\"T_50a7c_row11_col7\" class=\"data row11 col7\" >-0.312090</td>\n",
              "      <td id=\"T_50a7c_row11_col8\" class=\"data row11 col8\" >0.083831</td>\n",
              "      <td id=\"T_50a7c_row11_col9\" class=\"data row11 col9\" >-0.038777</td>\n",
              "      <td id=\"T_50a7c_row11_col10\" class=\"data row11 col10\" >0.006799</td>\n",
              "      <td id=\"T_50a7c_row11_col11\" class=\"data row11 col11\" >1.000000</td>\n",
              "      <td id=\"T_50a7c_row11_col12\" class=\"data row11 col12\" >0.304650</td>\n",
              "      <td id=\"T_50a7c_row11_col13\" class=\"data row11 col13\" >0.071473</td>\n",
              "      <td id=\"T_50a7c_row11_col14\" class=\"data row11 col14\" >0.201586</td>\n",
              "      <td id=\"T_50a7c_row11_col15\" class=\"data row11 col15\" >-0.044086</td>\n",
              "      <td id=\"T_50a7c_row11_col16\" class=\"data row11 col16\" >0.203076</td>\n",
              "      <td id=\"T_50a7c_row11_col17\" class=\"data row11 col17\" >-0.045906</td>\n",
              "    </tr>\n",
              "    <tr>\n",
              "      <th id=\"T_50a7c_level0_row12\" class=\"row_heading level0 row12\" >repeated_guest</th>\n",
              "      <td id=\"T_50a7c_row12_col0\" class=\"data row12 col0\" >-0.198334</td>\n",
              "      <td id=\"T_50a7c_row12_col1\" class=\"data row12 col1\" >-0.037868</td>\n",
              "      <td id=\"T_50a7c_row12_col2\" class=\"data row12 col2\" >-0.058549</td>\n",
              "      <td id=\"T_50a7c_row12_col3\" class=\"data row12 col3\" >-0.094936</td>\n",
              "      <td id=\"T_50a7c_row12_col4\" class=\"data row12 col4\" >-0.068313</td>\n",
              "      <td id=\"T_50a7c_row12_col5\" class=\"data row12 col5\" >0.116001</td>\n",
              "      <td id=\"T_50a7c_row12_col6\" class=\"data row12 col6\" >-0.006948</td>\n",
              "      <td id=\"T_50a7c_row12_col7\" class=\"data row12 col7\" >-0.135079</td>\n",
              "      <td id=\"T_50a7c_row12_col8\" class=\"data row12 col8\" >-0.018765</td>\n",
              "      <td id=\"T_50a7c_row12_col9\" class=\"data row12 col9\" >-0.004458</td>\n",
              "      <td id=\"T_50a7c_row12_col10\" class=\"data row12 col10\" >-0.010958</td>\n",
              "      <td id=\"T_50a7c_row12_col11\" class=\"data row12 col11\" >0.304650</td>\n",
              "      <td id=\"T_50a7c_row12_col12\" class=\"data row12 col12\" >1.000000</td>\n",
              "      <td id=\"T_50a7c_row12_col13\" class=\"data row12 col13\" >0.378014</td>\n",
              "      <td id=\"T_50a7c_row12_col14\" class=\"data row12 col14\" >0.550633</td>\n",
              "      <td id=\"T_50a7c_row12_col15\" class=\"data row12 col15\" >-0.173846</td>\n",
              "      <td id=\"T_50a7c_row12_col16\" class=\"data row12 col16\" >-0.016543</td>\n",
              "      <td id=\"T_50a7c_row12_col17\" class=\"data row12 col17\" >-0.106715</td>\n",
              "    </tr>\n",
              "    <tr>\n",
              "      <th id=\"T_50a7c_level0_row13\" class=\"row_heading level0 row13\" >no_of_previous_cancellations</th>\n",
              "      <td id=\"T_50a7c_row13_col0\" class=\"data row13 col0\" >-0.043494</td>\n",
              "      <td id=\"T_50a7c_row13_col1\" class=\"data row13 col1\" >-0.015580</td>\n",
              "      <td id=\"T_50a7c_row13_col2\" class=\"data row13 col2\" >-0.015543</td>\n",
              "      <td id=\"T_50a7c_row13_col3\" class=\"data row13 col3\" >-0.024761</td>\n",
              "      <td id=\"T_50a7c_row13_col4\" class=\"data row13 col4\" >-0.018854</td>\n",
              "      <td id=\"T_50a7c_row13_col5\" class=\"data row13 col5\" >0.027336</td>\n",
              "      <td id=\"T_50a7c_row13_col6\" class=\"data row13 col6\" >-0.001362</td>\n",
              "      <td id=\"T_50a7c_row13_col7\" class=\"data row13 col7\" >-0.042747</td>\n",
              "      <td id=\"T_50a7c_row13_col8\" class=\"data row13 col8\" >0.006593</td>\n",
              "      <td id=\"T_50a7c_row13_col9\" class=\"data row13 col9\" >-0.040632</td>\n",
              "      <td id=\"T_50a7c_row13_col10\" class=\"data row13 col10\" >-0.011854</td>\n",
              "      <td id=\"T_50a7c_row13_col11\" class=\"data row13 col11\" >0.071473</td>\n",
              "      <td id=\"T_50a7c_row13_col12\" class=\"data row13 col12\" >0.378014</td>\n",
              "      <td id=\"T_50a7c_row13_col13\" class=\"data row13 col13\" >1.000000</td>\n",
              "      <td id=\"T_50a7c_row13_col14\" class=\"data row13 col14\" >0.459753</td>\n",
              "      <td id=\"T_50a7c_row13_col15\" class=\"data row13 col15\" >-0.060170</td>\n",
              "      <td id=\"T_50a7c_row13_col16\" class=\"data row13 col16\" >-0.007059</td>\n",
              "      <td id=\"T_50a7c_row13_col17\" class=\"data row13 col17\" >-0.031852</td>\n",
              "    </tr>\n",
              "    <tr>\n",
              "      <th id=\"T_50a7c_level0_row14\" class=\"row_heading level0 row14\" >no_of_previous_bookings_not_canceled</th>\n",
              "      <td id=\"T_50a7c_row14_col0\" class=\"data row14 col0\" >-0.119703</td>\n",
              "      <td id=\"T_50a7c_row14_col1\" class=\"data row14 col1\" >-0.021495</td>\n",
              "      <td id=\"T_50a7c_row14_col2\" class=\"data row14 col2\" >-0.018829</td>\n",
              "      <td id=\"T_50a7c_row14_col3\" class=\"data row14 col3\" >-0.041108</td>\n",
              "      <td id=\"T_50a7c_row14_col4\" class=\"data row14 col4\" >-0.042258</td>\n",
              "      <td id=\"T_50a7c_row14_col5\" class=\"data row14 col5\" >0.062674</td>\n",
              "      <td id=\"T_50a7c_row14_col6\" class=\"data row14 col6\" >-0.001447</td>\n",
              "      <td id=\"T_50a7c_row14_col7\" class=\"data row14 col7\" >-0.078664</td>\n",
              "      <td id=\"T_50a7c_row14_col8\" class=\"data row14 col8\" >0.025689</td>\n",
              "      <td id=\"T_50a7c_row14_col9\" class=\"data row14 col9\" >-0.015225</td>\n",
              "      <td id=\"T_50a7c_row14_col10\" class=\"data row14 col10\" >-0.005799</td>\n",
              "      <td id=\"T_50a7c_row14_col11\" class=\"data row14 col11\" >0.201586</td>\n",
              "      <td id=\"T_50a7c_row14_col12\" class=\"data row14 col12\" >0.550633</td>\n",
              "      <td id=\"T_50a7c_row14_col13\" class=\"data row14 col13\" >0.459753</td>\n",
              "      <td id=\"T_50a7c_row14_col14\" class=\"data row14 col14\" >1.000000</td>\n",
              "      <td id=\"T_50a7c_row14_col15\" class=\"data row14 col15\" >-0.114968</td>\n",
              "      <td id=\"T_50a7c_row14_col16\" class=\"data row14 col16\" >0.014382</td>\n",
              "      <td id=\"T_50a7c_row14_col17\" class=\"data row14 col17\" >-0.060697</td>\n",
              "    </tr>\n",
              "    <tr>\n",
              "      <th id=\"T_50a7c_level0_row15\" class=\"row_heading level0 row15\" >avg_price_per_room</th>\n",
              "      <td id=\"T_50a7c_row15_col0\" class=\"data row15 col0\" >0.292910</td>\n",
              "      <td id=\"T_50a7c_row15_col1\" class=\"data row15 col1\" >0.342425</td>\n",
              "      <td id=\"T_50a7c_row15_col2\" class=\"data row15 col2\" >-0.005837</td>\n",
              "      <td id=\"T_50a7c_row15_col3\" class=\"data row15 col3\" >0.029326</td>\n",
              "      <td id=\"T_50a7c_row15_col4\" class=\"data row15 col4\" >0.039359</td>\n",
              "      <td id=\"T_50a7c_row15_col5\" class=\"data row15 col5\" >0.062199</td>\n",
              "      <td id=\"T_50a7c_row15_col6\" class=\"data row15 col6\" >0.411577</td>\n",
              "      <td id=\"T_50a7c_row15_col7\" class=\"data row15 col7\" >-0.069985</td>\n",
              "      <td id=\"T_50a7c_row15_col8\" class=\"data row15 col8\" >0.184786</td>\n",
              "      <td id=\"T_50a7c_row15_col9\" class=\"data row15 col9\" >0.053381</td>\n",
              "      <td id=\"T_50a7c_row15_col10\" class=\"data row15 col10\" >0.009419</td>\n",
              "      <td id=\"T_50a7c_row15_col11\" class=\"data row15 col11\" >-0.044086</td>\n",
              "      <td id=\"T_50a7c_row15_col12\" class=\"data row15 col12\" >-0.173846</td>\n",
              "      <td id=\"T_50a7c_row15_col13\" class=\"data row15 col13\" >-0.060170</td>\n",
              "      <td id=\"T_50a7c_row15_col14\" class=\"data row15 col14\" >-0.114968</td>\n",
              "      <td id=\"T_50a7c_row15_col15\" class=\"data row15 col15\" >1.000000</td>\n",
              "      <td id=\"T_50a7c_row15_col16\" class=\"data row15 col16\" >0.185245</td>\n",
              "      <td id=\"T_50a7c_row15_col17\" class=\"data row15 col17\" >0.145245</td>\n",
              "    </tr>\n",
              "    <tr>\n",
              "      <th id=\"T_50a7c_level0_row16\" class=\"row_heading level0 row16\" >no_of_special_requests</th>\n",
              "      <td id=\"T_50a7c_row16_col0\" class=\"data row16 col0\" >0.179970</td>\n",
              "      <td id=\"T_50a7c_row16_col1\" class=\"data row16 col1\" >0.128325</td>\n",
              "      <td id=\"T_50a7c_row16_col2\" class=\"data row16 col2\" >0.057814</td>\n",
              "      <td id=\"T_50a7c_row16_col3\" class=\"data row16 col3\" >0.037413</td>\n",
              "      <td id=\"T_50a7c_row16_col4\" class=\"data row16 col4\" >-0.054258</td>\n",
              "      <td id=\"T_50a7c_row16_col5\" class=\"data row16 col5\" >0.083360</td>\n",
              "      <td id=\"T_50a7c_row16_col6\" class=\"data row16 col6\" >0.121888</td>\n",
              "      <td id=\"T_50a7c_row16_col7\" class=\"data row16 col7\" >-0.103707</td>\n",
              "      <td id=\"T_50a7c_row16_col8\" class=\"data row16 col8\" >0.048557</td>\n",
              "      <td id=\"T_50a7c_row16_col9\" class=\"data row16 col9\" >0.103389</td>\n",
              "      <td id=\"T_50a7c_row16_col10\" class=\"data row16 col10\" >0.025031</td>\n",
              "      <td id=\"T_50a7c_row16_col11\" class=\"data row16 col11\" >0.203076</td>\n",
              "      <td id=\"T_50a7c_row16_col12\" class=\"data row16 col12\" >-0.016543</td>\n",
              "      <td id=\"T_50a7c_row16_col13\" class=\"data row16 col13\" >-0.007059</td>\n",
              "      <td id=\"T_50a7c_row16_col14\" class=\"data row16 col14\" >0.014382</td>\n",
              "      <td id=\"T_50a7c_row16_col15\" class=\"data row16 col15\" >0.185245</td>\n",
              "      <td id=\"T_50a7c_row16_col16\" class=\"data row16 col16\" >1.000000</td>\n",
              "      <td id=\"T_50a7c_row16_col17\" class=\"data row16 col17\" >-0.248289</td>\n",
              "    </tr>\n",
              "    <tr>\n",
              "      <th id=\"T_50a7c_level0_row17\" class=\"row_heading level0 row17\" >booking_status</th>\n",
              "      <td id=\"T_50a7c_row17_col0\" class=\"data row17 col0\" >0.094354</td>\n",
              "      <td id=\"T_50a7c_row17_col1\" class=\"data row17 col1\" >0.035093</td>\n",
              "      <td id=\"T_50a7c_row17_col2\" class=\"data row17 col2\" >0.061117</td>\n",
              "      <td id=\"T_50a7c_row17_col3\" class=\"data row17 col3\" >0.096472</td>\n",
              "      <td id=\"T_50a7c_row17_col4\" class=\"data row17 col4\" >0.076685</td>\n",
              "      <td id=\"T_50a7c_row17_col5\" class=\"data row17 col5\" >-0.092640</td>\n",
              "      <td id=\"T_50a7c_row17_col6\" class=\"data row17 col6\" >0.021723</td>\n",
              "      <td id=\"T_50a7c_row17_col7\" class=\"data row17 col7\" >0.434314</td>\n",
              "      <td id=\"T_50a7c_row17_col8\" class=\"data row17 col8\" >0.183256</td>\n",
              "      <td id=\"T_50a7c_row17_col9\" class=\"data row17 col9\" >-0.011472</td>\n",
              "      <td id=\"T_50a7c_row17_col10\" class=\"data row17 col10\" >0.011389</td>\n",
              "      <td id=\"T_50a7c_row17_col11\" class=\"data row17 col11\" >-0.045906</td>\n",
              "      <td id=\"T_50a7c_row17_col12\" class=\"data row17 col12\" >-0.106715</td>\n",
              "      <td id=\"T_50a7c_row17_col13\" class=\"data row17 col13\" >-0.031852</td>\n",
              "      <td id=\"T_50a7c_row17_col14\" class=\"data row17 col14\" >-0.060697</td>\n",
              "      <td id=\"T_50a7c_row17_col15\" class=\"data row17 col15\" >0.145245</td>\n",
              "      <td id=\"T_50a7c_row17_col16\" class=\"data row17 col16\" >-0.248289</td>\n",
              "      <td id=\"T_50a7c_row17_col17\" class=\"data row17 col17\" >1.000000</td>\n",
              "    </tr>\n",
              "  </tbody>\n",
              "</table>\n"
            ],
            "text/plain": [
              "<pandas.io.formats.style.Styler at 0x7b625ec7b2e0>"
            ]
          },
          "execution_count": 22,
          "metadata": {},
          "output_type": "execute_result"
        }
      ],
      "source": [
        "corr = train.corr()\n",
        "corr.style.background_gradient('coolwarm')"
      ]
    },
    {
      "cell_type": "code",
      "execution_count": null,
      "metadata": {
        "colab": {
          "base_uri": "https://localhost:8080/",
          "height": 506
        },
        "id": "1VrzXcjwesH1",
        "outputId": "334042c5-97f7-40d0-9584-ba37cc00b2bc"
      },
      "outputs": [
        {
          "data": {
            "image/png": "[encoded data removed]",
            "text/plain": [
              "<Figure size 616.236x500 with 1 Axes>"
            ]
          },
          "metadata": {},
          "output_type": "display_data"
        }
      ],
      "source": [
        "sns.catplot(data = train, x = \"type_of_meal_plan\", y = \"no_of_adults\", hue='booking_status')\n",
        "plt.show()"
      ]
    },
    {
      "cell_type": "code",
      "execution_count": null,
      "metadata": {
        "id": "k4fxq5KkesJn"
      },
      "outputs": [],
      "source": [
        "X = train.drop('booking_status', axis = 1)\n",
        "y = train['booking_status']"
      ]
    },
    {
      "cell_type": "code",
      "execution_count": null,
      "metadata": {
        "colab": {
          "base_uri": "https://localhost:8080/"
        },
        "id": "RNufP16umKIE",
        "outputId": "0d09cdf5-8ce6-4fc6-98be-632b1326b786"
      },
      "outputs": [
        {
          "data": {
            "text/plain": [
              "0    12195\n",
              "1     5942\n",
              "Name: booking_status, dtype: int64"
            ]
          },
          "execution_count": 25,
          "metadata": {},
          "output_type": "execute_result"
        }
      ],
      "source": [
        "train['booking_status'].value_counts()"
      ]
    },
    {
      "cell_type": "code",
      "execution_count": null,
      "metadata": {
        "colab": {
          "base_uri": "https://localhost:8080/"
        },
        "id": "pdnC73_nesNT",
        "outputId": "c31d0d07-67ff-4d58-e25f-8ca9cd9d36cd"
      },
      "outputs": [
        {
          "data": {
            "text/plain": [
              "0    12195\n",
              "1    12195\n",
              "Name: booking_status, dtype: int64"
            ]
          },
          "execution_count": 26,
          "metadata": {},
          "output_type": "execute_result"
        }
      ],
      "source": [
        "from imblearn import over_sampling\n",
        "os = over_sampling. RandomOverSampler()\n",
        "X, y = os.fit_resample(X,y)\n",
        "y.value_counts()"
      ]
    },
    {
      "cell_type": "code",
      "execution_count": null,
      "metadata": {
        "id": "6uPG87-mehXG"
      },
      "outputs": [],
      "source": [
        "X_train, X_val, y_train, y_val = train_test_split(X,y,test_size=0.2)"
      ]
    },
    {
      "cell_type": "code",
      "execution_count": null,
      "metadata": {
        "colab": {
          "base_uri": "https://localhost:8080/",
          "height": 74
        },
        "id": "VtY8H8Egjy6l",
        "outputId": "b9ddd0ba-2f1e-4acb-cbb7-85e9e4569d30"
      },
      "outputs": [
        {
          "data": {
            "text/html": [
              "<style>#sk-container-id-1 {color: black;background-color: white;}#sk-container-id-1 pre{padding: 0;}#sk-container-id-1 div.sk-toggleable {background-color: white;}#sk-container-id-1 label.sk-toggleable__label {cursor: pointer;display: block;width: 100%;margin-bottom: 0;padding: 0.3em;box-sizing: border-box;text-align: center;}#sk-container-id-1 label.sk-toggleable__label-arrow:before {content: \"▸\";float: left;margin-right: 0.25em;color: #696969;}#sk-container-id-1 label.sk-toggleable__label-arrow:hover:before {color: black;}#sk-container-id-1 div.sk-estimator:hover label.sk-toggleable__label-arrow:before {color: black;}#sk-container-id-1 div.sk-toggleable__content {max-height: 0;max-width: 0;overflow: hidden;text-align: left;background-color: #f0f8ff;}#sk-container-id-1 div.sk-toggleable__content pre {margin: 0.2em;color: black;border-radius: 0.25em;background-color: #f0f8ff;}#sk-container-id-1 input.sk-toggleable__control:checked~div.sk-toggleable__content {max-height: 200px;max-width: 100%;overflow: auto;}#sk-container-id-1 input.sk-toggleable__control:checked~label.sk-toggleable__label-arrow:before {content: \"▾\";}#sk-container-id-1 div.sk-estimator input.sk-toggleable__control:checked~label.sk-toggleable__label {background-color: #d4ebff;}#sk-container-id-1 div.sk-label input.sk-toggleable__control:checked~label.sk-toggleable__label {background-color: #d4ebff;}#sk-container-id-1 input.sk-hidden--visually {border: 0;clip: rect(1px 1px 1px 1px);clip: rect(1px, 1px, 1px, 1px);height: 1px;margin: -1px;overflow: hidden;padding: 0;position: absolute;width: 1px;}#sk-container-id-1 div.sk-estimator {font-family: monospace;background-color: #f0f8ff;border: 1px dotted black;border-radius: 0.25em;box-sizing: border-box;margin-bottom: 0.5em;}#sk-container-id-1 div.sk-estimator:hover {background-color: #d4ebff;}#sk-container-id-1 div.sk-parallel-item::after {content: \"\";width: 100%;border-bottom: 1px solid gray;flex-grow: 1;}#sk-container-id-1 div.sk-label:hover label.sk-toggleable__label {background-color: #d4ebff;}#sk-container-id-1 div.sk-serial::before {content: \"\";position: absolute;border-left: 1px solid gray;box-sizing: border-box;top: 0;bottom: 0;left: 50%;z-index: 0;}#sk-container-id-1 div.sk-serial {display: flex;flex-direction: column;align-items: center;background-color: white;padding-right: 0.2em;padding-left: 0.2em;position: relative;}#sk-container-id-1 div.sk-item {position: relative;z-index: 1;}#sk-container-id-1 div.sk-parallel {display: flex;align-items: stretch;justify-content: center;background-color: white;position: relative;}#sk-container-id-1 div.sk-item::before, #sk-container-id-1 div.sk-parallel-item::before {content: \"\";position: absolute;border-left: 1px solid gray;box-sizing: border-box;top: 0;bottom: 0;left: 50%;z-index: -1;}#sk-container-id-1 div.sk-parallel-item {display: flex;flex-direction: column;z-index: 1;position: relative;background-color: white;}#sk-container-id-1 div.sk-parallel-item:first-child::after {align-self: flex-end;width: 50%;}#sk-container-id-1 div.sk-parallel-item:last-child::after {align-self: flex-start;width: 50%;}#sk-container-id-1 div.sk-parallel-item:only-child::after {width: 0;}#sk-container-id-1 div.sk-dashed-wrapped {border: 1px dashed gray;margin: 0 0.4em 0.5em 0.4em;box-sizing: border-box;padding-bottom: 0.4em;background-color: white;}#sk-container-id-1 div.sk-label label {font-family: monospace;font-weight: bold;display: inline-block;line-height: 1.2em;}#sk-container-id-1 div.sk-label-container {text-align: center;}#sk-container-id-1 div.sk-container {/* jupyter's `normalize.less` sets `[hidden] { display: none; }` but bootstrap.min.css set `[hidden] { display: none !important; }` so we also need the `!important` here to be able to override the default hidden behavior on the sphinx rendered scikit-learn.org. See: https://github.com/scikit-learn/scikit-learn/issues/21755 */display: inline-block !important;position: relative;}#sk-container-id-1 div.sk-text-repr-fallback {display: none;}</style><div id=\"sk-container-id-1\" class=\"sk-top-container\"><div class=\"sk-text-repr-fallback\"><pre>KNeighborsClassifier()</pre><b>In a Jupyter environment, please rerun this cell to show the HTML representation or trust the notebook. <br />On GitHub, the HTML representation is unable to render, please try loading this page with nbviewer.org.</b></div><div class=\"sk-container\" hidden><div class=\"sk-item\"><div class=\"sk-estimator sk-toggleable\"><input class=\"sk-toggleable__control sk-hidden--visually\" id=\"sk-estimator-id-1\" type=\"checkbox\" checked><label for=\"sk-estimator-id-1\" class=\"sk-toggleable__label sk-toggleable__label-arrow\">KNeighborsClassifier</label><div class=\"sk-toggleable__content\"><pre>KNeighborsClassifier()</pre></div></div></div></div></div>"
            ],
            "text/plain": [
              "KNeighborsClassifier()"
            ]
          },
          "execution_count": 28,
          "metadata": {},
          "output_type": "execute_result"
        }
      ],
      "source": [
        "knn = KNeighborsClassifier()\n",
        "knn.fit(X_train, y_train)"
      ]
    },
    {
      "cell_type": "code",
      "execution_count": null,
      "metadata": {
        "colab": {
          "base_uri": "https://localhost:8080/",
          "height": 74
        },
        "id": "Wjg3j9FEjy9Y",
        "outputId": "dd8e94b1-563e-4641-9293-88109acd93f8"
      },
      "outputs": [
        {
          "data": {
            "text/html": [
              "<style>#sk-container-id-2 {color: black;background-color: white;}#sk-container-id-2 pre{padding: 0;}#sk-container-id-2 div.sk-toggleable {background-color: white;}#sk-container-id-2 label.sk-toggleable__label {cursor: pointer;display: block;width: 100%;margin-bottom: 0;padding: 0.3em;box-sizing: border-box;text-align: center;}#sk-container-id-2 label.sk-toggleable__label-arrow:before {content: \"▸\";float: left;margin-right: 0.25em;color: #696969;}#sk-container-id-2 label.sk-toggleable__label-arrow:hover:before {color: black;}#sk-container-id-2 div.sk-estimator:hover label.sk-toggleable__label-arrow:before {color: black;}#sk-container-id-2 div.sk-toggleable__content {max-height: 0;max-width: 0;overflow: hidden;text-align: left;background-color: #f0f8ff;}#sk-container-id-2 div.sk-toggleable__content pre {margin: 0.2em;color: black;border-radius: 0.25em;background-color: #f0f8ff;}#sk-container-id-2 input.sk-toggleable__control:checked~div.sk-toggleable__content {max-height: 200px;max-width: 100%;overflow: auto;}#sk-container-id-2 input.sk-toggleable__control:checked~label.sk-toggleable__label-arrow:before {content: \"▾\";}#sk-container-id-2 div.sk-estimator input.sk-toggleable__control:checked~label.sk-toggleable__label {background-color: #d4ebff;}#sk-container-id-2 div.sk-label input.sk-toggleable__control:checked~label.sk-toggleable__label {background-color: #d4ebff;}#sk-container-id-2 input.sk-hidden--visually {border: 0;clip: rect(1px 1px 1px 1px);clip: rect(1px, 1px, 1px, 1px);height: 1px;margin: -1px;overflow: hidden;padding: 0;position: absolute;width: 1px;}#sk-container-id-2 div.sk-estimator {font-family: monospace;background-color: #f0f8ff;border: 1px dotted black;border-radius: 0.25em;box-sizing: border-box;margin-bottom: 0.5em;}#sk-container-id-2 div.sk-estimator:hover {background-color: #d4ebff;}#sk-container-id-2 div.sk-parallel-item::after {content: \"\";width: 100%;border-bottom: 1px solid gray;flex-grow: 1;}#sk-container-id-2 div.sk-label:hover label.sk-toggleable__label {background-color: #d4ebff;}#sk-container-id-2 div.sk-serial::before {content: \"\";position: absolute;border-left: 1px solid gray;box-sizing: border-box;top: 0;bottom: 0;left: 50%;z-index: 0;}#sk-container-id-2 div.sk-serial {display: flex;flex-direction: column;align-items: center;background-color: white;padding-right: 0.2em;padding-left: 0.2em;position: relative;}#sk-container-id-2 div.sk-item {position: relative;z-index: 1;}#sk-container-id-2 div.sk-parallel {display: flex;align-items: stretch;justify-content: center;background-color: white;position: relative;}#sk-container-id-2 div.sk-item::before, #sk-container-id-2 div.sk-parallel-item::before {content: \"\";position: absolute;border-left: 1px solid gray;box-sizing: border-box;top: 0;bottom: 0;left: 50%;z-index: -1;}#sk-container-id-2 div.sk-parallel-item {display: flex;flex-direction: column;z-index: 1;position: relative;background-color: white;}#sk-container-id-2 div.sk-parallel-item:first-child::after {align-self: flex-end;width: 50%;}#sk-container-id-2 div.sk-parallel-item:last-child::after {align-self: flex-start;width: 50%;}#sk-container-id-2 div.sk-parallel-item:only-child::after {width: 0;}#sk-container-id-2 div.sk-dashed-wrapped {border: 1px dashed gray;margin: 0 0.4em 0.5em 0.4em;box-sizing: border-box;padding-bottom: 0.4em;background-color: white;}#sk-container-id-2 div.sk-label label {font-family: monospace;font-weight: bold;display: inline-block;line-height: 1.2em;}#sk-container-id-2 div.sk-label-container {text-align: center;}#sk-container-id-2 div.sk-container {/* jupyter's `normalize.less` sets `[hidden] { display: none; }` but bootstrap.min.css set `[hidden] { display: none !important; }` so we also need the `!important` here to be able to override the default hidden behavior on the sphinx rendered scikit-learn.org. See: https://github.com/scikit-learn/scikit-learn/issues/21755 */display: inline-block !important;position: relative;}#sk-container-id-2 div.sk-text-repr-fallback {display: none;}</style><div id=\"sk-container-id-2\" class=\"sk-top-container\"><div class=\"sk-text-repr-fallback\"><pre>SVC()</pre><b>In a Jupyter environment, please rerun this cell to show the HTML representation or trust the notebook. <br />On GitHub, the HTML representation is unable to render, please try loading this page with nbviewer.org.</b></div><div class=\"sk-container\" hidden><div class=\"sk-item\"><div class=\"sk-estimator sk-toggleable\"><input class=\"sk-toggleable__control sk-hidden--visually\" id=\"sk-estimator-id-2\" type=\"checkbox\" checked><label for=\"sk-estimator-id-2\" class=\"sk-toggleable__label sk-toggleable__label-arrow\">SVC</label><div class=\"sk-toggleable__content\"><pre>SVC()</pre></div></div></div></div></div>"
            ],
            "text/plain": [
              "SVC()"
            ]
          },
          "execution_count": 29,
          "metadata": {},
          "output_type": "execute_result"
        }
      ],
      "source": [
        "svm = SVC()\n",
        "svm.fit(X_train, y_train)"
      ]
    },
    {
      "cell_type": "code",
      "execution_count": null,
      "metadata": {
        "colab": {
          "base_uri": "https://localhost:8080/",
          "height": 74
        },
        "id": "WnMd80Q3jzAU",
        "outputId": "053e50bc-988c-47a3-9580-9e2e5291541d"
      },
      "outputs": [
        {
          "data": {
            "text/html": [
              "<style>#sk-container-id-3 {color: black;background-color: white;}#sk-container-id-3 pre{padding: 0;}#sk-container-id-3 div.sk-toggleable {background-color: white;}#sk-container-id-3 label.sk-toggleable__label {cursor: pointer;display: block;width: 100%;margin-bottom: 0;padding: 0.3em;box-sizing: border-box;text-align: center;}#sk-container-id-3 label.sk-toggleable__label-arrow:before {content: \"▸\";float: left;margin-right: 0.25em;color: #696969;}#sk-container-id-3 label.sk-toggleable__label-arrow:hover:before {color: black;}#sk-container-id-3 div.sk-estimator:hover label.sk-toggleable__label-arrow:before {color: black;}#sk-container-id-3 div.sk-toggleable__content {max-height: 0;max-width: 0;overflow: hidden;text-align: left;background-color: #f0f8ff;}#sk-container-id-3 div.sk-toggleable__content pre {margin: 0.2em;color: black;border-radius: 0.25em;background-color: #f0f8ff;}#sk-container-id-3 input.sk-toggleable__control:checked~div.sk-toggleable__content {max-height: 200px;max-width: 100%;overflow: auto;}#sk-container-id-3 input.sk-toggleable__control:checked~label.sk-toggleable__label-arrow:before {content: \"▾\";}#sk-container-id-3 div.sk-estimator input.sk-toggleable__control:checked~label.sk-toggleable__label {background-color: #d4ebff;}#sk-container-id-3 div.sk-label input.sk-toggleable__control:checked~label.sk-toggleable__label {background-color: #d4ebff;}#sk-container-id-3 input.sk-hidden--visually {border: 0;clip: rect(1px 1px 1px 1px);clip: rect(1px, 1px, 1px, 1px);height: 1px;margin: -1px;overflow: hidden;padding: 0;position: absolute;width: 1px;}#sk-container-id-3 div.sk-estimator {font-family: monospace;background-color: #f0f8ff;border: 1px dotted black;border-radius: 0.25em;box-sizing: border-box;margin-bottom: 0.5em;}#sk-container-id-3 div.sk-estimator:hover {background-color: #d4ebff;}#sk-container-id-3 div.sk-parallel-item::after {content: \"\";width: 100%;border-bottom: 1px solid gray;flex-grow: 1;}#sk-container-id-3 div.sk-label:hover label.sk-toggleable__label {background-color: #d4ebff;}#sk-container-id-3 div.sk-serial::before {content: \"\";position: absolute;border-left: 1px solid gray;box-sizing: border-box;top: 0;bottom: 0;left: 50%;z-index: 0;}#sk-container-id-3 div.sk-serial {display: flex;flex-direction: column;align-items: center;background-color: white;padding-right: 0.2em;padding-left: 0.2em;position: relative;}#sk-container-id-3 div.sk-item {position: relative;z-index: 1;}#sk-container-id-3 div.sk-parallel {display: flex;align-items: stretch;justify-content: center;background-color: white;position: relative;}#sk-container-id-3 div.sk-item::before, #sk-container-id-3 div.sk-parallel-item::before {content: \"\";position: absolute;border-left: 1px solid gray;box-sizing: border-box;top: 0;bottom: 0;left: 50%;z-index: -1;}#sk-container-id-3 div.sk-parallel-item {display: flex;flex-direction: column;z-index: 1;position: relative;background-color: white;}#sk-container-id-3 div.sk-parallel-item:first-child::after {align-self: flex-end;width: 50%;}#sk-container-id-3 div.sk-parallel-item:last-child::after {align-self: flex-start;width: 50%;}#sk-container-id-3 div.sk-parallel-item:only-child::after {width: 0;}#sk-container-id-3 div.sk-dashed-wrapped {border: 1px dashed gray;margin: 0 0.4em 0.5em 0.4em;box-sizing: border-box;padding-bottom: 0.4em;background-color: white;}#sk-container-id-3 div.sk-label label {font-family: monospace;font-weight: bold;display: inline-block;line-height: 1.2em;}#sk-container-id-3 div.sk-label-container {text-align: center;}#sk-container-id-3 div.sk-container {/* jupyter's `normalize.less` sets `[hidden] { display: none; }` but bootstrap.min.css set `[hidden] { display: none !important; }` so we also need the `!important` here to be able to override the default hidden behavior on the sphinx rendered scikit-learn.org. See: https://github.com/scikit-learn/scikit-learn/issues/21755 */display: inline-block !important;position: relative;}#sk-container-id-3 div.sk-text-repr-fallback {display: none;}</style><div id=\"sk-container-id-3\" class=\"sk-top-container\"><div class=\"sk-text-repr-fallback\"><pre>GaussianNB()</pre><b>In a Jupyter environment, please rerun this cell to show the HTML representation or trust the notebook. <br />On GitHub, the HTML representation is unable to render, please try loading this page with nbviewer.org.</b></div><div class=\"sk-container\" hidden><div class=\"sk-item\"><div class=\"sk-estimator sk-toggleable\"><input class=\"sk-toggleable__control sk-hidden--visually\" id=\"sk-estimator-id-3\" type=\"checkbox\" checked><label for=\"sk-estimator-id-3\" class=\"sk-toggleable__label sk-toggleable__label-arrow\">GaussianNB</label><div class=\"sk-toggleable__content\"><pre>GaussianNB()</pre></div></div></div></div></div>"
            ],
            "text/plain": [
              "GaussianNB()"
            ]
          },
          "execution_count": 30,
          "metadata": {},
          "output_type": "execute_result"
        }
      ],
      "source": [
        "gnb = GaussianNB()\n",
        "gnb.fit(X_train, y_train)"
      ]
    },
    {
      "cell_type": "code",
      "execution_count": null,
      "metadata": {
        "colab": {
          "base_uri": "https://localhost:8080/",
          "height": 213
        },
        "id": "BC3k5qVEjzDY",
        "outputId": "1229175d-b9ed-4bfa-8306-dcc8710a16d8"
      },
      "outputs": [
        {
          "name": "stderr",
          "output_type": "stream",
          "text": [
            "/usr/local/lib/python3.10/dist-packages/sklearn/linear_model/_logistic.py:458: ConvergenceWarning: lbfgs failed to converge (status=1):\n",
            "STOP: TOTAL NO. of ITERATIONS REACHED LIMIT.\n",
            "\n",
            "Increase the number of iterations (max_iter) or scale the data as shown in:\n",
            "    https://scikit-learn.org/stable/modules/preprocessing.html\n",
            "Please also refer to the documentation for alternative solver options:\n",
            "    https://scikit-learn.org/stable/modules/linear_model.html#logistic-regression\n",
            "  n_iter_i = _check_optimize_result(\n"
          ]
        },
        {
          "data": {
            "text/html": [
              "<style>#sk-container-id-4 {color: black;background-color: white;}#sk-container-id-4 pre{padding: 0;}#sk-container-id-4 div.sk-toggleable {background-color: white;}#sk-container-id-4 label.sk-toggleable__label {cursor: pointer;display: block;width: 100%;margin-bottom: 0;padding: 0.3em;box-sizing: border-box;text-align: center;}#sk-container-id-4 label.sk-toggleable__label-arrow:before {content: \"▸\";float: left;margin-right: 0.25em;color: #696969;}#sk-container-id-4 label.sk-toggleable__label-arrow:hover:before {color: black;}#sk-container-id-4 div.sk-estimator:hover label.sk-toggleable__label-arrow:before {color: black;}#sk-container-id-4 div.sk-toggleable__content {max-height: 0;max-width: 0;overflow: hidden;text-align: left;background-color: #f0f8ff;}#sk-container-id-4 div.sk-toggleable__content pre {margin: 0.2em;color: black;border-radius: 0.25em;background-color: #f0f8ff;}#sk-container-id-4 input.sk-toggleable__control:checked~div.sk-toggleable__content {max-height: 200px;max-width: 100%;overflow: auto;}#sk-container-id-4 input.sk-toggleable__control:checked~label.sk-toggleable__label-arrow:before {content: \"▾\";}#sk-container-id-4 div.sk-estimator input.sk-toggleable__control:checked~label.sk-toggleable__label {background-color: #d4ebff;}#sk-container-id-4 div.sk-label input.sk-toggleable__control:checked~label.sk-toggleable__label {background-color: #d4ebff;}#sk-container-id-4 input.sk-hidden--visually {border: 0;clip: rect(1px 1px 1px 1px);clip: rect(1px, 1px, 1px, 1px);height: 1px;margin: -1px;overflow: hidden;padding: 0;position: absolute;width: 1px;}#sk-container-id-4 div.sk-estimator {font-family: monospace;background-color: #f0f8ff;border: 1px dotted black;border-radius: 0.25em;box-sizing: border-box;margin-bottom: 0.5em;}#sk-container-id-4 div.sk-estimator:hover {background-color: #d4ebff;}#sk-container-id-4 div.sk-parallel-item::after {content: \"\";width: 100%;border-bottom: 1px solid gray;flex-grow: 1;}#sk-container-id-4 div.sk-label:hover label.sk-toggleable__label {background-color: #d4ebff;}#sk-container-id-4 div.sk-serial::before {content: \"\";position: absolute;border-left: 1px solid gray;box-sizing: border-box;top: 0;bottom: 0;left: 50%;z-index: 0;}#sk-container-id-4 div.sk-serial {display: flex;flex-direction: column;align-items: center;background-color: white;padding-right: 0.2em;padding-left: 0.2em;position: relative;}#sk-container-id-4 div.sk-item {position: relative;z-index: 1;}#sk-container-id-4 div.sk-parallel {display: flex;align-items: stretch;justify-content: center;background-color: white;position: relative;}#sk-container-id-4 div.sk-item::before, #sk-container-id-4 div.sk-parallel-item::before {content: \"\";position: absolute;border-left: 1px solid gray;box-sizing: border-box;top: 0;bottom: 0;left: 50%;z-index: -1;}#sk-container-id-4 div.sk-parallel-item {display: flex;flex-direction: column;z-index: 1;position: relative;background-color: white;}#sk-container-id-4 div.sk-parallel-item:first-child::after {align-self: flex-end;width: 50%;}#sk-container-id-4 div.sk-parallel-item:last-child::after {align-self: flex-start;width: 50%;}#sk-container-id-4 div.sk-parallel-item:only-child::after {width: 0;}#sk-container-id-4 div.sk-dashed-wrapped {border: 1px dashed gray;margin: 0 0.4em 0.5em 0.4em;box-sizing: border-box;padding-bottom: 0.4em;background-color: white;}#sk-container-id-4 div.sk-label label {font-family: monospace;font-weight: bold;display: inline-block;line-height: 1.2em;}#sk-container-id-4 div.sk-label-container {text-align: center;}#sk-container-id-4 div.sk-container {/* jupyter's `normalize.less` sets `[hidden] { display: none; }` but bootstrap.min.css set `[hidden] { display: none !important; }` so we also need the `!important` here to be able to override the default hidden behavior on the sphinx rendered scikit-learn.org. See: https://github.com/scikit-learn/scikit-learn/issues/21755 */display: inline-block !important;position: relative;}#sk-container-id-4 div.sk-text-repr-fallback {display: none;}</style><div id=\"sk-container-id-4\" class=\"sk-top-container\"><div class=\"sk-text-repr-fallback\"><pre>LogisticRegression()</pre><b>In a Jupyter environment, please rerun this cell to show the HTML representation or trust the notebook. <br />On GitHub, the HTML representation is unable to render, please try loading this page with nbviewer.org.</b></div><div class=\"sk-container\" hidden><div class=\"sk-item\"><div class=\"sk-estimator sk-toggleable\"><input class=\"sk-toggleable__control sk-hidden--visually\" id=\"sk-estimator-id-4\" type=\"checkbox\" checked><label for=\"sk-estimator-id-4\" class=\"sk-toggleable__label sk-toggleable__label-arrow\">LogisticRegression</label><div class=\"sk-toggleable__content\"><pre>LogisticRegression()</pre></div></div></div></div></div>"
            ],
            "text/plain": [
              "LogisticRegression()"
            ]
          },
          "execution_count": 31,
          "metadata": {},
          "output_type": "execute_result"
        }
      ],
      "source": [
        "lr = LogisticRegression()\n",
        "lr.fit(X_train, y_train)"
      ]
    },
    {
      "cell_type": "code",
      "execution_count": null,
      "metadata": {
        "colab": {
          "base_uri": "https://localhost:8080/",
          "height": 74
        },
        "id": "mx__DviNjzGR",
        "outputId": "af55fc68-0ab4-48f8-95af-7e594722718d"
      },
      "outputs": [
        {
          "data": {
            "text/html": [
              "<style>#sk-container-id-5 {color: black;background-color: white;}#sk-container-id-5 pre{padding: 0;}#sk-container-id-5 div.sk-toggleable {background-color: white;}#sk-container-id-5 label.sk-toggleable__label {cursor: pointer;display: block;width: 100%;margin-bottom: 0;padding: 0.3em;box-sizing: border-box;text-align: center;}#sk-container-id-5 label.sk-toggleable__label-arrow:before {content: \"▸\";float: left;margin-right: 0.25em;color: #696969;}#sk-container-id-5 label.sk-toggleable__label-arrow:hover:before {color: black;}#sk-container-id-5 div.sk-estimator:hover label.sk-toggleable__label-arrow:before {color: black;}#sk-container-id-5 div.sk-toggleable__content {max-height: 0;max-width: 0;overflow: hidden;text-align: left;background-color: #f0f8ff;}#sk-container-id-5 div.sk-toggleable__content pre {margin: 0.2em;color: black;border-radius: 0.25em;background-color: #f0f8ff;}#sk-container-id-5 input.sk-toggleable__control:checked~div.sk-toggleable__content {max-height: 200px;max-width: 100%;overflow: auto;}#sk-container-id-5 input.sk-toggleable__control:checked~label.sk-toggleable__label-arrow:before {content: \"▾\";}#sk-container-id-5 div.sk-estimator input.sk-toggleable__control:checked~label.sk-toggleable__label {background-color: #d4ebff;}#sk-container-id-5 div.sk-label input.sk-toggleable__control:checked~label.sk-toggleable__label {background-color: #d4ebff;}#sk-container-id-5 input.sk-hidden--visually {border: 0;clip: rect(1px 1px 1px 1px);clip: rect(1px, 1px, 1px, 1px);height: 1px;margin: -1px;overflow: hidden;padding: 0;position: absolute;width: 1px;}#sk-container-id-5 div.sk-estimator {font-family: monospace;background-color: #f0f8ff;border: 1px dotted black;border-radius: 0.25em;box-sizing: border-box;margin-bottom: 0.5em;}#sk-container-id-5 div.sk-estimator:hover {background-color: #d4ebff;}#sk-container-id-5 div.sk-parallel-item::after {content: \"\";width: 100%;border-bottom: 1px solid gray;flex-grow: 1;}#sk-container-id-5 div.sk-label:hover label.sk-toggleable__label {background-color: #d4ebff;}#sk-container-id-5 div.sk-serial::before {content: \"\";position: absolute;border-left: 1px solid gray;box-sizing: border-box;top: 0;bottom: 0;left: 50%;z-index: 0;}#sk-container-id-5 div.sk-serial {display: flex;flex-direction: column;align-items: center;background-color: white;padding-right: 0.2em;padding-left: 0.2em;position: relative;}#sk-container-id-5 div.sk-item {position: relative;z-index: 1;}#sk-container-id-5 div.sk-parallel {display: flex;align-items: stretch;justify-content: center;background-color: white;position: relative;}#sk-container-id-5 div.sk-item::before, #sk-container-id-5 div.sk-parallel-item::before {content: \"\";position: absolute;border-left: 1px solid gray;box-sizing: border-box;top: 0;bottom: 0;left: 50%;z-index: -1;}#sk-container-id-5 div.sk-parallel-item {display: flex;flex-direction: column;z-index: 1;position: relative;background-color: white;}#sk-container-id-5 div.sk-parallel-item:first-child::after {align-self: flex-end;width: 50%;}#sk-container-id-5 div.sk-parallel-item:last-child::after {align-self: flex-start;width: 50%;}#sk-container-id-5 div.sk-parallel-item:only-child::after {width: 0;}#sk-container-id-5 div.sk-dashed-wrapped {border: 1px dashed gray;margin: 0 0.4em 0.5em 0.4em;box-sizing: border-box;padding-bottom: 0.4em;background-color: white;}#sk-container-id-5 div.sk-label label {font-family: monospace;font-weight: bold;display: inline-block;line-height: 1.2em;}#sk-container-id-5 div.sk-label-container {text-align: center;}#sk-container-id-5 div.sk-container {/* jupyter's `normalize.less` sets `[hidden] { display: none; }` but bootstrap.min.css set `[hidden] { display: none !important; }` so we also need the `!important` here to be able to override the default hidden behavior on the sphinx rendered scikit-learn.org. See: https://github.com/scikit-learn/scikit-learn/issues/21755 */display: inline-block !important;position: relative;}#sk-container-id-5 div.sk-text-repr-fallback {display: none;}</style><div id=\"sk-container-id-5\" class=\"sk-top-container\"><div class=\"sk-text-repr-fallback\"><pre>DecisionTreeClassifier()</pre><b>In a Jupyter environment, please rerun this cell to show the HTML representation or trust the notebook. <br />On GitHub, the HTML representation is unable to render, please try loading this page with nbviewer.org.</b></div><div class=\"sk-container\" hidden><div class=\"sk-item\"><div class=\"sk-estimator sk-toggleable\"><input class=\"sk-toggleable__control sk-hidden--visually\" id=\"sk-estimator-id-5\" type=\"checkbox\" checked><label for=\"sk-estimator-id-5\" class=\"sk-toggleable__label sk-toggleable__label-arrow\">DecisionTreeClassifier</label><div class=\"sk-toggleable__content\"><pre>DecisionTreeClassifier()</pre></div></div></div></div></div>"
            ],
            "text/plain": [
              "DecisionTreeClassifier()"
            ]
          },
          "execution_count": 32,
          "metadata": {},
          "output_type": "execute_result"
        }
      ],
      "source": [
        "dt = DecisionTreeClassifier()\n",
        "dt.fit(X_train, y_train)"
      ]
    },
    {
      "cell_type": "code",
      "execution_count": null,
      "metadata": {
        "colab": {
          "base_uri": "https://localhost:8080/",
          "height": 74
        },
        "id": "mYSZ3W93jzI4",
        "outputId": "8cef1e5c-3cf8-4e2b-d2b8-967e2491487b"
      },
      "outputs": [
        {
          "data": {
            "text/html": [
              "<style>#sk-container-id-6 {color: black;background-color: white;}#sk-container-id-6 pre{padding: 0;}#sk-container-id-6 div.sk-toggleable {background-color: white;}#sk-container-id-6 label.sk-toggleable__label {cursor: pointer;display: block;width: 100%;margin-bottom: 0;padding: 0.3em;box-sizing: border-box;text-align: center;}#sk-container-id-6 label.sk-toggleable__label-arrow:before {content: \"▸\";float: left;margin-right: 0.25em;color: #696969;}#sk-container-id-6 label.sk-toggleable__label-arrow:hover:before {color: black;}#sk-container-id-6 div.sk-estimator:hover label.sk-toggleable__label-arrow:before {color: black;}#sk-container-id-6 div.sk-toggleable__content {max-height: 0;max-width: 0;overflow: hidden;text-align: left;background-color: #f0f8ff;}#sk-container-id-6 div.sk-toggleable__content pre {margin: 0.2em;color: black;border-radius: 0.25em;background-color: #f0f8ff;}#sk-container-id-6 input.sk-toggleable__control:checked~div.sk-toggleable__content {max-height: 200px;max-width: 100%;overflow: auto;}#sk-container-id-6 input.sk-toggleable__control:checked~label.sk-toggleable__label-arrow:before {content: \"▾\";}#sk-container-id-6 div.sk-estimator input.sk-toggleable__control:checked~label.sk-toggleable__label {background-color: #d4ebff;}#sk-container-id-6 div.sk-label input.sk-toggleable__control:checked~label.sk-toggleable__label {background-color: #d4ebff;}#sk-container-id-6 input.sk-hidden--visually {border: 0;clip: rect(1px 1px 1px 1px);clip: rect(1px, 1px, 1px, 1px);height: 1px;margin: -1px;overflow: hidden;padding: 0;position: absolute;width: 1px;}#sk-container-id-6 div.sk-estimator {font-family: monospace;background-color: #f0f8ff;border: 1px dotted black;border-radius: 0.25em;box-sizing: border-box;margin-bottom: 0.5em;}#sk-container-id-6 div.sk-estimator:hover {background-color: #d4ebff;}#sk-container-id-6 div.sk-parallel-item::after {content: \"\";width: 100%;border-bottom: 1px solid gray;flex-grow: 1;}#sk-container-id-6 div.sk-label:hover label.sk-toggleable__label {background-color: #d4ebff;}#sk-container-id-6 div.sk-serial::before {content: \"\";position: absolute;border-left: 1px solid gray;box-sizing: border-box;top: 0;bottom: 0;left: 50%;z-index: 0;}#sk-container-id-6 div.sk-serial {display: flex;flex-direction: column;align-items: center;background-color: white;padding-right: 0.2em;padding-left: 0.2em;position: relative;}#sk-container-id-6 div.sk-item {position: relative;z-index: 1;}#sk-container-id-6 div.sk-parallel {display: flex;align-items: stretch;justify-content: center;background-color: white;position: relative;}#sk-container-id-6 div.sk-item::before, #sk-container-id-6 div.sk-parallel-item::before {content: \"\";position: absolute;border-left: 1px solid gray;box-sizing: border-box;top: 0;bottom: 0;left: 50%;z-index: -1;}#sk-container-id-6 div.sk-parallel-item {display: flex;flex-direction: column;z-index: 1;position: relative;background-color: white;}#sk-container-id-6 div.sk-parallel-item:first-child::after {align-self: flex-end;width: 50%;}#sk-container-id-6 div.sk-parallel-item:last-child::after {align-self: flex-start;width: 50%;}#sk-container-id-6 div.sk-parallel-item:only-child::after {width: 0;}#sk-container-id-6 div.sk-dashed-wrapped {border: 1px dashed gray;margin: 0 0.4em 0.5em 0.4em;box-sizing: border-box;padding-bottom: 0.4em;background-color: white;}#sk-container-id-6 div.sk-label label {font-family: monospace;font-weight: bold;display: inline-block;line-height: 1.2em;}#sk-container-id-6 div.sk-label-container {text-align: center;}#sk-container-id-6 div.sk-container {/* jupyter's `normalize.less` sets `[hidden] { display: none; }` but bootstrap.min.css set `[hidden] { display: none !important; }` so we also need the `!important` here to be able to override the default hidden behavior on the sphinx rendered scikit-learn.org. See: https://github.com/scikit-learn/scikit-learn/issues/21755 */display: inline-block !important;position: relative;}#sk-container-id-6 div.sk-text-repr-fallback {display: none;}</style><div id=\"sk-container-id-6\" class=\"sk-top-container\"><div class=\"sk-text-repr-fallback\"><pre>RandomForestClassifier()</pre><b>In a Jupyter environment, please rerun this cell to show the HTML representation or trust the notebook. <br />On GitHub, the HTML representation is unable to render, please try loading this page with nbviewer.org.</b></div><div class=\"sk-container\" hidden><div class=\"sk-item\"><div class=\"sk-estimator sk-toggleable\"><input class=\"sk-toggleable__control sk-hidden--visually\" id=\"sk-estimator-id-6\" type=\"checkbox\" checked><label for=\"sk-estimator-id-6\" class=\"sk-toggleable__label sk-toggleable__label-arrow\">RandomForestClassifier</label><div class=\"sk-toggleable__content\"><pre>RandomForestClassifier()</pre></div></div></div></div></div>"
            ],
            "text/plain": [
              "RandomForestClassifier()"
            ]
          },
          "execution_count": 33,
          "metadata": {},
          "output_type": "execute_result"
        }
      ],
      "source": [
        "rf = RandomForestClassifier()\n",
        "rf.fit(X_train, y_train)"
      ]
    },
    {
      "cell_type": "code",
      "execution_count": null,
      "metadata": {
        "colab": {
          "base_uri": "https://localhost:8080/",
          "height": 74
        },
        "id": "d08bnzTZjzLN",
        "outputId": "86d178a2-ff90-46d2-94ca-f482e9d1e2b0"
      },
      "outputs": [
        {
          "data": {
            "text/html": [
              "<style>#sk-container-id-7 {color: black;background-color: white;}#sk-container-id-7 pre{padding: 0;}#sk-container-id-7 div.sk-toggleable {background-color: white;}#sk-container-id-7 label.sk-toggleable__label {cursor: pointer;display: block;width: 100%;margin-bottom: 0;padding: 0.3em;box-sizing: border-box;text-align: center;}#sk-container-id-7 label.sk-toggleable__label-arrow:before {content: \"▸\";float: left;margin-right: 0.25em;color: #696969;}#sk-container-id-7 label.sk-toggleable__label-arrow:hover:before {color: black;}#sk-container-id-7 div.sk-estimator:hover label.sk-toggleable__label-arrow:before {color: black;}#sk-container-id-7 div.sk-toggleable__content {max-height: 0;max-width: 0;overflow: hidden;text-align: left;background-color: #f0f8ff;}#sk-container-id-7 div.sk-toggleable__content pre {margin: 0.2em;color: black;border-radius: 0.25em;background-color: #f0f8ff;}#sk-container-id-7 input.sk-toggleable__control:checked~div.sk-toggleable__content {max-height: 200px;max-width: 100%;overflow: auto;}#sk-container-id-7 input.sk-toggleable__control:checked~label.sk-toggleable__label-arrow:before {content: \"▾\";}#sk-container-id-7 div.sk-estimator input.sk-toggleable__control:checked~label.sk-toggleable__label {background-color: #d4ebff;}#sk-container-id-7 div.sk-label input.sk-toggleable__control:checked~label.sk-toggleable__label {background-color: #d4ebff;}#sk-container-id-7 input.sk-hidden--visually {border: 0;clip: rect(1px 1px 1px 1px);clip: rect(1px, 1px, 1px, 1px);height: 1px;margin: -1px;overflow: hidden;padding: 0;position: absolute;width: 1px;}#sk-container-id-7 div.sk-estimator {font-family: monospace;background-color: #f0f8ff;border: 1px dotted black;border-radius: 0.25em;box-sizing: border-box;margin-bottom: 0.5em;}#sk-container-id-7 div.sk-estimator:hover {background-color: #d4ebff;}#sk-container-id-7 div.sk-parallel-item::after {content: \"\";width: 100%;border-bottom: 1px solid gray;flex-grow: 1;}#sk-container-id-7 div.sk-label:hover label.sk-toggleable__label {background-color: #d4ebff;}#sk-container-id-7 div.sk-serial::before {content: \"\";position: absolute;border-left: 1px solid gray;box-sizing: border-box;top: 0;bottom: 0;left: 50%;z-index: 0;}#sk-container-id-7 div.sk-serial {display: flex;flex-direction: column;align-items: center;background-color: white;padding-right: 0.2em;padding-left: 0.2em;position: relative;}#sk-container-id-7 div.sk-item {position: relative;z-index: 1;}#sk-container-id-7 div.sk-parallel {display: flex;align-items: stretch;justify-content: center;background-color: white;position: relative;}#sk-container-id-7 div.sk-item::before, #sk-container-id-7 div.sk-parallel-item::before {content: \"\";position: absolute;border-left: 1px solid gray;box-sizing: border-box;top: 0;bottom: 0;left: 50%;z-index: -1;}#sk-container-id-7 div.sk-parallel-item {display: flex;flex-direction: column;z-index: 1;position: relative;background-color: white;}#sk-container-id-7 div.sk-parallel-item:first-child::after {align-self: flex-end;width: 50%;}#sk-container-id-7 div.sk-parallel-item:last-child::after {align-self: flex-start;width: 50%;}#sk-container-id-7 div.sk-parallel-item:only-child::after {width: 0;}#sk-container-id-7 div.sk-dashed-wrapped {border: 1px dashed gray;margin: 0 0.4em 0.5em 0.4em;box-sizing: border-box;padding-bottom: 0.4em;background-color: white;}#sk-container-id-7 div.sk-label label {font-family: monospace;font-weight: bold;display: inline-block;line-height: 1.2em;}#sk-container-id-7 div.sk-label-container {text-align: center;}#sk-container-id-7 div.sk-container {/* jupyter's `normalize.less` sets `[hidden] { display: none; }` but bootstrap.min.css set `[hidden] { display: none !important; }` so we also need the `!important` here to be able to override the default hidden behavior on the sphinx rendered scikit-learn.org. See: https://github.com/scikit-learn/scikit-learn/issues/21755 */display: inline-block !important;position: relative;}#sk-container-id-7 div.sk-text-repr-fallback {display: none;}</style><div id=\"sk-container-id-7\" class=\"sk-top-container\"><div class=\"sk-text-repr-fallback\"><pre>GradientBoostingClassifier()</pre><b>In a Jupyter environment, please rerun this cell to show the HTML representation or trust the notebook. <br />On GitHub, the HTML representation is unable to render, please try loading this page with nbviewer.org.</b></div><div class=\"sk-container\" hidden><div class=\"sk-item\"><div class=\"sk-estimator sk-toggleable\"><input class=\"sk-toggleable__control sk-hidden--visually\" id=\"sk-estimator-id-7\" type=\"checkbox\" checked><label for=\"sk-estimator-id-7\" class=\"sk-toggleable__label sk-toggleable__label-arrow\">GradientBoostingClassifier</label><div class=\"sk-toggleable__content\"><pre>GradientBoostingClassifier()</pre></div></div></div></div></div>"
            ],
            "text/plain": [
              "GradientBoostingClassifier()"
            ]
          },
          "execution_count": 34,
          "metadata": {},
          "output_type": "execute_result"
        }
      ],
      "source": [
        "gb = GradientBoostingClassifier()\n",
        "gb.fit(X_train, y_train)"
      ]
    },
    {
      "cell_type": "code",
      "execution_count": null,
      "metadata": {
        "id": "UCeU3dAdjzPZ"
      },
      "outputs": [],
      "source": [
        "def model_evaluation (classifier):\n",
        "  cm = confusion_matrix(y_val, classifier.predict(X_val))\n",
        "  counts = [value for value in cm.flatten()]\n",
        "  labels = [f'{v1}' for v1 in counts]\n",
        "  labels = np.asarray(labels).reshape(2,2)\n",
        "  sns.heatmap(cm, annot = labels, cmap = 'Greens', fmt = '')\n",
        "  y_pred = classifier.predict(X_val)\n",
        "  yt_pred = classifier.predict(X_train)\n",
        "  print('The Training Accuracy of the algorithm is', accuracy_score (y_train, yt_pred))\n",
        "  print(\"The validation Accuracy of the algorithm is\", accuracy_score (y_val, y_pred))\n",
        "  return [ (accuracy_score (y_val * 100, y_pred * 100) * 100), (accuracy_score (y_val * 100, y_pred * 100) * 100), (f1_score (y_val,y_pred) ) ]"
      ]
    },
    {
      "cell_type": "code",
      "execution_count": null,
      "metadata": {
        "colab": {
          "base_uri": "https://localhost:8080/",
          "height": 465
        },
        "id": "Z-61uU-MjzRv",
        "outputId": "c244b5e5-d791-4938-9374-09266a8ad69e"
      },
      "outputs": [
        {
          "name": "stdout",
          "output_type": "stream",
          "text": [
            "The Training Accuracy of the algorithm is 0.8694649446494465\n",
            "The validation Accuracy of the algorithm is 0.7947929479294793\n"
          ]
        },
        {
          "data": {
            "image/png": "[encoded data removed]",
            "text/plain": [
              "<Figure size 640x480 with 2 Axes>"
            ]
          },
          "metadata": {},
          "output_type": "display_data"
        }
      ],
      "source": [
        "knn_r = model_evaluation(knn)"
      ]
    },
    {
      "cell_type": "code",
      "execution_count": null,
      "metadata": {
        "colab": {
          "base_uri": "https://localhost:8080/",
          "height": 465
        },
        "id": "4UzLj9POjzT_",
        "outputId": "888cacb3-856c-4ec6-8c74-0cc6f1b97665"
      },
      "outputs": [
        {
          "name": "stdout",
          "output_type": "stream",
          "text": [
            "The Training Accuracy of the algorithm is 0.694290692906929\n",
            "The validation Accuracy of the algorithm is 0.6883968839688397\n"
          ]
        },
        {
          "data": {
            "image/png": "[encoded data removed]",
            "text/plain": [
              "<Figure size 640x480 with 2 Axes>"
            ]
          },
          "metadata": {},
          "output_type": "display_data"
        }
      ],
      "source": [
        "svm_r = model_evaluation(svm)"
      ]
    },
    {
      "cell_type": "code",
      "execution_count": null,
      "metadata": {
        "colab": {
          "base_uri": "https://localhost:8080/",
          "height": 465
        },
        "id": "LDPH74wNjzWO",
        "outputId": "645a0550-2169-4aa0-9b0d-3db6d2f6d857"
      },
      "outputs": [
        {
          "name": "stdout",
          "output_type": "stream",
          "text": [
            "The Training Accuracy of the algorithm is 0.5445366953669537\n",
            "The validation Accuracy of the algorithm is 0.5604756047560475\n"
          ]
        },
        {
          "data": {
            "image/png": "[encoded data removed]",
            "text/plain": [
              "<Figure size 640x480 with 2 Axes>"
            ]
          },
          "metadata": {},
          "output_type": "display_data"
        }
      ],
      "source": [
        "gnb_r = model_evaluation(gnb)"
      ]
    },
    {
      "cell_type": "code",
      "execution_count": null,
      "metadata": {
        "colab": {
          "base_uri": "https://localhost:8080/",
          "height": 465
        },
        "id": "9hurnDs3jzYh",
        "outputId": "c973cdf8-7676-449a-f21d-7c61dcf910b8"
      },
      "outputs": [
        {
          "name": "stdout",
          "output_type": "stream",
          "text": [
            "The Training Accuracy of the algorithm is 0.7648113981139811\n",
            "The validation Accuracy of the algorithm is 0.7624026240262403\n"
          ]
        },
        {
          "data": {
            "image/png": "[encoded data removed]",
            "text/plain": [
              "<Figure size 640x480 with 2 Axes>"
            ]
          },
          "metadata": {},
          "output_type": "display_data"
        }
      ],
      "source": [
        "lr_r = model_evaluation(lr)"
      ]
    },
    {
      "cell_type": "code",
      "execution_count": null,
      "metadata": {
        "colab": {
          "base_uri": "https://localhost:8080/",
          "height": 465
        },
        "id": "kgxizCWmjzaz",
        "outputId": "e91b6f36-a297-439a-9eb4-d76a76002abf"
      },
      "outputs": [
        {
          "name": "stdout",
          "output_type": "stream",
          "text": [
            "The Training Accuracy of the algorithm is 0.995489954899549\n",
            "The validation Accuracy of the algorithm is 0.9114391143911439\n"
          ]
        },
        {
          "data": {
            "image/png": "[encoded data removed]",
            "text/plain": [
              "<Figure size 640x480 with 2 Axes>"
            ]
          },
          "metadata": {},
          "output_type": "display_data"
        }
      ],
      "source": [
        "dt_r = model_evaluation(dt)"
      ]
    },
    {
      "cell_type": "code",
      "execution_count": null,
      "metadata": {
        "colab": {
          "base_uri": "https://localhost:8080/",
          "height": 465
        },
        "id": "K3OIm-OKjzdp",
        "outputId": "ff5cd391-a1ab-4cfd-e6fe-5ce5a1f15f78"
      },
      "outputs": [
        {
          "name": "stdout",
          "output_type": "stream",
          "text": [
            "The Training Accuracy of the algorithm is 0.995489954899549\n",
            "The validation Accuracy of the algorithm is 0.9339893398933989\n"
          ]
        },
        {
          "data": {
            "image/png": "[encoded data removed]",
            "text/plain": [
              "<Figure size 640x480 with 2 Axes>"
            ]
          },
          "metadata": {},
          "output_type": "display_data"
        }
      ],
      "source": [
        "rf_r = model_evaluation(rf)"
      ]
    },
    {
      "cell_type": "code",
      "execution_count": null,
      "metadata": {
        "colab": {
          "base_uri": "https://localhost:8080/",
          "height": 465
        },
        "id": "QV_gTCjBjzgA",
        "outputId": "3e4d1448-da07-4581-8bf0-72ab364928c0"
      },
      "outputs": [
        {
          "name": "stdout",
          "output_type": "stream",
          "text": [
            "The Training Accuracy of the algorithm is 0.835690856908569\n",
            "The validation Accuracy of the algorithm is 0.8364083640836408\n"
          ]
        },
        {
          "data": {
            "image/png": "[encoded data removed]",
            "text/plain": [
              "<Figure size 640x480 with 2 Axes>"
            ]
          },
          "metadata": {},
          "output_type": "display_data"
        }
      ],
      "source": [
        "gb_r = model_evaluation(gb)"
      ]
    },
    {
      "cell_type": "code",
      "execution_count": null,
      "metadata": {
        "id": "fppxSLEajziT"
      },
      "outputs": [],
      "source": [
        "results = pd.DataFrame(data = [knn_r, svm_r, gnb_r, lr_r,dt_r, rf_r, gb_r],\n",
        "columns = ['Training Accuracy', 'Validation Accuracy', 'F1 Score'],\n",
        "                         index = ['K Nearest Neighbors', 'Support Vector Machines',\n",
        "                                  'Naive Bayes', 'Logistic Regression',\n",
        "                                  'Decision Tree', 'Random Forest', 'Gradient Boost'])"
      ]
    },
    {
      "cell_type": "code",
      "execution_count": null,
      "metadata": {
        "colab": {
          "base_uri": "https://localhost:8080/",
          "height": 269
        },
        "id": "xlD6GTCTjzkr",
        "outputId": "0b5be428-d88c-452e-ca53-c17915edcca4"
      },
      "outputs": [
        {
          "data": {
            "text/html": [
              "\n",
              "  <div id=\"df-7889fea0-de09-4357-8b67-4062b9e7d35a\" class=\"colab-df-container\">\n",
              "    <div>\n",
              "<style scoped>\n",
              "    .dataframe tbody tr th:only-of-type {\n",
              "        vertical-align: middle;\n",
              "    }\n",
              "\n",
              "    .dataframe tbody tr th {\n",
              "        vertical-align: top;\n",
              "    }\n",
              "\n",
              "    .dataframe thead th {\n",
              "        text-align: right;\n",
              "    }\n",
              "</style>\n",
              "<table border=\"1\" class=\"dataframe\">\n",
              "  <thead>\n",
              "    <tr style=\"text-align: right;\">\n",
              "      <th></th>\n",
              "      <th>Training Accuracy</th>\n",
              "      <th>Validation Accuracy</th>\n",
              "      <th>F1 Score</th>\n",
              "    </tr>\n",
              "  </thead>\n",
              "  <tbody>\n",
              "    <tr>\n",
              "      <th>K Nearest Neighbors</th>\n",
              "      <td>0.867261</td>\n",
              "      <td>0.793973</td>\n",
              "      <td>0.802048</td>\n",
              "    </tr>\n",
              "    <tr>\n",
              "      <th>Support Vector Machines</th>\n",
              "      <td>0.697263</td>\n",
              "      <td>0.684092</td>\n",
              "      <td>0.649215</td>\n",
              "    </tr>\n",
              "    <tr>\n",
              "      <th>Naive Bayes</th>\n",
              "      <td>0.569086</td>\n",
              "      <td>0.570316</td>\n",
              "      <td>0.697460</td>\n",
              "    </tr>\n",
              "    <tr>\n",
              "      <th>Logistic Regression</th>\n",
              "      <td>0.766451</td>\n",
              "      <td>0.753588</td>\n",
              "      <td>0.750415</td>\n",
              "    </tr>\n",
              "    <tr>\n",
              "      <th>Decision Tree</th>\n",
              "      <td>0.995695</td>\n",
              "      <td>0.910414</td>\n",
              "      <td>0.913688</td>\n",
              "    </tr>\n",
              "    <tr>\n",
              "      <th>Random Forest</th>\n",
              "      <td>0.995695</td>\n",
              "      <td>0.931119</td>\n",
              "      <td>0.932638</td>\n",
              "    </tr>\n",
              "    <tr>\n",
              "      <th>Gradient Boost</th>\n",
              "      <td>0.838048</td>\n",
              "      <td>0.822673</td>\n",
              "      <td>0.818392</td>\n",
              "    </tr>\n",
              "  </tbody>\n",
              "</table>\n",
              "</div>\n",
              "    <div class=\"colab-df-buttons\">\n",
              "\n",
              "  <div class=\"colab-df-container\">\n",
              "    <button class=\"colab-df-convert\" onclick=\"convertToInteractive('df-7889fea0-de09-4357-8b67-4062b9e7d35a')\"\n",
              "            title=\"Convert this dataframe to an interactive table.\"\n",
              "            style=\"display:none;\">\n",
              "\n",
              "  <svg xmlns=\"http://www.w3.org/2000/svg\" height=\"24px\" viewBox=\"0 -960 960 960\">\n",
              "    <path d=\"M120-120v-720h720v720H120Zm60-500h600v-160H180v160Zm220 220h160v-160H400v160Zm0 220h160v-160H400v160ZM180-400h160v-160H180v160Zm440 0h160v-160H620v160ZM180-180h160v-160H180v160Zm440 0h160v-160H620v160Z\"/>\n",
              "  </svg>\n",
              "    </button>\n",
              "\n",
              "  <style>\n",
              "    .colab-df-container {\n",
              "      display:flex;\n",
              "      gap: 12px;\n",
              "    }\n",
              "\n",
              "    .colab-df-convert {\n",
              "      background-color: #E8F0FE;\n",
              "      border: none;\n",
              "      border-radius: 50%;\n",
              "      cursor: pointer;\n",
              "      display: none;\n",
              "      fill: #1967D2;\n",
              "      height: 32px;\n",
              "      padding: 0 0 0 0;\n",
              "      width: 32px;\n",
              "    }\n",
              "\n",
              "    .colab-df-convert:hover {\n",
              "      background-color: #E2EBFA;\n",
              "      box-shadow: 0px 1px 2px rgba(60, 64, 67, 0.3), 0px 1px 3px 1px rgba(60, 64, 67, 0.15);\n",
              "      fill: #174EA6;\n",
              "    }\n",
              "\n",
              "    .colab-df-buttons div {\n",
              "      margin-bottom: 4px;\n",
              "    }\n",
              "\n",
              "    [theme=dark] .colab-df-convert {\n",
              "      background-color: #3B4455;\n",
              "      fill: #D2E3FC;\n",
              "    }\n",
              "\n",
              "    [theme=dark] .colab-df-convert:hover {\n",
              "      background-color: #434B5C;\n",
              "      box-shadow: 0px 1px 3px 1px rgba(0, 0, 0, 0.15);\n",
              "      filter: drop-shadow(0px 1px 2px rgba(0, 0, 0, 0.3));\n",
              "      fill: #FFFFFF;\n",
              "    }\n",
              "  </style>\n",
              "\n",
              "    <script>\n",
              "      const buttonEl =\n",
              "        document.querySelector('#df-7889fea0-de09-4357-8b67-4062b9e7d35a button.colab-df-convert');\n",
              "      buttonEl.style.display =\n",
              "        google.colab.kernel.accessAllowed ? 'block' : 'none';\n",
              "\n",
              "      async function convertToInteractive(key) {\n",
              "        const element = document.querySelector('#df-7889fea0-de09-4357-8b67-4062b9e7d35a');\n",
              "        const dataTable =\n",
              "          await google.colab.kernel.invokeFunction('convertToInteractive',\n",
              "                                                    [key], {});\n",
              "        if (!dataTable) return;\n",
              "\n",
              "        const docLinkHtml = 'Like what you see? Visit the ' +\n",
              "          '<a target=\"_blank\" href=https://colab.research.google.com/notebooks/data_table.ipynb>data table notebook</a>'\n",
              "          + ' to learn more about interactive tables.';\n",
              "        element.innerHTML = '';\n",
              "        dataTable['output_type'] = 'display_data';\n",
              "        await google.colab.output.renderOutput(dataTable, element);\n",
              "        const docLink = document.createElement('div');\n",
              "        docLink.innerHTML = docLinkHtml;\n",
              "        element.appendChild(docLink);\n",
              "      }\n",
              "    </script>\n",
              "  </div>\n",
              "\n",
              "\n",
              "<div id=\"df-0450662c-751d-4dc8-93cc-9b92918655bf\">\n",
              "  <button class=\"colab-df-quickchart\" onclick=\"quickchart('df-0450662c-751d-4dc8-93cc-9b92918655bf')\"\n",
              "            title=\"Suggest charts.\"\n",
              "            style=\"display:none;\">\n",
              "\n",
              "<svg xmlns=\"http://www.w3.org/2000/svg\" height=\"24px\"viewBox=\"0 0 24 24\"\n",
              "     width=\"24px\">\n",
              "    <g>\n",
              "        <path d=\"M19 3H5c-1.1 0-2 .9-2 2v14c0 1.1.9 2 2 2h14c1.1 0 2-.9 2-2V5c0-1.1-.9-2-2-2zM9 17H7v-7h2v7zm4 0h-2V7h2v10zm4 0h-2v-4h2v4z\"/>\n",
              "    </g>\n",
              "</svg>\n",
              "  </button>\n",
              "\n",
              "<style>\n",
              "  .colab-df-quickchart {\n",
              "      --bg-color: #E8F0FE;\n",
              "      --fill-color: #1967D2;\n",
              "      --hover-bg-color: #E2EBFA;\n",
              "      --hover-fill-color: #174EA6;\n",
              "      --disabled-fill-color: #AAA;\n",
              "      --disabled-bg-color: #DDD;\n",
              "  }\n",
              "\n",
              "  [theme=dark] .colab-df-quickchart {\n",
              "      --bg-color: #3B4455;\n",
              "      --fill-color: #D2E3FC;\n",
              "      --hover-bg-color: #434B5C;\n",
              "      --hover-fill-color: #FFFFFF;\n",
              "      --disabled-bg-color: #3B4455;\n",
              "      --disabled-fill-color: #666;\n",
              "  }\n",
              "\n",
              "  .colab-df-quickchart {\n",
              "    background-color: var(--bg-color);\n",
              "    border: none;\n",
              "    border-radius: 50%;\n",
              "    cursor: pointer;\n",
              "    display: none;\n",
              "    fill: var(--fill-color);\n",
              "    height: 32px;\n",
              "    padding: 0;\n",
              "    width: 32px;\n",
              "  }\n",
              "\n",
              "  .colab-df-quickchart:hover {\n",
              "    background-color: var(--hover-bg-color);\n",
              "    box-shadow: 0 1px 2px rgba(60, 64, 67, 0.3), 0 1px 3px 1px rgba(60, 64, 67, 0.15);\n",
              "    fill: var(--button-hover-fill-color);\n",
              "  }\n",
              "\n",
              "  .colab-df-quickchart-complete:disabled,\n",
              "  .colab-df-quickchart-complete:disabled:hover {\n",
              "    background-color: var(--disabled-bg-color);\n",
              "    fill: var(--disabled-fill-color);\n",
              "    box-shadow: none;\n",
              "  }\n",
              "\n",
              "  .colab-df-spinner {\n",
              "    border: 2px solid var(--fill-color);\n",
              "    border-color: transparent;\n",
              "    border-bottom-color: var(--fill-color);\n",
              "    animation:\n",
              "      spin 1s steps(1) infinite;\n",
              "  }\n",
              "\n",
              "  @keyframes spin {\n",
              "    0% {\n",
              "      border-color: transparent;\n",
              "      border-bottom-color: var(--fill-color);\n",
              "      border-left-color: var(--fill-color);\n",
              "    }\n",
              "    20% {\n",
              "      border-color: transparent;\n",
              "      border-left-color: var(--fill-color);\n",
              "      border-top-color: var(--fill-color);\n",
              "    }\n",
              "    30% {\n",
              "      border-color: transparent;\n",
              "      border-left-color: var(--fill-color);\n",
              "      border-top-color: var(--fill-color);\n",
              "      border-right-color: var(--fill-color);\n",
              "    }\n",
              "    40% {\n",
              "      border-color: transparent;\n",
              "      border-right-color: var(--fill-color);\n",
              "      border-top-color: var(--fill-color);\n",
              "    }\n",
              "    60% {\n",
              "      border-color: transparent;\n",
              "      border-right-color: var(--fill-color);\n",
              "    }\n",
              "    80% {\n",
              "      border-color: transparent;\n",
              "      border-right-color: var(--fill-color);\n",
              "      border-bottom-color: var(--fill-color);\n",
              "    }\n",
              "    90% {\n",
              "      border-color: transparent;\n",
              "      border-bottom-color: var(--fill-color);\n",
              "    }\n",
              "  }\n",
              "</style>\n",
              "\n",
              "  <script>\n",
              "    async function quickchart(key) {\n",
              "      const quickchartButtonEl =\n",
              "        document.querySelector('#' + key + ' button');\n",
              "      quickchartButtonEl.disabled = true;  // To prevent multiple clicks.\n",
              "      quickchartButtonEl.classList.add('colab-df-spinner');\n",
              "      try {\n",
              "        const charts = await google.colab.kernel.invokeFunction(\n",
              "            'suggestCharts', [key], {});\n",
              "      } catch (error) {\n",
              "        console.error('Error during call to suggestCharts:', error);\n",
              "      }\n",
              "      quickchartButtonEl.classList.remove('colab-df-spinner');\n",
              "      quickchartButtonEl.classList.add('colab-df-quickchart-complete');\n",
              "    }\n",
              "    (() => {\n",
              "      let quickchartButtonEl =\n",
              "        document.querySelector('#df-0450662c-751d-4dc8-93cc-9b92918655bf button');\n",
              "      quickchartButtonEl.style.display =\n",
              "        google.colab.kernel.accessAllowed ? 'block' : 'none';\n",
              "    })();\n",
              "  </script>\n",
              "</div>\n",
              "    </div>\n",
              "  </div>\n"
            ],
            "text/plain": [
              "                         Training Accuracy  Validation Accuracy  F1 Score\n",
              "K Nearest Neighbors               0.867261             0.793973  0.802048\n",
              "Support Vector Machines           0.697263             0.684092  0.649215\n",
              "Naive Bayes                       0.569086             0.570316  0.697460\n",
              "Logistic Regression               0.766451             0.753588  0.750415\n",
              "Decision Tree                     0.995695             0.910414  0.913688\n",
              "Random Forest                     0.995695             0.931119  0.932638\n",
              "Gradient Boost                    0.838048             0.822673  0.818392"
            ]
          },
          "execution_count": 57,
          "metadata": {},
          "output_type": "execute_result"
        }
      ],
      "source": [
        "results"
      ]
    },
    {
      "cell_type": "code",
      "execution_count": null,
      "metadata": {
        "id": "cVnboFbCjznC"
      },
      "outputs": [],
      "source": [
        "fi = rf.feature_importances_"
      ]
    },
    {
      "cell_type": "code",
      "execution_count": null,
      "metadata": {
        "id": "u2G7A4IIvvTO"
      },
      "outputs": [],
      "source": [
        "col = train.columns"
      ]
    },
    {
      "cell_type": "code",
      "execution_count": null,
      "metadata": {
        "id": "m5iuMin-vvVZ"
      },
      "outputs": [],
      "source": [
        "feat_imp = {}\n",
        "for i, j in zip(fi,col):\n",
        "  feat_imp[j] = i"
      ]
    },
    {
      "cell_type": "code",
      "execution_count": null,
      "metadata": {
        "colab": {
          "base_uri": "https://localhost:8080/"
        },
        "id": "GapgcZOLvvX0",
        "outputId": "fe7ab1cb-b9a0-46a3-f588-0fb187c6f827"
      },
      "outputs": [
        {
          "data": {
            "text/plain": [
              "{'no_of_adults': 0.023853935159905436,\n",
              " 'no_of_children': 0.007585799695709715,\n",
              " 'no_of_weekend_nights': 0.038155533171767037,\n",
              " 'no_of_week_nights': 0.05139025430087256,\n",
              " 'type_of_meal_plan': 0.02021957071369087,\n",
              " 'required_car_parking_space': 0.008101303327618234,\n",
              " 'room_type_reserved': 0.0163446205739642,\n",
              " 'lead_time': 0.3099435408953617,\n",
              " 'arrival_year': 0.02864703590832765,\n",
              " 'arrival_month': 0.08630044241359279,\n",
              " 'arrival_date': 0.08963493408948958,\n",
              " 'market_segment_type': 0.05550790297519834,\n",
              " 'repeated_guest': 0.0028184731008656376,\n",
              " 'no_of_previous_cancellations': 0.00036729796804076326,\n",
              " 'no_of_previous_bookings_not_canceled': 0.003032100762518287,\n",
              " 'avg_price_per_room': 0.15193900482448217,\n",
              " 'no_of_special_requests': 0.10615825011859505}"
            ]
          },
          "execution_count": 90,
          "metadata": {},
          "output_type": "execute_result"
        }
      ],
      "source": [
        "feat_imp"
      ]
    },
    {
      "cell_type": "code",
      "execution_count": null,
      "metadata": {
        "id": "B1jhe2iHvveq"
      },
      "outputs": [],
      "source": [
        "rfc_results = []"
      ]
    },
    {
      "cell_type": "code",
      "execution_count": null,
      "metadata": {
        "colab": {
          "background_save": true
        },
        "id": "lH9eN_PUsEYd",
        "outputId": "cec12b99-f2be-4650-8440-47bb9a8ba4eb"
      },
      "outputs": [
        {
          "ename": "IndentationError",
          "evalue": "ignored",
          "output_type": "error",
          "traceback": [
            "\u001b[0;36m  File \u001b[0;32m\"<ipython-input-96-10de65396fe8>\"\u001b[0;36m, line \u001b[0;32m3\u001b[0m\n\u001b[0;31m    rfc_results = []\u001b[0m\n\u001b[0m    ^\u001b[0m\n\u001b[0;31mIndentationError\u001b[0m\u001b[0;31m:\u001b[0m expected an indented block after function definition on line 2\n"
          ]
        }
      ],
      "source": [
        "#original\n",
        "def model_evaluation1(classifier):\n",
        "\n",
        "  for main in [0.03,0.025,0.020,0.014, 0.008]:\n",
        "    to_drop = []\n",
        "    for i,j in zip(feat_imp.keys(), feat_imp.values()):\n",
        "      if j < main:\n",
        "       to_drop.append(i)\n",
        "  X_new = X.drop (to_drop, axis = 1)\n",
        "  y_new = y\n",
        "  X1_train, X1_val, y1_train, y1_val = train_test_split(X_new, y_new, test_size=0.3)\n",
        "  rfc_new = RandomForestClassifier()\n",
        "  rfc_new.fit(X1_train, y1_train)\n",
        "  temp1 = model_evaluation1(X1_train.shape[1], rfc_new)\n",
        "  rfc_results.append(temp1)"
      ]
    },
    {
      "cell_type": "code",
      "execution_count": null,
      "metadata": {
        "id": "Y0fHJHDjvvgp"
      },
      "outputs": [],
      "source": [
        "#original\n",
        "def model_evaluation(classifier):\n",
        "\n",
        "  for main in [0.03,0.025,0.020,0.014, 0.008]:\n",
        "    to_drop = []\n",
        "    for i,j in zip(feat_imp.keys(), feat_imp.values()):\n",
        "      if j < main:\n",
        "       to_drop.append(i)\n",
        "  X_new = X.drop (to_drop, axis = 1)\n",
        "  y_new = y\n",
        "  X1_train, X1_val, y1_train, y1_val = train_test_split(X_new, y_new, test_size=0.3)\n",
        "  rfc_new = RandomForestClassifier()\n",
        "  rfc_new.fit(X1_train, y1_train)\n",
        "  temp1 = model_evaluation(X1_train.shape[1], rfc_new)\n",
        "  rfc_results.append(temp1)"
      ]
    },
    {
      "cell_type": "code",
      "execution_count": null,
      "metadata": {
        "id": "NLG7geFSjzpL"
      },
      "outputs": [],
      "source": [
        "for main in [0.03,0.025,0.020,0.014,0.008]:\n",
        "  to_drop = []\n",
        "  for i,j in zip(feat_imp.keys(),feat_imp.values()):\n",
        "    if j < main:\n",
        "      to_drop.append(i)\n",
        "  X_new = X.drop(to_drop,axis = 1)\n",
        "  y_new = y\n",
        "  X1_train, X1_val, y1_train, y1_val = train_test_split(X_new, y_new, test_size=0.2)\n",
        "  rfc_new = RandomForestClassifier()\n",
        "  rfc_new.fit(X1_train, y1_train)\n",
        "  temp1 = model_evaluation1(rfc_new, X1_train, y1_train, X1_val, y1_val)\n",
        "  rfc_results.append(temp1)"
      ]
    },
    {
      "cell_type": "code",
      "execution_count": null,
      "metadata": {
        "id": "5FunHWTlAUtc"
      },
      "outputs": [],
      "source": [
        "from sklearn.model_selection import GridSearchCV"
      ]
    },
    {
      "cell_type": "code",
      "execution_count": null,
      "metadata": {
        "colab": {
          "base_uri": "https://localhost:8080/",
          "height": 53
        },
        "id": "7Cfv4u7ss2H5",
        "outputId": "fda8b14e-4a8d-4f48-b777-13a72769b5d6"
      },
      "outputs": [
        {
          "data": {
            "text/html": [
              "\n",
              "  <div id=\"df-d7e96a68-a95b-4b1f-8962-909e5871fb97\" class=\"colab-df-container\">\n",
              "    <div>\n",
              "<style scoped>\n",
              "    .dataframe tbody tr th:only-of-type {\n",
              "        vertical-align: middle;\n",
              "    }\n",
              "\n",
              "    .dataframe tbody tr th {\n",
              "        vertical-align: top;\n",
              "    }\n",
              "\n",
              "    .dataframe thead th {\n",
              "        text-align: right;\n",
              "    }\n",
              "</style>\n",
              "<table border=\"1\" class=\"dataframe\">\n",
              "  <thead>\n",
              "    <tr style=\"text-align: right;\">\n",
              "      <th></th>\n",
              "      <th>Number of features</th>\n",
              "      <th>Training Accuracy</th>\n",
              "      <th>Validtion Accuracy</th>\n",
              "    </tr>\n",
              "  </thead>\n",
              "  <tbody>\n",
              "  </tbody>\n",
              "</table>\n",
              "</div>\n",
              "    <div class=\"colab-df-buttons\">\n",
              "\n",
              "  <div class=\"colab-df-container\">\n",
              "    <button class=\"colab-df-convert\" onclick=\"convertToInteractive('df-d7e96a68-a95b-4b1f-8962-909e5871fb97')\"\n",
              "            title=\"Convert this dataframe to an interactive table.\"\n",
              "            style=\"display:none;\">\n",
              "\n",
              "  <svg xmlns=\"http://www.w3.org/2000/svg\" height=\"24px\" viewBox=\"0 -960 960 960\">\n",
              "    <path d=\"M120-120v-720h720v720H120Zm60-500h600v-160H180v160Zm220 220h160v-160H400v160Zm0 220h160v-160H400v160ZM180-400h160v-160H180v160Zm440 0h160v-160H620v160ZM180-180h160v-160H180v160Zm440 0h160v-160H620v160Z\"/>\n",
              "  </svg>\n",
              "    </button>\n",
              "\n",
              "  <style>\n",
              "    .colab-df-container {\n",
              "      display:flex;\n",
              "      gap: 12px;\n",
              "    }\n",
              "\n",
              "    .colab-df-convert {\n",
              "      background-color: #E8F0FE;\n",
              "      border: none;\n",
              "      border-radius: 50%;\n",
              "      cursor: pointer;\n",
              "      display: none;\n",
              "      fill: #1967D2;\n",
              "      height: 32px;\n",
              "      padding: 0 0 0 0;\n",
              "      width: 32px;\n",
              "    }\n",
              "\n",
              "    .colab-df-convert:hover {\n",
              "      background-color: #E2EBFA;\n",
              "      box-shadow: 0px 1px 2px rgba(60, 64, 67, 0.3), 0px 1px 3px 1px rgba(60, 64, 67, 0.15);\n",
              "      fill: #174EA6;\n",
              "    }\n",
              "\n",
              "    .colab-df-buttons div {\n",
              "      margin-bottom: 4px;\n",
              "    }\n",
              "\n",
              "    [theme=dark] .colab-df-convert {\n",
              "      background-color: #3B4455;\n",
              "      fill: #D2E3FC;\n",
              "    }\n",
              "\n",
              "    [theme=dark] .colab-df-convert:hover {\n",
              "      background-color: #434B5C;\n",
              "      box-shadow: 0px 1px 3px 1px rgba(0, 0, 0, 0.15);\n",
              "      filter: drop-shadow(0px 1px 2px rgba(0, 0, 0, 0.3));\n",
              "      fill: #FFFFFF;\n",
              "    }\n",
              "  </style>\n",
              "\n",
              "    <script>\n",
              "      const buttonEl =\n",
              "        document.querySelector('#df-d7e96a68-a95b-4b1f-8962-909e5871fb97 button.colab-df-convert');\n",
              "      buttonEl.style.display =\n",
              "        google.colab.kernel.accessAllowed ? 'block' : 'none';\n",
              "\n",
              "      async function convertToInteractive(key) {\n",
              "        const element = document.querySelector('#df-d7e96a68-a95b-4b1f-8962-909e5871fb97');\n",
              "        const dataTable =\n",
              "          await google.colab.kernel.invokeFunction('convertToInteractive',\n",
              "                                                    [key], {});\n",
              "        if (!dataTable) return;\n",
              "\n",
              "        const docLinkHtml = 'Like what you see? Visit the ' +\n",
              "          '<a target=\"_blank\" href=https://colab.research.google.com/notebooks/data_table.ipynb>data table notebook</a>'\n",
              "          + ' to learn more about interactive tables.';\n",
              "        element.innerHTML = '';\n",
              "        dataTable['output_type'] = 'display_data';\n",
              "        await google.colab.output.renderOutput(dataTable, element);\n",
              "        const docLink = document.createElement('div');\n",
              "        docLink.innerHTML = docLinkHtml;\n",
              "        element.appendChild(docLink);\n",
              "      }\n",
              "    </script>\n",
              "  </div>\n",
              "\n",
              "    </div>\n",
              "  </div>\n"
            ],
            "text/plain": [
              "Empty DataFrame\n",
              "Columns: [Number of features, Training Accuracy, Validtion Accuracy]\n",
              "Index: []"
            ]
          },
          "execution_count": 95,
          "metadata": {},
          "output_type": "execute_result"
        }
      ],
      "source": [
        "randomf = pd.DataFrame(data = rfc_results,columns=['Number of features','Training Accuracy','Validtion Accuracy'])\n",
        "randomf"
      ]
    },
    {
      "cell_type": "code",
      "execution_count": null,
      "metadata": {
        "id": "Gk7uIL5WAUwM"
      },
      "outputs": [],
      "source": [
        "parameters = {\n",
        "              \"max_features\": [None, 6,7,8],\n",
        "              \"max_depth\": [None, 13, 15]\n",
        "              }"
      ]
    },
    {
      "cell_type": "code",
      "execution_count": null,
      "metadata": {
        "id": "voI6JCR9AUyS"
      },
      "outputs": [],
      "source": [
        "from sklearn.model_selection import KFold\n",
        "gdcv = GridSearchCV(estimator=rf, param_grid=parameters)"
      ]
    },
    {
      "cell_type": "code",
      "execution_count": null,
      "metadata": {
        "colab": {
          "base_uri": "https://localhost:8080/",
          "height": 117
        },
        "id": "A9XphlAMAU0_",
        "outputId": "0bc7ddd9-c1af-4e4c-af0a-cc38238a5997"
      },
      "outputs": [
        {
          "data": {
            "text/html": [
              "<style>#sk-container-id-10 {color: black;background-color: white;}#sk-container-id-10 pre{padding: 0;}#sk-container-id-10 div.sk-toggleable {background-color: white;}#sk-container-id-10 label.sk-toggleable__label {cursor: pointer;display: block;width: 100%;margin-bottom: 0;padding: 0.3em;box-sizing: border-box;text-align: center;}#sk-container-id-10 label.sk-toggleable__label-arrow:before {content: \"▸\";float: left;margin-right: 0.25em;color: #696969;}#sk-container-id-10 label.sk-toggleable__label-arrow:hover:before {color: black;}#sk-container-id-10 div.sk-estimator:hover label.sk-toggleable__label-arrow:before {color: black;}#sk-container-id-10 div.sk-toggleable__content {max-height: 0;max-width: 0;overflow: hidden;text-align: left;background-color: #f0f8ff;}#sk-container-id-10 div.sk-toggleable__content pre {margin: 0.2em;color: black;border-radius: 0.25em;background-color: #f0f8ff;}#sk-container-id-10 input.sk-toggleable__control:checked~div.sk-toggleable__content {max-height: 200px;max-width: 100%;overflow: auto;}#sk-container-id-10 input.sk-toggleable__control:checked~label.sk-toggleable__label-arrow:before {content: \"▾\";}#sk-container-id-10 div.sk-estimator input.sk-toggleable__control:checked~label.sk-toggleable__label {background-color: #d4ebff;}#sk-container-id-10 div.sk-label input.sk-toggleable__control:checked~label.sk-toggleable__label {background-color: #d4ebff;}#sk-container-id-10 input.sk-hidden--visually {border: 0;clip: rect(1px 1px 1px 1px);clip: rect(1px, 1px, 1px, 1px);height: 1px;margin: -1px;overflow: hidden;padding: 0;position: absolute;width: 1px;}#sk-container-id-10 div.sk-estimator {font-family: monospace;background-color: #f0f8ff;border: 1px dotted black;border-radius: 0.25em;box-sizing: border-box;margin-bottom: 0.5em;}#sk-container-id-10 div.sk-estimator:hover {background-color: #d4ebff;}#sk-container-id-10 div.sk-parallel-item::after {content: \"\";width: 100%;border-bottom: 1px solid gray;flex-grow: 1;}#sk-container-id-10 div.sk-label:hover label.sk-toggleable__label {background-color: #d4ebff;}#sk-container-id-10 div.sk-serial::before {content: \"\";position: absolute;border-left: 1px solid gray;box-sizing: border-box;top: 0;bottom: 0;left: 50%;z-index: 0;}#sk-container-id-10 div.sk-serial {display: flex;flex-direction: column;align-items: center;background-color: white;padding-right: 0.2em;padding-left: 0.2em;position: relative;}#sk-container-id-10 div.sk-item {position: relative;z-index: 1;}#sk-container-id-10 div.sk-parallel {display: flex;align-items: stretch;justify-content: center;background-color: white;position: relative;}#sk-container-id-10 div.sk-item::before, #sk-container-id-10 div.sk-parallel-item::before {content: \"\";position: absolute;border-left: 1px solid gray;box-sizing: border-box;top: 0;bottom: 0;left: 50%;z-index: -1;}#sk-container-id-10 div.sk-parallel-item {display: flex;flex-direction: column;z-index: 1;position: relative;background-color: white;}#sk-container-id-10 div.sk-parallel-item:first-child::after {align-self: flex-end;width: 50%;}#sk-container-id-10 div.sk-parallel-item:last-child::after {align-self: flex-start;width: 50%;}#sk-container-id-10 div.sk-parallel-item:only-child::after {width: 0;}#sk-container-id-10 div.sk-dashed-wrapped {border: 1px dashed gray;margin: 0 0.4em 0.5em 0.4em;box-sizing: border-box;padding-bottom: 0.4em;background-color: white;}#sk-container-id-10 div.sk-label label {font-family: monospace;font-weight: bold;display: inline-block;line-height: 1.2em;}#sk-container-id-10 div.sk-label-container {text-align: center;}#sk-container-id-10 div.sk-container {/* jupyter's `normalize.less` sets `[hidden] { display: none; }` but bootstrap.min.css set `[hidden] { display: none !important; }` so we also need the `!important` here to be able to override the default hidden behavior on the sphinx rendered scikit-learn.org. See: https://github.com/scikit-learn/scikit-learn/issues/21755 */display: inline-block !important;position: relative;}#sk-container-id-10 div.sk-text-repr-fallback {display: none;}</style><div id=\"sk-container-id-10\" class=\"sk-top-container\"><div class=\"sk-text-repr-fallback\"><pre>GridSearchCV(estimator=RandomForestClassifier(),\n",
              "             param_grid={&#x27;max_depth&#x27;: [None, 13, 15],\n",
              "                         &#x27;max_features&#x27;: [None, 6, 7, 8]})</pre><b>In a Jupyter environment, please rerun this cell to show the HTML representation or trust the notebook. <br />On GitHub, the HTML representation is unable to render, please try loading this page with nbviewer.org.</b></div><div class=\"sk-container\" hidden><div class=\"sk-item sk-dashed-wrapped\"><div class=\"sk-label-container\"><div class=\"sk-label sk-toggleable\"><input class=\"sk-toggleable__control sk-hidden--visually\" id=\"sk-estimator-id-12\" type=\"checkbox\" ><label for=\"sk-estimator-id-12\" class=\"sk-toggleable__label sk-toggleable__label-arrow\">GridSearchCV</label><div class=\"sk-toggleable__content\"><pre>GridSearchCV(estimator=RandomForestClassifier(),\n",
              "             param_grid={&#x27;max_depth&#x27;: [None, 13, 15],\n",
              "                         &#x27;max_features&#x27;: [None, 6, 7, 8]})</pre></div></div></div><div class=\"sk-parallel\"><div class=\"sk-parallel-item\"><div class=\"sk-item\"><div class=\"sk-label-container\"><div class=\"sk-label sk-toggleable\"><input class=\"sk-toggleable__control sk-hidden--visually\" id=\"sk-estimator-id-13\" type=\"checkbox\" ><label for=\"sk-estimator-id-13\" class=\"sk-toggleable__label sk-toggleable__label-arrow\">estimator: RandomForestClassifier</label><div class=\"sk-toggleable__content\"><pre>RandomForestClassifier()</pre></div></div></div><div class=\"sk-serial\"><div class=\"sk-item\"><div class=\"sk-estimator sk-toggleable\"><input class=\"sk-toggleable__control sk-hidden--visually\" id=\"sk-estimator-id-14\" type=\"checkbox\" ><label for=\"sk-estimator-id-14\" class=\"sk-toggleable__label sk-toggleable__label-arrow\">RandomForestClassifier</label><div class=\"sk-toggleable__content\"><pre>RandomForestClassifier()</pre></div></div></div></div></div></div></div></div></div></div>"
            ],
            "text/plain": [
              "GridSearchCV(estimator=RandomForestClassifier(),\n",
              "             param_grid={'max_depth': [None, 13, 15],\n",
              "                         'max_features': [None, 6, 7, 8]})"
            ]
          },
          "execution_count": 82,
          "metadata": {},
          "output_type": "execute_result"
        }
      ],
      "source": [
        "gdcv.fit(X_train, y_train)"
      ]
    },
    {
      "cell_type": "code",
      "execution_count": null,
      "metadata": {
        "colab": {
          "base_uri": "https://localhost:8080/"
        },
        "id": "CnEVXcgSAU3o",
        "outputId": "f6fce679-8dc5-4972-8a16-20a5ffc9f332"
      },
      "outputs": [
        {
          "data": {
            "text/plain": [
              "{'max_depth': None, 'max_features': 7}"
            ]
          },
          "execution_count": 64,
          "metadata": {},
          "output_type": "execute_result"
        }
      ],
      "source": [
        "gdcv.best_params_"
      ]
    },
    {
      "cell_type": "code",
      "execution_count": null,
      "metadata": {
        "colab": {
          "base_uri": "https://localhost:8080/",
          "height": 74
        },
        "id": "HvJ4FBBDFAXD",
        "outputId": "b7dce63f-0e68-4404-949c-529a6310fcaa"
      },
      "outputs": [
        {
          "data": {
            "text/html": [
              "<style>#sk-container-id-9 {color: black;background-color: white;}#sk-container-id-9 pre{padding: 0;}#sk-container-id-9 div.sk-toggleable {background-color: white;}#sk-container-id-9 label.sk-toggleable__label {cursor: pointer;display: block;width: 100%;margin-bottom: 0;padding: 0.3em;box-sizing: border-box;text-align: center;}#sk-container-id-9 label.sk-toggleable__label-arrow:before {content: \"▸\";float: left;margin-right: 0.25em;color: #696969;}#sk-container-id-9 label.sk-toggleable__label-arrow:hover:before {color: black;}#sk-container-id-9 div.sk-estimator:hover label.sk-toggleable__label-arrow:before {color: black;}#sk-container-id-9 div.sk-toggleable__content {max-height: 0;max-width: 0;overflow: hidden;text-align: left;background-color: #f0f8ff;}#sk-container-id-9 div.sk-toggleable__content pre {margin: 0.2em;color: black;border-radius: 0.25em;background-color: #f0f8ff;}#sk-container-id-9 input.sk-toggleable__control:checked~div.sk-toggleable__content {max-height: 200px;max-width: 100%;overflow: auto;}#sk-container-id-9 input.sk-toggleable__control:checked~label.sk-toggleable__label-arrow:before {content: \"▾\";}#sk-container-id-9 div.sk-estimator input.sk-toggleable__control:checked~label.sk-toggleable__label {background-color: #d4ebff;}#sk-container-id-9 div.sk-label input.sk-toggleable__control:checked~label.sk-toggleable__label {background-color: #d4ebff;}#sk-container-id-9 input.sk-hidden--visually {border: 0;clip: rect(1px 1px 1px 1px);clip: rect(1px, 1px, 1px, 1px);height: 1px;margin: -1px;overflow: hidden;padding: 0;position: absolute;width: 1px;}#sk-container-id-9 div.sk-estimator {font-family: monospace;background-color: #f0f8ff;border: 1px dotted black;border-radius: 0.25em;box-sizing: border-box;margin-bottom: 0.5em;}#sk-container-id-9 div.sk-estimator:hover {background-color: #d4ebff;}#sk-container-id-9 div.sk-parallel-item::after {content: \"\";width: 100%;border-bottom: 1px solid gray;flex-grow: 1;}#sk-container-id-9 div.sk-label:hover label.sk-toggleable__label {background-color: #d4ebff;}#sk-container-id-9 div.sk-serial::before {content: \"\";position: absolute;border-left: 1px solid gray;box-sizing: border-box;top: 0;bottom: 0;left: 50%;z-index: 0;}#sk-container-id-9 div.sk-serial {display: flex;flex-direction: column;align-items: center;background-color: white;padding-right: 0.2em;padding-left: 0.2em;position: relative;}#sk-container-id-9 div.sk-item {position: relative;z-index: 1;}#sk-container-id-9 div.sk-parallel {display: flex;align-items: stretch;justify-content: center;background-color: white;position: relative;}#sk-container-id-9 div.sk-item::before, #sk-container-id-9 div.sk-parallel-item::before {content: \"\";position: absolute;border-left: 1px solid gray;box-sizing: border-box;top: 0;bottom: 0;left: 50%;z-index: -1;}#sk-container-id-9 div.sk-parallel-item {display: flex;flex-direction: column;z-index: 1;position: relative;background-color: white;}#sk-container-id-9 div.sk-parallel-item:first-child::after {align-self: flex-end;width: 50%;}#sk-container-id-9 div.sk-parallel-item:last-child::after {align-self: flex-start;width: 50%;}#sk-container-id-9 div.sk-parallel-item:only-child::after {width: 0;}#sk-container-id-9 div.sk-dashed-wrapped {border: 1px dashed gray;margin: 0 0.4em 0.5em 0.4em;box-sizing: border-box;padding-bottom: 0.4em;background-color: white;}#sk-container-id-9 div.sk-label label {font-family: monospace;font-weight: bold;display: inline-block;line-height: 1.2em;}#sk-container-id-9 div.sk-label-container {text-align: center;}#sk-container-id-9 div.sk-container {/* jupyter's `normalize.less` sets `[hidden] { display: none; }` but bootstrap.min.css set `[hidden] { display: none !important; }` so we also need the `!important` here to be able to override the default hidden behavior on the sphinx rendered scikit-learn.org. See: https://github.com/scikit-learn/scikit-learn/issues/21755 */display: inline-block !important;position: relative;}#sk-container-id-9 div.sk-text-repr-fallback {display: none;}</style><div id=\"sk-container-id-9\" class=\"sk-top-container\"><div class=\"sk-text-repr-fallback\"><pre>RandomForestClassifier(max_depth=15, max_features=6)</pre><b>In a Jupyter environment, please rerun this cell to show the HTML representation or trust the notebook. <br />On GitHub, the HTML representation is unable to render, please try loading this page with nbviewer.org.</b></div><div class=\"sk-container\" hidden><div class=\"sk-item\"><div class=\"sk-estimator sk-toggleable\"><input class=\"sk-toggleable__control sk-hidden--visually\" id=\"sk-estimator-id-11\" type=\"checkbox\" checked><label for=\"sk-estimator-id-11\" class=\"sk-toggleable__label sk-toggleable__label-arrow\">RandomForestClassifier</label><div class=\"sk-toggleable__content\"><pre>RandomForestClassifier(max_depth=15, max_features=6)</pre></div></div></div></div></div>"
            ],
            "text/plain": [
              "RandomForestClassifier(max_depth=15, max_features=6)"
            ]
          },
          "execution_count": 65,
          "metadata": {},
          "output_type": "execute_result"
        }
      ],
      "source": [
        "rf_new = RandomForestClassifier (max_depth=15, max_features = 6)\n",
        "rf_new.fit(X_train, y_train)"
      ]
    },
    {
      "cell_type": "code",
      "execution_count": null,
      "metadata": {
        "colab": {
          "base_uri": "https://localhost:8080/",
          "height": 485
        },
        "id": "d9037k7gFAap",
        "outputId": "b4b94181-1375-411c-8a17-b605332b1ab1"
      },
      "outputs": [
        {
          "name": "stdout",
          "output_type": "stream",
          "text": [
            "The Training Accuracy of the algorithm is 0.9478269782697827\n",
            "The validation Accuracy of the algorithm is 0.9110291102911029\n"
          ]
        },
        {
          "data": {
            "text/plain": [
              "[91.10291102911029, 91.10291102911029, 0.9124647035094796]"
            ]
          },
          "execution_count": 83,
          "metadata": {},
          "output_type": "execute_result"
        },
        {
          "data": {
            "image/png": "[encoded data removed]",
            "text/plain": [
              "<Figure size 640x480 with 2 Axes>"
            ]
          },
          "metadata": {},
          "output_type": "display_data"
        }
      ],
      "source": [
        "model_evaluation(rf_new)"
      ]
    },
    {
      "cell_type": "code",
      "execution_count": null,
      "metadata": {
        "id": "qoWEYWDfFgOK"
      },
      "outputs": [],
      "source": [
        "pred = rf_new.predict(X_val)"
      ]
    },
    {
      "cell_type": "code",
      "execution_count": null,
      "metadata": {
        "colab": {
          "base_uri": "https://localhost:8080/"
        },
        "id": "kyV8QAgtFgRP",
        "outputId": "848b4302-72dd-4333-eabf-f4f86cbabd18"
      },
      "outputs": [
        {
          "data": {
            "text/plain": [
              "array([0, 1, 1, ..., 1, 0, 0])"
            ]
          },
          "execution_count": 85,
          "metadata": {},
          "output_type": "execute_result"
        }
      ],
      "source": [
        "pred"
      ]
    },
    {
      "cell_type": "code",
      "execution_count": null,
      "metadata": {
        "colab": {
          "base_uri": "https://localhost:8080/",
          "height": 423
        },
        "id": "mZ_tYVLvFgUy",
        "outputId": "60ebc4b6-88d4-4084-917f-03efda08a39e"
      },
      "outputs": [
        {
          "data": {
            "text/html": [
              "\n",
              "  <div id=\"df-cd753685-5803-4b0c-9408-22dc5bf6e775\" class=\"colab-df-container\">\n",
              "    <div>\n",
              "<style scoped>\n",
              "    .dataframe tbody tr th:only-of-type {\n",
              "        vertical-align: middle;\n",
              "    }\n",
              "\n",
              "    .dataframe tbody tr th {\n",
              "        vertical-align: top;\n",
              "    }\n",
              "\n",
              "    .dataframe thead th {\n",
              "        text-align: right;\n",
              "    }\n",
              "</style>\n",
              "<table border=\"1\" class=\"dataframe\">\n",
              "  <thead>\n",
              "    <tr style=\"text-align: right;\">\n",
              "      <th></th>\n",
              "      <th>Original</th>\n",
              "      <th>Predicted</th>\n",
              "    </tr>\n",
              "  </thead>\n",
              "  <tbody>\n",
              "    <tr>\n",
              "      <th>3567</th>\n",
              "      <td>0</td>\n",
              "      <td>0</td>\n",
              "    </tr>\n",
              "    <tr>\n",
              "      <th>18835</th>\n",
              "      <td>1</td>\n",
              "      <td>1</td>\n",
              "    </tr>\n",
              "    <tr>\n",
              "      <th>5279</th>\n",
              "      <td>1</td>\n",
              "      <td>1</td>\n",
              "    </tr>\n",
              "    <tr>\n",
              "      <th>9688</th>\n",
              "      <td>0</td>\n",
              "      <td>0</td>\n",
              "    </tr>\n",
              "    <tr>\n",
              "      <th>12298</th>\n",
              "      <td>1</td>\n",
              "      <td>0</td>\n",
              "    </tr>\n",
              "    <tr>\n",
              "      <th>...</th>\n",
              "      <td>...</td>\n",
              "      <td>...</td>\n",
              "    </tr>\n",
              "    <tr>\n",
              "      <th>2820</th>\n",
              "      <td>0</td>\n",
              "      <td>0</td>\n",
              "    </tr>\n",
              "    <tr>\n",
              "      <th>22567</th>\n",
              "      <td>1</td>\n",
              "      <td>1</td>\n",
              "    </tr>\n",
              "    <tr>\n",
              "      <th>24236</th>\n",
              "      <td>1</td>\n",
              "      <td>1</td>\n",
              "    </tr>\n",
              "    <tr>\n",
              "      <th>10885</th>\n",
              "      <td>0</td>\n",
              "      <td>0</td>\n",
              "    </tr>\n",
              "    <tr>\n",
              "      <th>168</th>\n",
              "      <td>0</td>\n",
              "      <td>0</td>\n",
              "    </tr>\n",
              "  </tbody>\n",
              "</table>\n",
              "<p>4878 rows × 2 columns</p>\n",
              "</div>\n",
              "    <div class=\"colab-df-buttons\">\n",
              "\n",
              "  <div class=\"colab-df-container\">\n",
              "    <button class=\"colab-df-convert\" onclick=\"convertToInteractive('df-cd753685-5803-4b0c-9408-22dc5bf6e775')\"\n",
              "            title=\"Convert this dataframe to an interactive table.\"\n",
              "            style=\"display:none;\">\n",
              "\n",
              "  <svg xmlns=\"http://www.w3.org/2000/svg\" height=\"24px\" viewBox=\"0 -960 960 960\">\n",
              "    <path d=\"M120-120v-720h720v720H120Zm60-500h600v-160H180v160Zm220 220h160v-160H400v160Zm0 220h160v-160H400v160ZM180-400h160v-160H180v160Zm440 0h160v-160H620v160ZM180-180h160v-160H180v160Zm440 0h160v-160H620v160Z\"/>\n",
              "  </svg>\n",
              "    </button>\n",
              "\n",
              "  <style>\n",
              "    .colab-df-container {\n",
              "      display:flex;\n",
              "      gap: 12px;\n",
              "    }\n",
              "\n",
              "    .colab-df-convert {\n",
              "      background-color: #E8F0FE;\n",
              "      border: none;\n",
              "      border-radius: 50%;\n",
              "      cursor: pointer;\n",
              "      display: none;\n",
              "      fill: #1967D2;\n",
              "      height: 32px;\n",
              "      padding: 0 0 0 0;\n",
              "      width: 32px;\n",
              "    }\n",
              "\n",
              "    .colab-df-convert:hover {\n",
              "      background-color: #E2EBFA;\n",
              "      box-shadow: 0px 1px 2px rgba(60, 64, 67, 0.3), 0px 1px 3px 1px rgba(60, 64, 67, 0.15);\n",
              "      fill: #174EA6;\n",
              "    }\n",
              "\n",
              "    .colab-df-buttons div {\n",
              "      margin-bottom: 4px;\n",
              "    }\n",
              "\n",
              "    [theme=dark] .colab-df-convert {\n",
              "      background-color: #3B4455;\n",
              "      fill: #D2E3FC;\n",
              "    }\n",
              "\n",
              "    [theme=dark] .colab-df-convert:hover {\n",
              "      background-color: #434B5C;\n",
              "      box-shadow: 0px 1px 3px 1px rgba(0, 0, 0, 0.15);\n",
              "      filter: drop-shadow(0px 1px 2px rgba(0, 0, 0, 0.3));\n",
              "      fill: #FFFFFF;\n",
              "    }\n",
              "  </style>\n",
              "\n",
              "    <script>\n",
              "      const buttonEl =\n",
              "        document.querySelector('#df-cd753685-5803-4b0c-9408-22dc5bf6e775 button.colab-df-convert');\n",
              "      buttonEl.style.display =\n",
              "        google.colab.kernel.accessAllowed ? 'block' : 'none';\n",
              "\n",
              "      async function convertToInteractive(key) {\n",
              "        const element = document.querySelector('#df-cd753685-5803-4b0c-9408-22dc5bf6e775');\n",
              "        const dataTable =\n",
              "          await google.colab.kernel.invokeFunction('convertToInteractive',\n",
              "                                                    [key], {});\n",
              "        if (!dataTable) return;\n",
              "\n",
              "        const docLinkHtml = 'Like what you see? Visit the ' +\n",
              "          '<a target=\"_blank\" href=https://colab.research.google.com/notebooks/data_table.ipynb>data table notebook</a>'\n",
              "          + ' to learn more about interactive tables.';\n",
              "        element.innerHTML = '';\n",
              "        dataTable['output_type'] = 'display_data';\n",
              "        await google.colab.output.renderOutput(dataTable, element);\n",
              "        const docLink = document.createElement('div');\n",
              "        docLink.innerHTML = docLinkHtml;\n",
              "        element.appendChild(docLink);\n",
              "      }\n",
              "    </script>\n",
              "  </div>\n",
              "\n",
              "\n",
              "<div id=\"df-eba03aab-4e1d-4e6d-ae27-e751bb8f0292\">\n",
              "  <button class=\"colab-df-quickchart\" onclick=\"quickchart('df-eba03aab-4e1d-4e6d-ae27-e751bb8f0292')\"\n",
              "            title=\"Suggest charts.\"\n",
              "            style=\"display:none;\">\n",
              "\n",
              "<svg xmlns=\"http://www.w3.org/2000/svg\" height=\"24px\"viewBox=\"0 0 24 24\"\n",
              "     width=\"24px\">\n",
              "    <g>\n",
              "        <path d=\"M19 3H5c-1.1 0-2 .9-2 2v14c0 1.1.9 2 2 2h14c1.1 0 2-.9 2-2V5c0-1.1-.9-2-2-2zM9 17H7v-7h2v7zm4 0h-2V7h2v10zm4 0h-2v-4h2v4z\"/>\n",
              "    </g>\n",
              "</svg>\n",
              "  </button>\n",
              "\n",
              "<style>\n",
              "  .colab-df-quickchart {\n",
              "      --bg-color: #E8F0FE;\n",
              "      --fill-color: #1967D2;\n",
              "      --hover-bg-color: #E2EBFA;\n",
              "      --hover-fill-color: #174EA6;\n",
              "      --disabled-fill-color: #AAA;\n",
              "      --disabled-bg-color: #DDD;\n",
              "  }\n",
              "\n",
              "  [theme=dark] .colab-df-quickchart {\n",
              "      --bg-color: #3B4455;\n",
              "      --fill-color: #D2E3FC;\n",
              "      --hover-bg-color: #434B5C;\n",
              "      --hover-fill-color: #FFFFFF;\n",
              "      --disabled-bg-color: #3B4455;\n",
              "      --disabled-fill-color: #666;\n",
              "  }\n",
              "\n",
              "  .colab-df-quickchart {\n",
              "    background-color: var(--bg-color);\n",
              "    border: none;\n",
              "    border-radius: 50%;\n",
              "    cursor: pointer;\n",
              "    display: none;\n",
              "    fill: var(--fill-color);\n",
              "    height: 32px;\n",
              "    padding: 0;\n",
              "    width: 32px;\n",
              "  }\n",
              "\n",
              "  .colab-df-quickchart:hover {\n",
              "    background-color: var(--hover-bg-color);\n",
              "    box-shadow: 0 1px 2px rgba(60, 64, 67, 0.3), 0 1px 3px 1px rgba(60, 64, 67, 0.15);\n",
              "    fill: var(--button-hover-fill-color);\n",
              "  }\n",
              "\n",
              "  .colab-df-quickchart-complete:disabled,\n",
              "  .colab-df-quickchart-complete:disabled:hover {\n",
              "    background-color: var(--disabled-bg-color);\n",
              "    fill: var(--disabled-fill-color);\n",
              "    box-shadow: none;\n",
              "  }\n",
              "\n",
              "  .colab-df-spinner {\n",
              "    border: 2px solid var(--fill-color);\n",
              "    border-color: transparent;\n",
              "    border-bottom-color: var(--fill-color);\n",
              "    animation:\n",
              "      spin 1s steps(1) infinite;\n",
              "  }\n",
              "\n",
              "  @keyframes spin {\n",
              "    0% {\n",
              "      border-color: transparent;\n",
              "      border-bottom-color: var(--fill-color);\n",
              "      border-left-color: var(--fill-color);\n",
              "    }\n",
              "    20% {\n",
              "      border-color: transparent;\n",
              "      border-left-color: var(--fill-color);\n",
              "      border-top-color: var(--fill-color);\n",
              "    }\n",
              "    30% {\n",
              "      border-color: transparent;\n",
              "      border-left-color: var(--fill-color);\n",
              "      border-top-color: var(--fill-color);\n",
              "      border-right-color: var(--fill-color);\n",
              "    }\n",
              "    40% {\n",
              "      border-color: transparent;\n",
              "      border-right-color: var(--fill-color);\n",
              "      border-top-color: var(--fill-color);\n",
              "    }\n",
              "    60% {\n",
              "      border-color: transparent;\n",
              "      border-right-color: var(--fill-color);\n",
              "    }\n",
              "    80% {\n",
              "      border-color: transparent;\n",
              "      border-right-color: var(--fill-color);\n",
              "      border-bottom-color: var(--fill-color);\n",
              "    }\n",
              "    90% {\n",
              "      border-color: transparent;\n",
              "      border-bottom-color: var(--fill-color);\n",
              "    }\n",
              "  }\n",
              "</style>\n",
              "\n",
              "  <script>\n",
              "    async function quickchart(key) {\n",
              "      const quickchartButtonEl =\n",
              "        document.querySelector('#' + key + ' button');\n",
              "      quickchartButtonEl.disabled = true;  // To prevent multiple clicks.\n",
              "      quickchartButtonEl.classList.add('colab-df-spinner');\n",
              "      try {\n",
              "        const charts = await google.colab.kernel.invokeFunction(\n",
              "            'suggestCharts', [key], {});\n",
              "      } catch (error) {\n",
              "        console.error('Error during call to suggestCharts:', error);\n",
              "      }\n",
              "      quickchartButtonEl.classList.remove('colab-df-spinner');\n",
              "      quickchartButtonEl.classList.add('colab-df-quickchart-complete');\n",
              "    }\n",
              "    (() => {\n",
              "      let quickchartButtonEl =\n",
              "        document.querySelector('#df-eba03aab-4e1d-4e6d-ae27-e751bb8f0292 button');\n",
              "      quickchartButtonEl.style.display =\n",
              "        google.colab.kernel.accessAllowed ? 'block' : 'none';\n",
              "    })();\n",
              "  </script>\n",
              "</div>\n",
              "    </div>\n",
              "  </div>\n"
            ],
            "text/plain": [
              "       Original  Predicted\n",
              "3567          0          0\n",
              "18835         1          1\n",
              "5279          1          1\n",
              "9688          0          0\n",
              "12298         1          0\n",
              "...         ...        ...\n",
              "2820          0          0\n",
              "22567         1          1\n",
              "24236         1          1\n",
              "10885         0          0\n",
              "168           0          0\n",
              "\n",
              "[4878 rows x 2 columns]"
            ]
          },
          "execution_count": 86,
          "metadata": {},
          "output_type": "execute_result"
        }
      ],
      "source": [
        "pd.DataFrame({'Original': y_val, 'Predicted': pred})"
      ]
    },
    {
      "cell_type": "code",
      "execution_count": null,
      "metadata": {
        "id": "DMc7t7u7FgX_"
      },
      "outputs": [],
      "source": [
        "pickle.dump (rf_new, open('model.pkl', 'wb'))"
      ]
    },
    {
      "cell_type": "code",
      "execution_count": null,
      "metadata": {
        "colab": {
          "base_uri": "https://localhost:8080/"
        },
        "id": "ZtblrhdDFAey",
        "outputId": "07ce9ee8-60ff-4e90-82db-f29ca75bed53"
      },
      "outputs": [
        {
          "name": "stdout",
          "output_type": "stream",
          "text": [
            "Training Feature Names: ['no_of_adults', 'no_of_children', 'no_of_weekend_nights', 'no_of_week_nights', 'type_of_meal_plan', 'required_car_parking_space', 'room_type_reserved', 'lead_time', 'arrival_year', 'arrival_month', 'arrival_date', 'market_segment_type', 'repeated_guest', 'no_of_previous_cancellations', 'no_of_previous_bookings_not_canceled', 'avg_price_per_room', 'no_of_special_requests']\n"
          ]
        }
      ],
      "source": [
        "# Check feature names in training data\n",
        "print(\"Training Feature Names:\", X_train.columns.tolist())\n",
        "\n",
        "\n"
      ]
    },
    {
      "cell_type": "code",
      "execution_count": null,
      "metadata": {
        "colab": {
          "base_uri": "https://localhost:8080/"
        },
        "id": "sEvzcCT-FAhf",
        "outputId": "2c92a37d-6fae-4f64-a2f0-bb9eb27683cb"
      },
      "outputs": [
        {
          "name": "stdout",
          "output_type": "stream",
          "text": [
            "Validation Feature Names: ['no_of_adults', 'no_of_children', 'no_of_weekend_nights', 'no_of_week_nights', 'type_of_meal_plan', 'required_car_parking_space', 'room_type_reserved', 'lead_time', 'arrival_year', 'arrival_month', 'arrival_date', 'market_segment_type', 'repeated_guest', 'no_of_previous_cancellations', 'no_of_previous_bookings_not_canceled', 'avg_price_per_room', 'no_of_special_requests']\n"
          ]
        }
      ],
      "source": [
        "\n",
        "\n",
        "# Check feature names in validation data\n",
        "print(\"Validation Feature Names:\", X_val.columns.tolist())\n"
      ]
    },
    {
      "cell_type": "code",
      "execution_count": null,
      "metadata": {
        "id": "D9oFDgxdhhWo"
      },
      "outputs": [],
      "source": [
        "import pandas as pd\n",
        "\n",
        "if not X_train.columns.equals(X_val.columns):\n",
        "    print(\"Column mismatch between X_train and X_val\")\n"
      ]
    },
    {
      "cell_type": "code",
      "execution_count": null,
      "metadata": {
        "id": "G-p0chffhhTB"
      },
      "outputs": [],
      "source": []
    },
    {
      "cell_type": "code",
      "execution_count": null,
      "metadata": {
        "id": "qmojOtc_hhPO"
      },
      "outputs": [],
      "source": []
    },
    {
      "cell_type": "code",
      "execution_count": null,
      "metadata": {
        "id": "2etcOBEUhhNC"
      },
      "outputs": [],
      "source": []
    }
  ],
  "metadata": {
    "colab": {
      "provenance": []
    },
    "kernelspec": {
      "display_name": "Python 3",
      "name": "python3"
    },
    "language_info": {
      "name": "python"
    }
  },
  "nbformat": 4,
  "nbformat_minor": 0
}